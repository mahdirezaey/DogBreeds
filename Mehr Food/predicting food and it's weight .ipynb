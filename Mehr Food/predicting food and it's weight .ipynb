{
 "cells": [
  {
   "cell_type": "code",
   "execution_count": 13,
   "metadata": {},
   "outputs": [],
   "source": [
    "main_dish = [\"قورمه\", \"قرمه\", \"فسنجون\" ,\"آلو اسفناج\" , \"کرفس\" , \"بامیه\" , \"قیمه\" , \"مرغ\"\n",
    "          , \"گوشت\",\"الویه\",\"سالاد ماکارانی\" , \"ماکارانی\" ,\"املت\" , \"دلمه\" , \"عدس\" , \"کوفته\"\n",
    "          ,\"ماهی\" , \"پیتزا\" , \"ساندویچ\" , \"میگو\" , \"تن ماهی\" , \"کوکو\" , \"کوکو سبزی\" , \"کوکو سیب زمینی\",\"کتلت\" , \"کوکو مرغ\"\n",
    "          , \"ته چین\" , \"رولت گوشت\" , \"کلم پلو\" , \"هویج پلو\" , \"حلیم بادمجان\" , \"هلیم بادمجان\" , \"کباب\" , \"جوجه کباب\" , \"جوجه\"\n",
    "          , \"دمپخت\" , \"کوبیده\" , \"نودل\" , \"کشک بادمجان\" , \"کشک بادمجون\" , \"بادمجون\" ,\"بادمجان\" , \"شامی\" , \"لوبیا\" \n",
    "          , \"بورانی\",\"اسفناج\" , \"لوبیا\" , \"استانبولی\" , \"جیگر\" , \"دل\" , \"آبگوشت\" , \"جوو\" , \"رشته\" , \"باقالی\" ,\"نرگسی\"\n",
    "          ,\"لازانیا\" ,\"سمبوسه\",\"سموسه\",\"باقلاقاتوق\" ,\"باقله\" , \"شکمبه\" , \"شکمبه\" , \"شنسل\" , \"شیشلیک\" ,\"شیشلیگ\", \"شیش لیک\" \n",
    "          ,\"مسما\" , \"جو\" ]"
   ]
  },
  {
   "cell_type": "code",
   "execution_count": null,
   "metadata": {},
   "outputs": [],
   "source": []
  },
  {
   "cell_type": "code",
   "execution_count": 14,
   "metadata": {},
   "outputs": [
    {
     "data": {
      "text/plain": [
       "True"
      ]
     },
     "execution_count": 14,
     "metadata": {},
     "output_type": "execute_result"
    }
   ],
   "source": [
    "\"باقله\" in main_dish"
   ]
  },
  {
   "cell_type": "code",
   "execution_count": null,
   "metadata": {},
   "outputs": [],
   "source": [
    "further in the dictionary , \"stoi\" , we should consider some things like (\"قورمه\", \"قرمه\") a thing\n",
    "\n",
    "if final list of strs had \"رولت گوشت\" for example , removing \"گوشت\" of it \n",
    "by \"جوجه کباب\" remove \"کباب\""
   ]
  },
  {
   "cell_type": "code",
   "execution_count": null,
   "metadata": {},
   "outputs": [],
   "source": []
  },
  {
   "cell_type": "code",
   "execution_count": null,
   "metadata": {},
   "outputs": [],
   "source": [
    "how = [\"سرخ شده\" , \"آب پز\" ,\"خوراک\" , \"سوخاری\" , \"زغالی\" , \"خام\" , \"\"]"
   ]
  },
  {
   "cell_type": "code",
   "execution_count": null,
   "metadata": {},
   "outputs": [],
   "source": [
    "dessert = [\"سالاد\" , \"ژله\" , \"کاهو\",\"قارچ\",\"فلفل\" , \"خیارشور\" , \"ترشی\" , \"ماست\" , \"سیب زمینی\" ,\"رب\" , \"آش\" ,\n",
    "           \"سوپ\" , \"پیاز\" ,\"اش\" , \"کلم\" ,\"شیر برنج\" , \"سبزی\" , \"هویج\" , \"حلوا\" , \"سیر\" , \"کشمش\"]"
   ]
  },
  {
   "cell_type": "code",
   "execution_count": null,
   "metadata": {},
   "outputs": [],
   "source": []
  },
  {
   "cell_type": "code",
   "execution_count": null,
   "metadata": {},
   "outputs": [],
   "source": [
    "Breakfast = [\"کره\" , \"کیک\", \"پنیر\" , \"بیسکویت\" ,\"ذرت\",\"دسر\" , \"تخم مرغ\" , \"عسل\" , \"مربا\",\"آب میوه\" \n",
    "             ,\"عدسی\" ,\"خامه\" , \"کله پاچه\" , \"\"]"
   ]
  },
  {
   "cell_type": "code",
   "execution_count": null,
   "metadata": {},
   "outputs": [],
   "source": [
    "Drink = [\"دوغ\",\"نوشابه\",\"شیر\" ]"
   ]
  },
  {
   "cell_type": "code",
   "execution_count": null,
   "metadata": {},
   "outputs": [],
   "source": [
    "rice_bread = [ \"پلو\", \"نون\" ,\"نان\" , \"\"] "
   ]
  },
  {
   "cell_type": "code",
   "execution_count": null,
   "metadata": {},
   "outputs": [],
   "source": [
    "types_of_sandwich  = [\"سوسیس\" ,\"همبرگر\" , \"فلافل\" , \"بندری\" , \"بلغاری\"]"
   ]
  },
  {
   "cell_type": "code",
   "execution_count": null,
   "metadata": {},
   "outputs": [],
   "source": []
  },
  {
   "cell_type": "code",
   "execution_count": 4,
   "metadata": {},
   "outputs": [
    {
     "data": {
      "text/plain": [
       "True"
      ]
     },
     "execution_count": 4,
     "metadata": {},
     "output_type": "execute_result"
    }
   ],
   "source": [
    "\"قیمه\" in main_dish"
   ]
  },
  {
   "cell_type": "code",
   "execution_count": null,
   "metadata": {},
   "outputs": [],
   "source": [
    "\n",
    "\n",
    "\n",
    "\n",
    " "
   ]
  }
 ],
 "metadata": {
  "kernelspec": {
   "display_name": "Python 3",
   "language": "python",
   "name": "python3"
  },
  "language_info": {
   "codemirror_mode": {
    "name": "ipython",
    "version": 3
   },
   "file_extension": ".py",
   "mimetype": "text/x-python",
   "name": "python",
   "nbconvert_exporter": "python",
   "pygments_lexer": "ipython3",
   "version": "3.6.7"
  }
 },
 "nbformat": 4,
 "nbformat_minor": 2
}

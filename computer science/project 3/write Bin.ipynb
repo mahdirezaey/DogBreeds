{
 "cells": [
  {
   "cell_type": "code",
   "execution_count": null,
   "metadata": {},
   "outputs": [],
   "source": [
    "def binEncode(string, freqDic, type):\n",
    "    if type == 'txt':\n",
    "        nstring = ''\n",
    "        for char in string:\n",
    "            nstring += freqDic[char]\n",
    "        return nstring\n",
    "    else:\n",
    "        inp = string.split(' ')\n",
    "        nstring = ''\n",
    "        for item in inp:\n",
    "            try:\n",
    "                item = str(item) + ' '\n",
    "                value = freqDic[item]\n",
    "                nstring += value\n",
    "            except KeyError: pass\n",
    "        return nstring\n",
    "\n",
    "def makeBinary(binstring, directory):\n",
    "    w = [int(binstring[i:i + 8], 2) for i in range(0, len(binstring), 8)]\n",
    "    temp = len(w) % 8\n",
    "    directory = directory.split('.')[0]\n",
    "    with open(directory, \"wb\") as f:\n",
    "        f.write(bytes(w))\n",
    "    return temp\n",
    "\n",
    "# freqDic={'e': '000', 'c': '001', ' ': '010', '\\n': '01100', 'f': '01101', 'd': '0111', 'b': '10', 'a': '11'}\n",
    "# string = \"abcdeffffaaaa   aabc ccccddeeeaabcbbccbbeded\\nabbbbbaccbb abbbabbe   bdeeebbabdbbbdabbaacbaaa\"\n",
    "# bins = binEncode(string, freqDic)\n",
    "# print(bins)\n",
    "# makeBinary(bins, \"myTest2\")"
   ]
  }
 ],
 "metadata": {
  "kernelspec": {
   "display_name": "Python 3",
   "language": "python",
   "name": "python3"
  },
  "language_info": {
   "codemirror_mode": {
    "name": "ipython",
    "version": 3
   },
   "file_extension": ".py",
   "mimetype": "text/x-python",
   "name": "python",
   "nbconvert_exporter": "python",
   "pygments_lexer": "ipython3",
   "version": "3.6.5"
  }
 },
 "nbformat": 4,
 "nbformat_minor": 2
}

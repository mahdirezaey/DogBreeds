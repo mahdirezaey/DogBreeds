{
 "cells": [
  {
   "cell_type": "code",
   "execution_count": null,
   "metadata": {},
   "outputs": [],
   "source": [
    "def encodeChars(root, code):\n",
    "    if root.left == None and root.right == None:\n",
    "        freqDic.update({root.key: code})\n",
    "    if root.left:\n",
    "        encodeChars(root.left, code+'0')\n",
    "    if root.right:\n",
    "        encodeChars(root.right, code+'1')\n",
    "\n",
    "def start(root):\n",
    "    encodeChars(root, '')\n",
    "    return freqDic\n",
    "\n",
    "freqDic = {}\n"
   ]
  }
 ],
 "metadata": {
  "kernelspec": {
   "display_name": "Python 3",
   "language": "python",
   "name": "python3"
  },
  "language_info": {
   "codemirror_mode": {
    "name": "ipython",
    "version": 3
   },
   "file_extension": ".py",
   "mimetype": "text/x-python",
   "name": "python",
   "nbconvert_exporter": "python",
   "pygments_lexer": "ipython3",
   "version": "3.6.5"
  }
 },
 "nbformat": 4,
 "nbformat_minor": 2
}

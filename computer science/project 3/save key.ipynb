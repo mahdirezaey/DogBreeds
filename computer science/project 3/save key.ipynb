{
 "cells": [
  {
   "cell_type": "code",
   "execution_count": null,
   "metadata": {},
   "outputs": [],
   "source": [
    "def savekey(dic, name, extrabits):\n",
    "    dic.update({'extrabits': extrabits})\n",
    "    print(dic)\n",
    "    name = 'keyOf'+name.split('.')[0] + '.txt'\n",
    "    f = open(name, \"w+\")\n",
    "    f.write(str(dic))\n",
    "    f.close()\n",
    "    return"
   ]
  }
 ],
 "metadata": {
  "kernelspec": {
   "display_name": "Python 3",
   "language": "python",
   "name": "python3"
  },
  "language_info": {
   "codemirror_mode": {
    "name": "ipython",
    "version": 3
   },
   "file_extension": ".py",
   "mimetype": "text/x-python",
   "name": "python",
   "nbconvert_exporter": "python",
   "pygments_lexer": "ipython3",
   "version": "3.6.5"
  }
 },
 "nbformat": 4,
 "nbformat_minor": 2
}

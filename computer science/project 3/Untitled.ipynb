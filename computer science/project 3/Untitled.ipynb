{
 "cells": [
  {
   "cell_type": "code",
   "execution_count": null,
   "metadata": {},
   "outputs": [],
   "source": [
    "import getTextFile\n",
    "import codeEachCharacter as cec\n",
    "import writeBin\n",
    "import readBin\n",
    "import saveKey\n",
    "import base64\n",
    "import sys\n",
    "\n",
    "def encode(directory):\n",
    "    rootAndString = getTextFile.start(directory) #makes the huffman tree of all characters and gets root\n",
    "    root = rootAndString[0]\n",
    "    string = rootAndString[1]\n",
    "    directory = rootAndString[2]\n",
    "    freqDic = rootAndString[3]\n",
    "\n",
    "    binDic = cec.start(root) #gets binary encode of each character\n",
    "    #Writing binary file\n",
    "    try:\n",
    "        binDic[' '] = binDic['space']\n",
    "        del binDic['space']\n",
    "    except KeyError: pass\n",
    "    try:\n",
    "        binDic['\\n'] = binDic['newline']\n",
    "        del binDic['newline']\n",
    "    except KeyError: pass\n",
    "\n",
    "    print(string)\n",
    "    type = directory.split('.')[1]\n",
    "    binaryCodedString = writeBin.binEncode(string, binDic, type) #create string of binary\n",
    "    # print(binaryCodedString)\n",
    "    directory = directory.split('.')[0]\n",
    "    extrabits = writeBin.makeBinary(binaryCodedString, directory) #create binary file\n",
    "    saveKey.savekey(binDic, directory, extrabits) #This saves the key used for later encoding\n",
    "\n",
    "def decode(directory, type):\n",
    "\n",
    "    decodedStringAndFileName = readBin.decode(directory)\n",
    "    decodedString = decodedStringAndFileName[0]\n",
    "    fileName = decodedStringAndFileName[1] + \"dec.txt\"\n",
    "    if type == 'txt':\n",
    "        with open(fileName,'w') as f:\n",
    "            f.write(decodedString)\n",
    "    elif type == 'jpg':\n",
    "        decodedString = decodedString.split(' ')\n",
    "        ary = []\n",
    "        for item in decodedString:\n",
    "            try: ary.append(int(item))\n",
    "            except ValueError: print(item)\n",
    "        ary = bytearray(ary)\n",
    "        with open(directory+directory+'.jpg', 'wb+') as new:\n",
    "            new.write(ary)\n",
    "\n",
    "ans = input(\"[encode] or [decode]?  \")\n",
    "if ans == \"encode\":\n",
    "    directory = input(\"What is the directory of your text\\image file:\\n\")\n",
    "    encode(directory)\n",
    "elif ans == \"decode\":\n",
    "    directory = input(\"The directory of your .dat file?\\n\")\n",
    "    type = input(\"If this is text file type 'txt' if image type 'jpg':\\n\")\n",
    "    decode(directory, type)\n",
    "else:\n",
    "    print(\"Unsupported answer.\")"
   ]
  },
  {
   "cell_type": "code",
   "execution_count": 4,
   "metadata": {},
   "outputs": [],
   "source": [
    "from binarytree import *\n",
    "import pprint\n",
    "\n",
    "class mNode:\n",
    "    def __init__(self, key, value):\n",
    "        self.left = None\n",
    "        self.right = None\n",
    "        self.key = key\n",
    "        self.value = value\n",
    "        self.alive = 1\n",
    "\n",
    "def encode(nodes):\n",
    "    totalAlives = 0\n",
    "    for node in nodes:\n",
    "        if node.alive == 1:\n",
    "            totalAlives += 1\n",
    "    if totalAlives == 1:\n",
    "        return\n",
    "\n",
    "    nodes = sort_nodes(nodes)\n",
    "\n",
    "    counter = 0\n",
    "    sumoftwo = 0\n",
    "    leftAndRightNodes = []\n",
    "    for node in nodes: #selects the last two alive nodes\n",
    "        if node.alive == 1:\n",
    "            counter += 1\n",
    "        if node.alive and (counter == totalAlives - 1 or counter == totalAlives):\n",
    "            sumoftwo += node.value\n",
    "            node.alive = 0\n",
    "            leftAndRightNodes.append(node)\n",
    "\n",
    "    newnode = mNode(sumoftwo, sumoftwo)\n",
    "    newnode.left = leftAndRightNodes[1]\n",
    "    newnode.right = leftAndRightNodes[0]\n",
    "    nodes.append(newnode)\n",
    "\n",
    "    justForPrinting = []\n",
    "    for node in nodes:\n",
    "        if node.alive:\n",
    "            justForPrinting.append(node.key)\n",
    "    print(justForPrinting)\n",
    "\n",
    "    print(display_tree(newnode))\n",
    "    encode(nodes)\n",
    "\n",
    "\n",
    "def sort_nodes(nodes):\n",
    "    for i in range(0, len(nodes)):\n",
    "        for j in range(i, len(nodes)):\n",
    "            if nodes[i].value < nodes[j].value:\n",
    "                temp = nodes[i]\n",
    "                nodes[i] = nodes[j]\n",
    "                nodes[j] = temp\n",
    "    return nodes\n",
    "\n",
    "def display_tree(root):\n",
    "    if root is None:\n",
    "        return\n",
    "    nroot = Node(root.key)\n",
    "    nroot.right = display_tree(root.right)\n",
    "    nroot.left = display_tree(root.left)\n",
    "    return nroot\n",
    "\n",
    "def showDictionary(di):\n",
    "    print(\"The frequency table of characters used in this text file:\")\n",
    "    print(\"\\n\".join(\"{}\\t{}\".format(k, v) for k, v in di.items()))\n",
    "    print()\n",
    "\n",
    "def firstTimePrint(nodes):\n",
    "    justForPrinting = []\n",
    "    for node in nodes:\n",
    "        if node.alive:\n",
    "            justForPrinting.append(node.key)\n",
    "    print(justForPrinting)\n",
    "\n",
    "def getRoot(nodes):\n",
    "    for node in nodes:\n",
    "        if node.alive:\n",
    "            return node\n",
    "\n",
    "#=========================================#\n",
    "\n",
    "# freq_dic = {\"a\": 16,\n",
    "#             \"b\": 12,\n",
    "#             \"c\": 7,\n",
    "#             \"d\": 5,\n",
    "#             \"e\":3,\n",
    "#             \"f\":1}\n",
    "def startEncoding(freq_dic):\n",
    "    nodes = [] #array of all nodes\n",
    "    for key, value in freq_dic.items():\n",
    "        nodes.append(mNode(key, value))\n",
    "\n",
    "    showDictionary(freq_dic)\n",
    "    # firstTimePrint(nodes) NOT USED\n",
    "    print(\"Here is the creation process of Huffman Tree:\\n\\n\")\n",
    "    encode(nodes)\n",
    "    root = getRoot(nodes)\n",
    "    return root\n"
   ]
  },
  {
   "cell_type": "code",
   "execution_count": 5,
   "metadata": {},
   "outputs": [],
   "source": [
    "#space"
   ]
  },
  {
   "cell_type": "code",
   "execution_count": 1,
   "metadata": {},
   "outputs": [],
   "source": [
    "text_file = open(\"a.txt\", \"r\")\n",
    "lines = text_file.read().split(' ')"
   ]
  },
  {
   "cell_type": "code",
   "execution_count": 2,
   "metadata": {},
   "outputs": [
    {
     "data": {
      "text/plain": [
       "['vjf', 'uoooo', 'kkrrr', 'lopp']"
      ]
     },
     "execution_count": 2,
     "metadata": {},
     "output_type": "execute_result"
    }
   ],
   "source": [
    "lines"
   ]
  },
  {
   "cell_type": "code",
   "execution_count": 3,
   "metadata": {},
   "outputs": [
    {
     "data": {
      "text/plain": [
       "[3, 5, 5, 4]"
      ]
     },
     "execution_count": 3,
     "metadata": {},
     "output_type": "execute_result"
    }
   ],
   "source": [
    "l = [len(lines[i]) for i in range(len(lines))]\n",
    "l"
   ]
  },
  {
   "cell_type": "code",
   "execution_count": 4,
   "metadata": {},
   "outputs": [],
   "source": [
    "#l = [6,3,5,2,4] \n",
    "#n = len(l) \n",
    "#M = 10\n",
    "\n",
    "INF = 2147483647"
   ]
  },
  {
   "cell_type": "code",
   "execution_count": 5,
   "metadata": {},
   "outputs": [],
   "source": [
    "#l = [3, 2, 2, 5] \n",
    "n = len(l) \n",
    "M = 6\n",
    "\n",
    "INF = 2147483647"
   ]
  },
  {
   "cell_type": "code",
   "execution_count": 6,
   "metadata": {},
   "outputs": [
    {
     "data": {
      "text/plain": [
       "0"
      ]
     },
     "execution_count": 6,
     "metadata": {},
     "output_type": "execute_result"
    }
   ],
   "source": [
    "l.index(min(l))"
   ]
  },
  {
   "cell_type": "code",
   "execution_count": 12,
   "metadata": {},
   "outputs": [
    {
     "data": {
      "text/plain": [
       "[0, 1, 2, 3]"
      ]
     },
     "execution_count": 12,
     "metadata": {},
     "output_type": "execute_result"
    }
   ],
   "source": [
    "[j for j in range( 4)]"
   ]
  },
  {
   "cell_type": "code",
   "execution_count": 7,
   "metadata": {},
   "outputs": [],
   "source": [
    "space  = [[0 for i in range(n)] \n",
    "                 for i in range(n)] \n",
    "cost = [[0 for i in range(n)] \n",
    "             for i in range(n)] \n",
    "\n",
    "for i in range(n): \n",
    "    space[i][i] = l[i] \n",
    "    for j in range(i + 1, n): \n",
    "        temp = 0\n",
    "        for d in range(i,j+1):\n",
    "            temp += l[d]\n",
    "        space[i][j] = temp + (j-i)\n",
    "        \n",
    "for i in range(n): \n",
    "        for j in range(i, n): \n",
    "            if space[i][j] > M: \n",
    "                cost[i][j] = INF\n",
    "            else: \n",
    "                cost[i][j] = ((M-space[i][j]) * \n",
    "                            (M-space[i][j]))"
   ]
  },
  {
   "cell_type": "code",
   "execution_count": 8,
   "metadata": {},
   "outputs": [
    {
     "data": {
      "text/plain": [
       "[[3, 9, 15, 20], [0, 5, 11, 16], [0, 0, 5, 10], [0, 0, 0, 4]]"
      ]
     },
     "execution_count": 8,
     "metadata": {},
     "output_type": "execute_result"
    }
   ],
   "source": [
    "space"
   ]
  },
  {
   "cell_type": "code",
   "execution_count": 9,
   "metadata": {},
   "outputs": [
    {
     "data": {
      "text/plain": [
       "[[9, 2147483647, 2147483647, 2147483647],\n",
       " [0, 1, 2147483647, 2147483647],\n",
       " [0, 0, 1, 2147483647],\n",
       " [0, 0, 0, 4]]"
      ]
     },
     "execution_count": 9,
     "metadata": {},
     "output_type": "execute_result"
    }
   ],
   "source": [
    "cost"
   ]
  },
  {
   "cell_type": "code",
   "execution_count": 10,
   "metadata": {},
   "outputs": [],
   "source": [
    "c = [0 for i in range(n)] \n",
    "indexes = [0 for i in range(n)] "
   ]
  },
  {
   "cell_type": "code",
   "execution_count": 11,
   "metadata": {},
   "outputs": [
    {
     "data": {
      "text/plain": [
       "[10, 9, 8, 7, 6, 5, 4, 3, 2]"
      ]
     },
     "execution_count": 11,
     "metadata": {},
     "output_type": "execute_result"
    }
   ],
   "source": [
    "[i for i in range(10,1,-1)]\n"
   ]
  },
  {
   "cell_type": "code",
   "execution_count": 12,
   "metadata": {},
   "outputs": [
    {
     "data": {
      "text/plain": [
       "[1, 2, 3, 4, 5, 6, 7, 8, 9]"
      ]
     },
     "execution_count": 12,
     "metadata": {},
     "output_type": "execute_result"
    }
   ],
   "source": [
    "[i for i in range(1,10)]"
   ]
  },
  {
   "cell_type": "code",
   "execution_count": null,
   "metadata": {},
   "outputs": [],
   "source": []
  },
  {
   "cell_type": "code",
   "execution_count": null,
   "metadata": {},
   "outputs": [],
   "source": []
  },
  {
   "cell_type": "code",
   "execution_count": 13,
   "metadata": {},
   "outputs": [],
   "source": [
    "for i in range(n-1,-1,-1):\n",
    "        if cost[i][n-1] != INF :\n",
    "            indexes[i] = n\n",
    "            c[i] = cost[i][n-1]\n",
    "        else:\n",
    "            _temp = [INF for d in range(n)]\n",
    "            for j in range(n-1,i,-1):\n",
    "                _temp[j] = c[j] + cost[i][j-1]\n",
    "            indexes[i] = _temp.index(min(_temp))\n",
    "            c[i] = min(_temp)"
   ]
  },
  {
   "cell_type": "code",
   "execution_count": 14,
   "metadata": {},
   "outputs": [
    {
     "data": {
      "text/plain": [
       "[1, 2, 3, 4]"
      ]
     },
     "execution_count": 14,
     "metadata": {},
     "output_type": "execute_result"
    }
   ],
   "source": [
    "indexes"
   ]
  },
  {
   "cell_type": "code",
   "execution_count": 15,
   "metadata": {},
   "outputs": [
    {
     "data": {
      "text/plain": [
       "[15, 6, 5, 4]"
      ]
     },
     "execution_count": 15,
     "metadata": {},
     "output_type": "execute_result"
    }
   ],
   "source": [
    "c"
   ]
  },
  {
   "cell_type": "code",
   "execution_count": null,
   "metadata": {},
   "outputs": [],
   "source": []
  },
  {
   "cell_type": "code",
   "execution_count": 16,
   "metadata": {},
   "outputs": [
    {
     "name": "stdout",
     "output_type": "stream",
     "text": [
      "Line number  1 : From word number  0 to  0\n",
      "Line number  2 : From word number  1 to  1\n",
      "Line number  3 : From word number  2 to  2\n",
      "Line number  4 : From word number  3 to  3\n"
     ]
    }
   ],
   "source": [
    "#printing Solution\n",
    "i=0\n",
    "j=1\n",
    "while(1):\n",
    "    print('Line number ',j, ': From word number ', i, 'to ', indexes[i] - 1)\n",
    "    if(indexes[i] == n):\n",
    "        break\n",
    "    i = indexes[i]\n",
    "    j = j+1"
   ]
  },
  {
   "cell_type": "code",
   "execution_count": 17,
   "metadata": {},
   "outputs": [],
   "source": [
    "#printing Solution\n",
    "i=0\n",
    "j=1\n",
    "while(1):\n",
    "    for i in range (i,indexes[i]):\n",
    "        with open('output.txt', 'a') as filehandle:  \n",
    "            filehandle.writelines(\"%s \" %lines[i])\n",
    "    with open('output.txt', 'a') as filehandle:  \n",
    "        filehandle.writelines(\"\\n\")\n",
    "        \n",
    "    if(indexes[i] == n):\n",
    "        break\n",
    "    i = indexes[i]\n",
    "    j = j+1"
   ]
  },
  {
   "cell_type": "code",
   "execution_count": 18,
   "metadata": {},
   "outputs": [
    {
     "name": "stdout",
     "output_type": "stream",
     "text": [
      "min cost is : 15\n"
     ]
    }
   ],
   "source": [
    "print('min cost is :' , c[0])"
   ]
  },
  {
   "cell_type": "code",
   "execution_count": 142,
   "metadata": {},
   "outputs": [],
   "source": []
  },
  {
   "cell_type": "code",
   "execution_count": 137,
   "metadata": {},
   "outputs": [],
   "source": []
  },
  {
   "cell_type": "code",
   "execution_count": null,
   "metadata": {},
   "outputs": [],
   "source": []
  },
  {
   "cell_type": "code",
   "execution_count": null,
   "metadata": {},
   "outputs": [],
   "source": []
  },
  {
   "cell_type": "code",
   "execution_count": null,
   "metadata": {},
   "outputs": [],
   "source": []
  },
  {
   "cell_type": "code",
   "execution_count": null,
   "metadata": {},
   "outputs": [],
   "source": [
    "#not important"
   ]
  },
  {
   "cell_type": "code",
   "execution_count": 66,
   "metadata": {},
   "outputs": [],
   "source": [
    "with open('output.txt', 'w') as filehandle:  \n",
    "    filehandle.writelines(\"%s\\n\" %lines[0])\n",
    "    filehandle.writelines(\"\\n\")"
   ]
  },
  {
   "cell_type": "code",
   "execution_count": null,
   "metadata": {},
   "outputs": [],
   "source": [
    "places_list = ['Berlin', 'Cape Town', 'Sydney', 'Moscow']\n",
    "\n",
    "with open('output.txt', 'w') as filehandle:  \n",
    "    filehandle.writelines(\"%s\\n\" %i for i in places_list)"
   ]
  }
 ],
 "metadata": {
  "kernelspec": {
   "display_name": "Python 3",
   "language": "python",
   "name": "python3"
  },
  "language_info": {
   "codemirror_mode": {
    "name": "ipython",
    "version": 3
   },
   "file_extension": ".py",
   "mimetype": "text/x-python",
   "name": "python",
   "nbconvert_exporter": "python",
   "pygments_lexer": "ipython3",
   "version": "3.6.5"
  }
 },
 "nbformat": 4,
 "nbformat_minor": 2
}

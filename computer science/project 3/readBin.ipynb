{
 "cells": [
  {
   "cell_type": "code",
   "execution_count": null,
   "metadata": {},
   "outputs": [],
   "source": [
    "import ast\n",
    "import os\n",
    "def decode(directory):\n",
    "\n",
    "    binstream = ''\n",
    "    with open(directory, \"rb\") as f:\n",
    "        byte = f.read(1)\n",
    "        while byte:\n",
    "            binstream += '{:08b}'.format(ord(byte))\n",
    "            byte = f.read(1)\n",
    "\n",
    "    #opening key:\n",
    "    directory = directory.replace(\".bin\", \"\")\n",
    "    directory = directory.split('.')[0]\n",
    "    keyDir = 'keyOf' + directory+ '.txt'\n",
    "    with open(keyDir, \"r\") as k:\n",
    "        key = k.read()\n",
    "    key = ast.literal_eval(key)\n",
    "\n",
    "\n",
    "    extrabits = key['extrabits']\n",
    "    surg = binstream[-8:]\n",
    "    surg = surg[-extrabits:]\n",
    "    binstream = binstream[:-8] + surg\n",
    "\n",
    "    oneChar = ''\n",
    "    decodedFile = ''\n",
    "    for char in binstream:\n",
    "        oneChar += char\n",
    "        if useKey(key, oneChar):\n",
    "            decodedFile += useKey(key, oneChar)\n",
    "            oneChar = ''\n",
    "    print(decodedFile)\n",
    "    # decodedFile = rep(decodedFile)\n",
    "    # print(decodedFile)\n",
    "    return [decodedFile, directory]\n",
    "\n",
    "def useKey(key, oneChar):\n",
    "    for item in key:\n",
    "        if oneChar == key[item]:\n",
    "            return (item)"
   ]
  }
 ],
 "metadata": {
  "kernelspec": {
   "display_name": "Python 3",
   "language": "python",
   "name": "python3"
  },
  "language_info": {
   "codemirror_mode": {
    "name": "ipython",
    "version": 3
   },
   "file_extension": ".py",
   "mimetype": "text/x-python",
   "name": "python",
   "nbconvert_exporter": "python",
   "pygments_lexer": "ipython3",
   "version": "3.6.5"
  }
 },
 "nbformat": 4,
 "nbformat_minor": 2
}

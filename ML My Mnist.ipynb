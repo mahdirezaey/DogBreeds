{
 "cells": [
  {
   "cell_type": "code",
   "execution_count": 1,
   "metadata": {},
   "outputs": [],
   "source": [
    "%load_ext autoreload\n",
    "%autoreload 2\n",
    "%matplotlib inline"
   ]
  },
  {
   "cell_type": "code",
   "execution_count": 2,
   "metadata": {},
   "outputs": [],
   "source": [
    "from fastai.imports import *\n",
    "from fastai.torch_imports import *\n",
    "from fastai.io import *"
   ]
  },
  {
   "cell_type": "code",
   "execution_count": 86,
   "metadata": {},
   "outputs": [],
   "source": [
    "path = \"data/mnist/\""
   ]
  },
  {
   "cell_type": "code",
   "execution_count": 87,
   "metadata": {},
   "outputs": [],
   "source": [
    "import os\n",
    "os.makedirs(path, exist_ok=True)"
   ]
  },
  {
   "cell_type": "code",
   "execution_count": 88,
   "metadata": {},
   "outputs": [],
   "source": [
    "FILENAME='mnist.pkl.gz'"
   ]
  },
  {
   "cell_type": "code",
   "execution_count": 89,
   "metadata": {},
   "outputs": [],
   "source": [
    "def load_mnist(filename):\n",
    "    return pickle.load(gzip.open(filename,'rb') , encoding=\"latin_1\")"
   ]
  },
  {
   "cell_type": "code",
   "execution_count": 132,
   "metadata": {},
   "outputs": [],
   "source": [
    "((x,y) , (x_valid , y_valid), _) = load_mnist(path + FILENAME)"
   ]
  },
  {
   "cell_type": "code",
   "execution_count": 8,
   "metadata": {},
   "outputs": [
    {
     "data": {
      "text/plain": [
       "(numpy.ndarray, (50000, 784), numpy.ndarray, (50000,))"
      ]
     },
     "execution_count": 8,
     "metadata": {},
     "output_type": "execute_result"
    }
   ],
   "source": [
    "type(x) , x.shape , type(y), y.shape"
   ]
  },
  {
   "cell_type": "code",
   "execution_count": 133,
   "metadata": {},
   "outputs": [],
   "source": [
    "mean = x.mean()\n",
    "std = x.std()"
   ]
  },
  {
   "cell_type": "code",
   "execution_count": 134,
   "metadata": {},
   "outputs": [],
   "source": [
    "x = (x - mean)/std"
   ]
  },
  {
   "cell_type": "code",
   "execution_count": 135,
   "metadata": {},
   "outputs": [],
   "source": [
    "x_valid = (x_valid - mean)/std"
   ]
  },
  {
   "cell_type": "code",
   "execution_count": 136,
   "metadata": {},
   "outputs": [
    {
     "data": {
      "text/plain": [
       "(-0.005850922, 0.99243325)"
      ]
     },
     "execution_count": 136,
     "metadata": {},
     "output_type": "execute_result"
    }
   ],
   "source": [
    "x_valid.mean() , x_valid.std()"
   ]
  },
  {
   "cell_type": "markdown",
   "metadata": {},
   "source": [
    "## plots"
   ]
  },
  {
   "cell_type": "code",
   "execution_count": 15,
   "metadata": {},
   "outputs": [
    {
     "data": {
      "text/plain": [
       "(10000, 784)"
      ]
     },
     "execution_count": 15,
     "metadata": {},
     "output_type": "execute_result"
    }
   ],
   "source": [
    "x_valid.shape"
   ]
  },
  {
   "cell_type": "code",
   "execution_count": 16,
   "metadata": {
    "scrolled": true
   },
   "outputs": [
    {
     "data": {
      "text/plain": [
       "array([[[0., 0., 0., ..., 0., 0., 0.],\n",
       "        [0., 0., 0., ..., 0., 0., 0.],\n",
       "        [0., 0., 0., ..., 0., 0., 0.],\n",
       "        ...,\n",
       "        [0., 0., 0., ..., 0., 0., 0.],\n",
       "        [0., 0., 0., ..., 0., 0., 0.],\n",
       "        [0., 0., 0., ..., 0., 0., 0.]],\n",
       "\n",
       "       [[0., 0., 0., ..., 0., 0., 0.],\n",
       "        [0., 0., 0., ..., 0., 0., 0.],\n",
       "        [0., 0., 0., ..., 0., 0., 0.],\n",
       "        ...,\n",
       "        [0., 0., 0., ..., 0., 0., 0.],\n",
       "        [0., 0., 0., ..., 0., 0., 0.],\n",
       "        [0., 0., 0., ..., 0., 0., 0.]],\n",
       "\n",
       "       [[0., 0., 0., ..., 0., 0., 0.],\n",
       "        [0., 0., 0., ..., 0., 0., 0.],\n",
       "        [0., 0., 0., ..., 0., 0., 0.],\n",
       "        ...,\n",
       "        [0., 0., 0., ..., 0., 0., 0.],\n",
       "        [0., 0., 0., ..., 0., 0., 0.],\n",
       "        [0., 0., 0., ..., 0., 0., 0.]],\n",
       "\n",
       "       ...,\n",
       "\n",
       "       [[0., 0., 0., ..., 0., 0., 0.],\n",
       "        [0., 0., 0., ..., 0., 0., 0.],\n",
       "        [0., 0., 0., ..., 0., 0., 0.],\n",
       "        ...,\n",
       "        [0., 0., 0., ..., 0., 0., 0.],\n",
       "        [0., 0., 0., ..., 0., 0., 0.],\n",
       "        [0., 0., 0., ..., 0., 0., 0.]],\n",
       "\n",
       "       [[0., 0., 0., ..., 0., 0., 0.],\n",
       "        [0., 0., 0., ..., 0., 0., 0.],\n",
       "        [0., 0., 0., ..., 0., 0., 0.],\n",
       "        ...,\n",
       "        [0., 0., 0., ..., 0., 0., 0.],\n",
       "        [0., 0., 0., ..., 0., 0., 0.],\n",
       "        [0., 0., 0., ..., 0., 0., 0.]],\n",
       "\n",
       "       [[0., 0., 0., ..., 0., 0., 0.],\n",
       "        [0., 0., 0., ..., 0., 0., 0.],\n",
       "        [0., 0., 0., ..., 0., 0., 0.],\n",
       "        ...,\n",
       "        [0., 0., 0., ..., 0., 0., 0.],\n",
       "        [0., 0., 0., ..., 0., 0., 0.],\n",
       "        [0., 0., 0., ..., 0., 0., 0.]]], dtype=float32)"
      ]
     },
     "execution_count": 16,
     "metadata": {},
     "output_type": "execute_result"
    }
   ],
   "source": [
    "x_imgs = np.reshape(x_valid , (-1,28,28)) ; x_imgs"
   ]
  },
  {
   "cell_type": "code",
   "execution_count": 17,
   "metadata": {},
   "outputs": [],
   "source": [
    "def show(img, title=None):\n",
    "    plt.imshow(img, cmap=\"gray\")\n",
    "    if title is not None: plt.title(title)\n",
    "def plots(ims, figsize=(12,6), rows=2, titles=None):\n",
    "    f = plt.figure(figsize=figsize)\n",
    "    cols = len(ims)//rows\n",
    "    for i in range(len(ims)):\n",
    "        sp = f.add_subplot(rows, cols, i+1)\n",
    "        sp.axis('Off')\n",
    "        if titles is not None: sp.set_title(titles[i], fontsize=16)\n",
    "        plt.imshow(ims[i], cmap='gray')"
   ]
  },
  {
   "cell_type": "code",
   "execution_count": 18,
   "metadata": {},
   "outputs": [
    {
     "data": {
      "image/png": "[encoded data removed]",
      "text/plain": [
       "<Figure size 432x288 with 1 Axes>"
      ]
     },
     "metadata": {
      "needs_background": "light"
     },
     "output_type": "display_data"
    }
   ],
   "source": [
    "show(x_imgs[0],y_valid[0])"
   ]
  },
  {
   "cell_type": "code",
   "execution_count": 19,
   "metadata": {},
   "outputs": [
    {
     "data": {
      "image/png": "[encoded data removed]",
      "text/plain": [
       "<Figure size 432x288 with 1 Axes>"
      ]
     },
     "metadata": {
      "needs_background": "light"
     },
     "output_type": "display_data"
    }
   ],
   "source": [
    "show(x_imgs[0,10:15,10:15])"
   ]
  },
  {
   "cell_type": "code",
   "execution_count": 20,
   "metadata": {},
   "outputs": [
    {
     "data": {
      "image/png": "[encoded data removed]",
      "text/plain": [
       "<Figure size 864x432 with 8 Axes>"
      ]
     },
     "metadata": {
      "needs_background": "light"
     },
     "output_type": "display_data"
    }
   ],
   "source": [
    "plots(x_imgs[:8] , titles=y_valid[0:8])"
   ]
  },
  {
   "cell_type": "code",
   "execution_count": 137,
   "metadata": {},
   "outputs": [],
   "source": [
    "from fastai.metrics import *\n",
    "from fastai.model import *\n",
    "from fastai.dataset import *\n",
    "\n",
    "import torch.nn as nn"
   ]
  },
  {
   "cell_type": "code",
   "execution_count": 142,
   "metadata": {},
   "outputs": [],
   "source": [
    "net = nn.Sequential(\n",
    "    nn.Linear(28*28 , 10),\n",
    "    nn.LogSoftmax()\n",
    ")"
   ]
  },
  {
   "cell_type": "code",
   "execution_count": 143,
   "metadata": {},
   "outputs": [
    {
     "data": {
      "text/plain": [
       "([7840, 10], 7850)"
      ]
     },
     "execution_count": 143,
     "metadata": {},
     "output_type": "execute_result"
    }
   ],
   "source": [
    "# num of parameters \n",
    "t= [o.numel() for o in net.parameters()]\n",
    "t , sum(t)"
   ]
  },
  {
   "cell_type": "code",
   "execution_count": 144,
   "metadata": {},
   "outputs": [],
   "source": [
    "md = ImageClassifierData.from_arrays(path , (x,y) , (x_valid , y_valid))"
   ]
  },
  {
   "cell_type": "code",
   "execution_count": 145,
   "metadata": {},
   "outputs": [],
   "source": [
    "loss = nn.NLLLoss() # negetive log liklihood loss (cross entropy)\n",
    "metrics = [accuracy]\n",
    "opt = optim.Adam(net.parameters())"
   ]
  },
  {
   "cell_type": "code",
   "execution_count": 146,
   "metadata": {},
   "outputs": [
    {
     "data": {
      "application/vnd.jupyter.widget-view+json": {
       "model_id": "3352c2ba72d24d13b7336968bef96dc0",
       "version_major": 2,
       "version_minor": 0
      },
      "text/plain": [
       "HBox(children=(IntProgress(value=0, description='Epoch', max=1, style=ProgressStyle(description_width='initial…"
      ]
     },
     "metadata": {},
     "output_type": "display_data"
    },
    {
     "name": "stdout",
     "output_type": "stream",
     "text": [
      "epoch      trn_loss   val_loss   accuracy                                                                              \n",
      "    0      0.32842    0.288917   0.9187    \n",
      "\n"
     ]
    },
    {
     "data": {
      "text/plain": [
       "[array([0.28892]), 0.9187]"
      ]
     },
     "execution_count": 146,
     "metadata": {},
     "output_type": "execute_result"
    }
   ],
   "source": [
    "fit(net , md , n_epochs = 1 , crit = loss , opt = opt , metrics = metrics)"
   ]
  },
  {
   "cell_type": "code",
   "execution_count": 26,
   "metadata": {},
   "outputs": [],
   "source": [
    "def binary_loss(y , p):\n",
    "    return np.mean(-((1-y)*np.log(1-p) + y*np.log(p)))"
   ]
  },
  {
   "cell_type": "code",
   "execution_count": 25,
   "metadata": {},
   "outputs": [
    {
     "data": {
      "text/plain": [
       "0.164252033486018"
      ]
     },
     "execution_count": 25,
     "metadata": {},
     "output_type": "execute_result"
    }
   ],
   "source": [
    "acts = np.array([1,0,0,1])\n",
    "preds = np.array([0.9 , 0.1 , 0.2 , 0.8])\n",
    "binary_loss(acts , preds)"
   ]
  },
  {
   "cell_type": "code",
   "execution_count": 26,
   "metadata": {},
   "outputs": [],
   "source": [
    "preds = predict(net , md.val_dl)"
   ]
  },
  {
   "cell_type": "code",
   "execution_count": 27,
   "metadata": {},
   "outputs": [
    {
     "data": {
      "text/plain": [
       "(10000, 10)"
      ]
     },
     "execution_count": 27,
     "metadata": {},
     "output_type": "execute_result"
    }
   ],
   "source": [
    "preds.shape"
   ]
  },
  {
   "cell_type": "code",
   "execution_count": 28,
   "metadata": {},
   "outputs": [
    {
     "data": {
      "text/plain": [
       "numpy.ndarray"
      ]
     },
     "execution_count": 28,
     "metadata": {},
     "output_type": "execute_result"
    }
   ],
   "source": [
    "type(preds)"
   ]
  },
  {
   "cell_type": "code",
   "execution_count": 29,
   "metadata": {},
   "outputs": [],
   "source": [
    "preds = preds.argmax(axis = 1)"
   ]
  },
  {
   "cell_type": "code",
   "execution_count": 30,
   "metadata": {},
   "outputs": [
    {
     "data": {
      "text/plain": [
       "array([3, 8, 6, 9], dtype=int64)"
      ]
     },
     "execution_count": 30,
     "metadata": {},
     "output_type": "execute_result"
    }
   ],
   "source": [
    "preds[:4]"
   ]
  },
  {
   "cell_type": "code",
   "execution_count": 31,
   "metadata": {},
   "outputs": [
    {
     "data": {
      "text/plain": [
       "array([3, 8, 6, 9], dtype=int64)"
      ]
     },
     "execution_count": 31,
     "metadata": {},
     "output_type": "execute_result"
    }
   ],
   "source": [
    "y_valid[:4]"
   ]
  },
  {
   "cell_type": "code",
   "execution_count": 32,
   "metadata": {},
   "outputs": [
    {
     "data": {
      "text/plain": [
       "0.9176"
      ]
     },
     "execution_count": 32,
     "metadata": {},
     "output_type": "execute_result"
    }
   ],
   "source": [
    "np.mean(preds == y_valid)"
   ]
  },
  {
   "cell_type": "code",
   "execution_count": 33,
   "metadata": {},
   "outputs": [
    {
     "data": {
      "image/png": "[encoded data removed]",
      "text/plain": [
       "<Figure size 864x432 with 8 Axes>"
      ]
     },
     "metadata": {
      "needs_background": "light"
     },
     "output_type": "display_data"
    }
   ],
   "source": [
    "plots(x_imgs[:8] , titles= preds[:8])"
   ]
  },
  {
   "cell_type": "code",
   "execution_count": 9,
   "metadata": {},
   "outputs": [],
   "source": [
    "def get_weights(*dims) :\n",
    "    return(nn.Parameter(torch.randn(dims)/dims[0]))"
   ]
  },
  {
   "cell_type": "code",
   "execution_count": 27,
   "metadata": {},
   "outputs": [],
   "source": [
    "class Log_reg(nn.Module):\n",
    "    def __init__(self):\n",
    "        super().__init__()\n",
    "        self.l1_w = get_weights(28*28 , 10)\n",
    "        self.l1_b = get_weights(10)\n",
    "    def forward(self,x):\n",
    "        x = x.view(x.size(0) , -1)\n",
    "        x = torch.matmul(x,self.l1_w) + self.l1_b\n",
    "        x = torch.log(torch.exp(x)/(torch.exp(x).sum(dim=1)[:,None]))\n",
    "        return x"
   ]
  },
  {
   "cell_type": "code",
   "execution_count": 28,
   "metadata": {},
   "outputs": [],
   "source": [
    "net2 = Log_reg()\n",
    "opt = optim.Adam(net2.parameters())"
   ]
  },
  {
   "cell_type": "code",
   "execution_count": 29,
   "metadata": {},
   "outputs": [
    {
     "data": {
      "application/vnd.jupyter.widget-view+json": {
       "model_id": "54fb0c0e685744c0a546d7c564c5252e",
       "version_major": 2,
       "version_minor": 0
      },
      "text/plain": [
       "HBox(children=(IntProgress(value=0, description='Epoch', max=1, style=ProgressStyle(description_width='initial…"
      ]
     },
     "metadata": {},
     "output_type": "display_data"
    },
    {
     "name": "stdout",
     "output_type": "stream",
     "text": [
      "epoch      trn_loss   val_loss   accuracy                                                                              \n",
      "    0      0.379916   0.33558    0.912     \n",
      "\n"
     ]
    },
    {
     "data": {
      "text/plain": [
       "[array([0.33558]), 0.912]"
      ]
     },
     "execution_count": 29,
     "metadata": {},
     "output_type": "execute_result"
    }
   ],
   "source": [
    "fit(net2, md, n_epochs=1, crit=loss, opt=opt, metrics=metrics)"
   ]
  },
  {
   "cell_type": "code",
   "execution_count": 30,
   "metadata": {},
   "outputs": [],
   "source": [
    "def get_weights(*dims): return nn.Parameter(torch.randn(dims)/dims[0])\n",
    "def softmax(x): return torch.exp(x)/(torch.exp(x).sum(dim=1)[:,None])\n",
    "\n",
    "class LogReg(nn.Module):\n",
    "    def __init__(self):\n",
    "        super().__init__()\n",
    "        self.l1_w = get_weights(28*28, 10)  # Layer 1 weights\n",
    "        self.l1_b = get_weights(10)         # Layer 1 bias\n",
    "\n",
    "    def forward(self, x):\n",
    "        x = x.view(x.size(0), -1)\n",
    "        x = (x @ self.l1_w) + self.l1_b  # Linear Layer\n",
    "        x = torch.log(softmax(x)) # Non-linear (LogSoftmax) Layer\n",
    "        return x"
   ]
  },
  {
   "cell_type": "code",
   "execution_count": 31,
   "metadata": {},
   "outputs": [],
   "source": [
    "net2 = LogReg()\n",
    "opt = optim.Adam(net2.parameters())"
   ]
  },
  {
   "cell_type": "code",
   "execution_count": 40,
   "metadata": {},
   "outputs": [
    {
     "data": {
      "application/vnd.jupyter.widget-view+json": {
       "model_id": "e794545f74f24dd59e34ad18cbb3b994",
       "version_major": 2,
       "version_minor": 0
      },
      "text/plain": [
       "HBox(children=(IntProgress(value=0, description='Epoch', max=1, style=ProgressStyle(description_width='initial…"
      ]
     },
     "metadata": {},
     "output_type": "display_data"
    },
    {
     "name": "stdout",
     "output_type": "stream",
     "text": [
      "epoch      trn_loss   val_loss   accuracy                                                                              \n",
      "    0      0.319978   0.280961   0.9205    \n",
      "\n"
     ]
    },
    {
     "data": {
      "text/plain": [
       "[array([0.28096]), 0.9205]"
      ]
     },
     "execution_count": 40,
     "metadata": {},
     "output_type": "execute_result"
    }
   ],
   "source": [
    "fit(net2, md, n_epochs=1, crit=loss, opt=opt, metrics=metrics)"
   ]
  },
  {
   "cell_type": "code",
   "execution_count": 41,
   "metadata": {},
   "outputs": [],
   "source": [
    "#why these two above accuracies are different ?"
   ]
  },
  {
   "cell_type": "code",
   "execution_count": 42,
   "metadata": {},
   "outputs": [],
   "source": [
    "# *dims in python ? \n",
    "#>>  \"https://docs.python.org/3/tutorial/controlflow.html\"  \n",
    "# >>4.7.3. Arbitrary Argument Lists"
   ]
  },
  {
   "cell_type": "code",
   "execution_count": 43,
   "metadata": {},
   "outputs": [],
   "source": [
    "dl = iter(md.trn_dl)\n",
    "xmb , ymb = next(dl)"
   ]
  },
  {
   "cell_type": "raw",
   "metadata": {},
   "source": [
    "equivalent for next\n",
    "\n",
    "for xmb,ymb in dl:\n",
    "    ..."
   ]
  },
  {
   "cell_type": "code",
   "execution_count": 44,
   "metadata": {},
   "outputs": [
    {
     "data": {
      "text/plain": [
       "\n",
       "-0.4245 -0.4245 -0.4245  ...  -0.4245 -0.4245 -0.4245\n",
       "-0.4245 -0.4245 -0.4245  ...  -0.4245 -0.4245 -0.4245\n",
       "-0.4245 -0.4245 -0.4245  ...  -0.4245 -0.4245 -0.4245\n",
       "          ...             ⋱             ...          \n",
       "-0.4245 -0.4245 -0.4245  ...  -0.4245 -0.4245 -0.4245\n",
       "-0.4245 -0.4245 -0.4245  ...  -0.4245 -0.4245 -0.4245\n",
       "-0.4245 -0.4245 -0.4245  ...  -0.4245 -0.4245 -0.4245\n",
       "[torch.FloatTensor of size 64x784]"
      ]
     },
     "execution_count": 44,
     "metadata": {},
     "output_type": "execute_result"
    }
   ],
   "source": [
    "xmb"
   ]
  },
  {
   "cell_type": "code",
   "execution_count": 45,
   "metadata": {},
   "outputs": [
    {
     "data": {
      "text/plain": [
       "Variable containing:\n",
       "-0.4245 -0.4245 -0.4245  ...  -0.4245 -0.4245 -0.4245\n",
       "-0.4245 -0.4245 -0.4245  ...  -0.4245 -0.4245 -0.4245\n",
       "-0.4245 -0.4245 -0.4245  ...  -0.4245 -0.4245 -0.4245\n",
       "          ...             ⋱             ...          \n",
       "-0.4245 -0.4245 -0.4245  ...  -0.4245 -0.4245 -0.4245\n",
       "-0.4245 -0.4245 -0.4245  ...  -0.4245 -0.4245 -0.4245\n",
       "-0.4245 -0.4245 -0.4245  ...  -0.4245 -0.4245 -0.4245\n",
       "[torch.FloatTensor of size 64x784]"
      ]
     },
     "execution_count": 45,
     "metadata": {},
     "output_type": "execute_result"
    }
   ],
   "source": [
    "vxmb = Variable(xmb)\n",
    "vxmb"
   ]
  },
  {
   "cell_type": "code",
   "execution_count": 46,
   "metadata": {},
   "outputs": [
    {
     "data": {
      "text/plain": [
       "Variable containing:\n",
       "\n",
       "Columns 0 to 5 \n",
       " 7.9484e-05  2.7247e-06  1.8865e-04  3.0492e-05  4.3168e-02  3.1944e-05\n",
       " 3.2622e-05  2.3799e-07  9.7357e-01  1.1084e-04  7.6797e-03  3.5950e-07\n",
       " 1.5033e-04  1.9721e-01  1.8761e-02  7.7864e-03  1.8234e-05  6.8594e-01\n",
       " 5.3534e-06  1.7476e-02  6.1145e-01  2.9612e-01  1.6646e-08  2.0943e-03\n",
       " 7.3868e-01  2.8535e-04  1.1428e-02  8.2286e-02  1.7366e-05  1.2064e-01\n",
       " 5.4128e-06  7.1171e-05  8.5061e-04  1.5627e-03  7.8295e-01  2.7256e-03\n",
       " 2.4234e-02  8.2671e-05  9.2198e-04  1.3663e-05  3.9631e-04  6.6465e-01\n",
       " 1.0000e+00  2.3751e-15  2.1385e-10  1.9387e-08  5.8860e-12  3.9866e-06\n",
       " 1.6582e-06  1.3427e-09  1.0520e-06  2.4604e-08  9.9880e-01  2.7451e-05\n",
       " 3.6728e-07  1.9036e-02  6.5421e-01  1.9580e-03  4.1500e-05  1.1751e-04\n",
       " 1.9875e-03  2.0072e-03  1.5567e-02  9.4665e-01  2.7132e-06  2.1895e-02\n",
       " 1.4493e-05  1.1136e-10  2.9190e-09  3.9685e-06  8.8639e-07  5.8802e-05\n",
       " 1.4533e-04  7.3884e-07  9.8849e-06  1.7591e-07  8.1513e-01  3.8204e-03\n",
       " 1.7331e-06  1.4808e-03  9.9348e-01  4.1753e-03  2.8398e-06  4.4096e-05\n",
       " 3.0130e-05  1.9754e-05  1.3203e-03  1.2162e-02  1.5994e-05  7.1608e-03\n",
       " 1.3136e-03  8.5297e-10  8.3137e-04  2.0781e-08  2.6896e-06  1.7556e-07\n",
       " 5.4304e-04  3.5931e-06  2.6617e-05  4.8486e-04  2.1857e-05  2.5050e-03\n",
       " 1.3759e-02  1.1283e-02  2.8906e-03  2.0401e-01  1.8287e-05  5.4360e-01\n",
       " 2.8314e-04  8.7856e-01  1.3058e-02  3.9803e-02  2.7523e-03  1.5961e-02\n",
       " 5.8332e-05  1.4500e-05  2.4565e-03  1.7212e-03  1.7696e-03  2.7008e-02\n",
       " 5.5147e-04  1.8019e-05  4.1235e-04  2.3464e-05  1.2954e-04  2.3172e-02\n",
       " 9.9917e-01  1.0835e-09  1.4213e-04  1.6570e-06  1.6152e-05  2.8367e-05\n",
       " 4.7748e-05  9.1852e-02  4.8287e-02  2.8802e-02  1.1067e-03  2.0679e-02\n",
       " 5.2305e-06  6.0313e-05  1.9936e-04  2.8808e-04  3.1071e-02  3.2282e-04\n",
       " 2.1254e-05  1.4747e-06  1.0025e-04  1.7067e-04  1.6732e-07  4.1783e-04\n",
       " 1.1343e-04  2.9871e-05  5.6348e-05  9.9966e-01  6.9282e-08  1.3010e-04\n",
       " 2.9759e-06  3.7191e-04  3.2181e-03  4.0819e-05  2.3683e-05  3.4352e-03\n",
       " 7.9935e-04  4.8682e-03  1.5383e-01  8.6277e-02  1.9184e-03  1.0392e-01\n",
       " 1.6975e-06  9.6803e-01  4.7626e-03  5.5375e-03  1.6388e-04  1.7126e-04\n",
       " 6.0937e-03  2.3837e-03  2.5970e-03  3.3110e-02  8.0366e-03  4.4216e-01\n",
       " 9.7308e-06  1.4861e-02  7.8461e-03  6.1960e-03  7.4882e-05  7.5407e-04\n",
       " 4.8158e-03  8.1180e-05  6.3203e-03  9.3867e-04  1.4808e-03  1.8684e-01\n",
       " 1.1446e-06  2.4756e-06  3.4928e-06  7.3209e-06  9.7794e-01  8.6459e-03\n",
       " 3.2328e-04  2.3241e-06  1.2669e-03  1.8496e-05  3.0920e-07  1.4435e-04\n",
       " 9.8753e-01  8.1600e-08  2.9592e-04  1.4903e-03  9.3533e-06  1.0248e-02\n",
       " 9.9963e-01  4.3735e-12  8.3862e-07  8.7677e-07  1.5800e-08  3.1076e-04\n",
       " 6.4045e-07  7.6112e-06  4.3497e-06  8.6448e-04  5.7244e-03  1.2658e-02\n",
       " 1.7166e-04  7.6134e-05  2.6852e-03  4.9840e-04  2.8490e-04  8.5890e-03\n",
       " 1.9103e-07  9.7219e-01  4.5645e-04  1.1103e-03  1.1951e-05  3.7640e-03\n",
       " 3.3001e-07  1.5026e-06  2.7682e-06  1.3682e-07  9.9861e-01  6.9073e-06\n",
       " 3.7787e-06  1.3476e-08  1.9490e-05  6.3433e-04  6.5112e-03  4.3753e-04\n",
       " 2.6175e-09  3.3514e-08  4.1598e-08  6.2628e-07  5.5271e-03  1.2157e-06\n",
       " 2.0175e-07  1.3576e-06  4.6027e-06  1.7042e-05  6.0288e-03  1.0560e-06\n",
       " 4.5804e-01  5.0780e-05  8.5844e-02  2.1260e-02  1.8209e-03  4.0931e-02\n",
       " 1.2605e-06  9.4834e-01  5.6798e-04  1.7022e-03  3.5589e-05  2.0707e-02\n",
       " 2.4822e-06  9.2330e-01  1.5847e-03  8.5777e-03  1.3726e-05  5.6086e-03\n",
       " 2.6925e-04  1.0467e-08  9.1431e-04  1.3241e-06  1.0481e-04  9.2903e-04\n",
       " 3.1579e-06  9.9220e-01  4.4505e-03  5.9490e-04  3.8451e-06  4.2368e-04\n",
       " 4.2821e-04  9.7545e-08  2.2007e-03  8.3872e-07  2.6166e-04  1.5208e-04\n",
       " 2.1836e-06  1.2829e-07  3.7491e-06  9.0101e-08  9.9733e-01  5.3055e-05\n",
       " 1.0405e-06  9.9042e-01  1.0358e-03  2.8349e-03  2.8236e-05  4.9375e-04\n",
       " 2.1329e-01  2.8627e-06  4.8279e-01  1.0830e-02  2.4974e-03  1.2369e-01\n",
       " 2.4876e-06  1.0061e-07  1.8088e-04  3.1742e-04  5.0107e-07  4.2649e-06\n",
       " 6.0487e-03  3.4808e-09  1.7811e-04  1.6528e-06  3.3268e-04  1.3717e-05\n",
       " 9.5878e-08  5.0355e-10  1.4906e-08  2.0783e-08  9.9901e-01  2.8253e-06\n",
       " 3.0875e-06  3.8558e-06  8.0844e-06  2.7590e-07  9.9907e-01  7.9925e-05\n",
       " 8.5422e-02  1.1938e-01  1.2799e-01  6.0780e-02  2.9005e-02  1.6509e-01\n",
       " 2.8409e-08  5.6535e-07  1.7281e-06  9.9981e-01  8.3839e-08  4.3879e-05\n",
       " 1.8105e-01  4.0511e-07  5.7726e-03  1.4009e-05  5.6345e-01  5.0128e-02\n",
       " 4.3184e-05  1.0455e-06  5.7485e-04  9.9820e-01  1.5764e-07  1.0282e-03\n",
       " 6.7765e-05  2.0320e-06  8.6164e-04  1.7267e-03  3.0247e-04  3.1488e-02\n",
       " 2.3829e-07  9.8995e-01  3.4421e-03  5.4243e-04  1.5468e-06  1.2116e-04\n",
       " 2.0721e-03  3.0637e-09  1.3293e-02  2.1070e-06  9.4507e-01  3.6308e-04\n",
       " 1.2858e-05  2.7580e-03  8.5419e-03  9.1998e-01  3.6505e-03  8.8256e-03\n",
       "\n",
       "Columns 6 to 9 \n",
       " 5.3247e-05  5.1009e-03  4.6721e-03  9.4667e-01\n",
       " 1.8429e-02  1.1678e-05  7.0632e-05  9.0850e-05\n",
       " 6.9452e-02  7.0925e-05  2.0256e-02  3.4903e-04\n",
       " 3.9408e-06  8.3519e-05  7.2754e-02  1.6952e-05\n",
       " 1.9512e-03  4.2124e-04  4.1814e-02  2.4717e-03\n",
       " 3.7848e-04  1.1844e-01  3.6269e-03  8.9394e-02\n",
       " 1.1141e-01  1.2640e-09  1.9826e-01  2.5458e-05\n",
       " 9.0583e-10  2.5678e-10  8.4162e-08  2.7835e-10\n",
       " 1.9062e-04  9.2654e-06  5.1207e-05  9.1720e-04\n",
       " 3.2381e-01  5.9951e-08  7.6880e-04  5.8592e-05\n",
       " 7.9989e-03  2.9229e-03  5.4233e-04  4.2833e-04\n",
       " 2.0151e-09  9.9052e-01  2.0589e-05  9.3804e-03\n",
       " 2.8554e-02  4.5860e-04  4.4785e-03  1.4741e-01\n",
       " 4.8280e-04  1.2142e-06  3.2747e-04  2.9082e-06\n",
       " 2.8145e-06  2.5039e-05  9.7352e-01  5.7442e-03\n",
       " 9.9746e-01  9.3031e-09  3.6068e-04  2.9513e-05\n",
       " 1.4493e-06  9.9256e-01  1.8134e-04  3.6683e-03\n",
       " 3.0544e-05  2.4817e-04  2.2220e-01  1.9592e-03\n",
       " 3.1144e-04  7.2237e-04  4.5938e-02  2.6139e-03\n",
       " 3.2145e-05  8.0343e-05  9.6454e-01  2.3219e-03\n",
       " 9.7526e-01  1.2750e-08  4.3168e-04  5.9389e-06\n",
       " 2.2620e-05  3.4990e-04  4.0154e-06  2.6058e-04\n",
       " 1.4369e-02  7.1257e-04  7.9184e-01  2.3051e-03\n",
       " 6.2066e-05  1.3098e-01  1.9263e-03  8.3509e-01\n",
       " 1.1774e-08  1.6686e-04  9.9896e-01  1.6539e-04\n",
       " 6.6629e-07  1.3991e-08  1.0433e-05  4.7821e-09\n",
       " 9.8796e-01  6.6410e-09  4.9190e-03  2.7085e-05\n",
       " 5.5743e-03  7.6373e-04  6.3965e-01  2.3982e-03\n",
       " 2.9500e-05  1.7420e-02  2.1105e-03  1.7726e-03\n",
       " 5.0077e-01  2.6426e-03  1.2581e-03  9.4543e-04\n",
       " 7.8389e-06  8.8419e-01  2.9039e-03  8.3154e-02\n",
       " 7.9565e-01  4.2758e-06  3.2820e-03  5.8764e-04\n",
       " 5.9497e-05  7.1293e-04  7.5609e-03  5.0679e-03\n",
       " 7.8080e-06  7.1423e-08  9.9763e-01  6.0831e-04\n",
       " 6.4522e-06  3.6321e-05  1.2474e-04  2.6029e-04\n",
       " 1.3405e-06  5.2991e-08  4.8941e-05  3.4106e-06\n",
       " 2.6018e-05  5.4113e-03  1.1722e-02  9.6358e-01\n",
       " 3.6350e-04  1.1413e-03  8.6605e-01  1.2014e-01\n",
       " 1.0201e-03  5.0391e-05  2.1060e-02  3.3319e-04\n",
       " 4.7687e-04  6.6915e-05  3.4663e-05  7.9941e-04\n",
       " 4.2097e-06  5.8789e-03  6.2592e-03  9.8025e-01\n",
       " 1.4356e-06  9.3985e-05  2.8745e-04  9.9409e-01\n",
       " 2.0178e-06  2.9121e-02  1.2882e-04  9.6470e-01\n",
       " 3.7103e-01  1.1262e-03  4.9826e-03  1.4911e-02\n",
       " 1.1771e-03  3.4680e-04  2.6211e-02  9.1446e-04\n",
       " 4.3231e-04  5.3368e-04  5.8755e-02  1.1932e-03\n",
       " 9.9773e-01  1.4090e-08  4.9276e-05  2.4098e-06\n",
       " 1.1097e-04  4.2173e-05  2.1417e-03  3.0572e-05\n",
       " 2.3729e-03  1.9497e-05  9.8665e-01  7.9117e-03\n",
       " 1.2964e-04  5.4702e-05  1.9790e-05  2.4051e-03\n",
       " 3.0514e-04  3.0941e-03  6.9490e-04  1.0891e-03\n",
       " 2.7932e-04  1.7963e-02  5.0024e-03  1.4365e-01\n",
       " 1.4935e-08  9.9257e-01  2.8050e-06  6.9246e-03\n",
       " 2.1782e-04  1.4750e-02  3.7702e-03  9.7469e-01\n",
       " 7.4357e-05  3.4188e-08  1.8893e-04  7.1872e-04\n",
       " 4.1983e-04  2.0697e-05  5.4021e-05  3.3655e-04\n",
       " 6.0500e-02  5.3497e-03  3.1330e-01  3.3188e-02\n",
       " 1.1707e-10  2.7616e-07  1.4414e-04  4.8555e-07\n",
       " 4.6077e-02  7.1345e-04  8.7512e-03  1.4404e-01\n",
       " 9.0561e-08  2.4932e-06  1.5259e-04  2.1110e-06\n",
       " 4.1239e-05  4.0458e-06  9.6529e-01  2.1895e-04\n",
       " 3.2266e-04  4.5961e-05  5.4380e-03  1.3266e-04\n",
       " 3.4732e-02  4.8342e-05  1.9469e-03  2.4686e-03\n",
       " 1.4568e-04  7.1239e-04  4.1531e-02  1.3839e-02\n",
       "[torch.FloatTensor of size 64x10]"
      ]
     },
     "execution_count": 46,
     "metadata": {},
     "output_type": "execute_result"
    }
   ],
   "source": [
    "preds = net2(vxmb).exp()\n",
    "preds"
   ]
  },
  {
   "cell_type": "code",
   "execution_count": 47,
   "metadata": {
    "scrolled": true
   },
   "outputs": [
    {
     "data": {
      "text/plain": [
       "Variable containing:\n",
       " 9\n",
       " 2\n",
       " 5\n",
       " 2\n",
       " 0\n",
       " 4\n",
       " 5\n",
       " 0\n",
       " 4\n",
       " 2\n",
       " 3\n",
       " 7\n",
       " 4\n",
       " 2\n",
       " 8\n",
       " 6\n",
       " 7\n",
       " 5\n",
       " 1\n",
       " 8\n",
       " 6\n",
       " 0\n",
       " 8\n",
       " 9\n",
       " 8\n",
       " 3\n",
       " 6\n",
       " 8\n",
       " 1\n",
       " 6\n",
       " 7\n",
       " 6\n",
       " 4\n",
       " 8\n",
       " 0\n",
       " 0\n",
       " 9\n",
       " 8\n",
       " 1\n",
       " 4\n",
       " 9\n",
       " 9\n",
       " 9\n",
       " 0\n",
       " 1\n",
       " 1\n",
       " 6\n",
       " 1\n",
       " 8\n",
       " 4\n",
       " 1\n",
       " 2\n",
       " 7\n",
       " 9\n",
       " 4\n",
       " 4\n",
       " 8\n",
       " 3\n",
       " 4\n",
       " 3\n",
       " 8\n",
       " 1\n",
       " 4\n",
       " 3\n",
       "[torch.LongTensor of size 64]"
      ]
     },
     "execution_count": 47,
     "metadata": {},
     "output_type": "execute_result"
    }
   ],
   "source": [
    "preds.max(1)[1]"
   ]
  },
  {
   "cell_type": "code",
   "execution_count": 157,
   "metadata": {},
   "outputs": [],
   "source": [
    "net3 = nn.Sequential(\n",
    "    nn.Linear(28*28, 100),\n",
    "    nn.ReLU(),\n",
    "    nn.Linear(100, 100),\n",
    "    nn.ReLU(),\n",
    "    nn.Linear(100, 10),\n",
    "    nn.LogSoftmax()\n",
    ")"
   ]
  },
  {
   "cell_type": "code",
   "execution_count": 163,
   "metadata": {},
   "outputs": [
    {
     "data": {
      "text/plain": [
       "([78400, 100, 10000, 100, 1000, 10], 89610)"
      ]
     },
     "execution_count": 163,
     "metadata": {},
     "output_type": "execute_result"
    }
   ],
   "source": [
    "t = [o.numel() for o in net3.parameters()]\n",
    "t, sum(t)"
   ]
  },
  {
   "cell_type": "markdown",
   "metadata": {},
   "source": [
    "## because net3 has so many Parameters (89610 near 100'000) it is prone to overfitting so we should use regularization "
   ]
  },
  {
   "cell_type": "code",
   "execution_count": 158,
   "metadata": {},
   "outputs": [],
   "source": [
    "md = ImageClassifierData.from_arrays(path , (x,y) , (x_valid , y_valid))"
   ]
  },
  {
   "cell_type": "code",
   "execution_count": 159,
   "metadata": {},
   "outputs": [],
   "source": [
    "loss=nn.NLLLoss()\n",
    "metrics=[accuracy]\n",
    "#opt=optim.Adam(net3.parameters(), 1e-2)\n",
    "opt=optim.SGD(net3.parameters(), 1e-1, momentum=0.9, weight_decay=1e-3)"
   ]
  },
  {
   "cell_type": "code",
   "execution_count": 160,
   "metadata": {},
   "outputs": [],
   "source": [
    "set_lrs(opt,1e-2) # decay lr when it is gonna converge "
   ]
  },
  {
   "cell_type": "code",
   "execution_count": 161,
   "metadata": {},
   "outputs": [
    {
     "data": {
      "application/vnd.jupyter.widget-view+json": {
       "model_id": "7f792367af634af29d13f5305f1ce754",
       "version_major": 2,
       "version_minor": 0
      },
      "text/plain": [
       "HBox(children=(IntProgress(value=0, description='Epoch', max=5, style=ProgressStyle(description_width='initial…"
      ]
     },
     "metadata": {},
     "output_type": "display_data"
    },
    {
     "name": "stdout",
     "output_type": "stream",
     "text": [
      "epoch      trn_loss   val_loss   accuracy                                                                              \n",
      "    0      0.175525   0.15375    0.9558    \n",
      "    1      0.128496   0.117455   0.9667                                                                                \n",
      "    2      0.101498   0.094676   0.9721                                                                                \n",
      "    3      0.081121   0.093412   0.9713                                                                                \n",
      "    4      0.065103   0.084829   0.9748                                                                                \n",
      "\n"
     ]
    },
    {
     "data": {
      "text/plain": [
       "[array([0.08483]), 0.9748]"
      ]
     },
     "execution_count": 161,
     "metadata": {},
     "output_type": "execute_result"
    }
   ],
   "source": [
    "fit(net3, md, n_epochs=5, crit=loss, opt=opt, metrics=metrics)"
   ]
  },
  {
   "cell_type": "markdown",
   "metadata": {},
   "source": [
    "# element wise operations in pytorch "
   ]
  },
  {
   "cell_type": "code",
   "execution_count": 52,
   "metadata": {},
   "outputs": [
    {
     "data": {
      "text/plain": [
       "(array([10,  6, -4]), array([2, 8, 7]))"
      ]
     },
     "execution_count": 52,
     "metadata": {},
     "output_type": "execute_result"
    }
   ],
   "source": [
    "a = np.array([10,6,-4])\n",
    "b = np.array([2,8,7])\n",
    "\n",
    "a,b"
   ]
  },
  {
   "cell_type": "code",
   "execution_count": 53,
   "metadata": {},
   "outputs": [
    {
     "data": {
      "text/plain": [
       "array([12, 14,  3])"
      ]
     },
     "execution_count": 53,
     "metadata": {},
     "output_type": "execute_result"
    }
   ],
   "source": [
    "a + b"
   ]
  },
  {
   "cell_type": "code",
   "execution_count": 54,
   "metadata": {},
   "outputs": [
    {
     "data": {
      "text/plain": [
       "(\n",
       "  10\n",
       "   6\n",
       "  -4\n",
       " [torch.LongTensor of size 3], \n",
       "  2\n",
       "  8\n",
       "  7\n",
       " [torch.LongTensor of size 3])"
      ]
     },
     "execution_count": 54,
     "metadata": {},
     "output_type": "execute_result"
    }
   ],
   "source": [
    "a = T([10,6,-4])\n",
    "b = T([2,8,7])\n",
    "\n",
    "a,b"
   ]
  },
  {
   "cell_type": "code",
   "execution_count": 55,
   "metadata": {},
   "outputs": [
    {
     "data": {
      "text/plain": [
       "\n",
       " 12\n",
       " 14\n",
       "  3\n",
       "[torch.LongTensor of size 3]"
      ]
     },
     "execution_count": 55,
     "metadata": {},
     "output_type": "execute_result"
    }
   ],
   "source": [
    "a + b"
   ]
  },
  {
   "cell_type": "code",
   "execution_count": 56,
   "metadata": {},
   "outputs": [
    {
     "data": {
      "text/plain": [
       "\n",
       " 0\n",
       " 1\n",
       " 1\n",
       "[torch.ByteTensor of size 3]"
      ]
     },
     "execution_count": 56,
     "metadata": {},
     "output_type": "execute_result"
    }
   ],
   "source": [
    "a < b"
   ]
  },
  {
   "cell_type": "code",
   "execution_count": 3,
   "metadata": {},
   "outputs": [
    {
     "data": {
      "text/plain": [
       "array([[1, 2, 3],\n",
       "       [4, 5, 6],\n",
       "       [7, 8, 9]])"
      ]
     },
     "execution_count": 3,
     "metadata": {},
     "output_type": "execute_result"
    }
   ],
   "source": [
    "m = np.array([[1, 2, 3], [4,5,6], [7,8,9]]); m"
   ]
  },
  {
   "cell_type": "code",
   "execution_count": 4,
   "metadata": {},
   "outputs": [
    {
     "data": {
      "text/plain": [
       "(array([10, 20, 30]), (3,))"
      ]
     },
     "execution_count": 4,
     "metadata": {},
     "output_type": "execute_result"
    }
   ],
   "source": [
    "c = np.array([10,20,30]); c , c.shape"
   ]
  },
  {
   "cell_type": "code",
   "execution_count": 86,
   "metadata": {},
   "outputs": [
    {
     "data": {
      "text/plain": [
       "array([[11, 22, 33],\n",
       "       [14, 25, 36],\n",
       "       [17, 28, 39]])"
      ]
     },
     "execution_count": 86,
     "metadata": {},
     "output_type": "execute_result"
    }
   ],
   "source": [
    "c + m"
   ]
  },
  {
   "cell_type": "code",
   "execution_count": null,
   "metadata": {},
   "outputs": [],
   "source": []
  },
  {
   "cell_type": "code",
   "execution_count": 8,
   "metadata": {},
   "outputs": [
    {
     "data": {
      "text/plain": [
       "array([[1, 2, 3],\n",
       "       [4, 5, 6],\n",
       "       [7, 8, 9]])"
      ]
     },
     "execution_count": 8,
     "metadata": {},
     "output_type": "execute_result"
    }
   ],
   "source": [
    "m"
   ]
  },
  {
   "cell_type": "code",
   "execution_count": 5,
   "metadata": {},
   "outputs": [
    {
     "data": {
      "text/plain": [
       "array([[10, 20, 30]])"
      ]
     },
     "execution_count": 5,
     "metadata": {},
     "output_type": "execute_result"
    }
   ],
   "source": [
    "c = np.array([[10,20,30]]); c"
   ]
  },
  {
   "cell_type": "code",
   "execution_count": 6,
   "metadata": {},
   "outputs": [
    {
     "data": {
      "text/plain": [
       "(1, 3)"
      ]
     },
     "execution_count": 6,
     "metadata": {},
     "output_type": "execute_result"
    }
   ],
   "source": [
    "c.shape"
   ]
  },
  {
   "cell_type": "code",
   "execution_count": 7,
   "metadata": {},
   "outputs": [
    {
     "data": {
      "text/plain": [
       "array([[ 10,  40,  90],\n",
       "       [ 40, 100, 180],\n",
       "       [ 70, 160, 270]])"
      ]
     },
     "execution_count": 7,
     "metadata": {},
     "output_type": "execute_result"
    }
   ],
   "source": [
    "m * c"
   ]
  },
  {
   "cell_type": "code",
   "execution_count": null,
   "metadata": {},
   "outputs": [],
   "source": []
  },
  {
   "cell_type": "code",
   "execution_count": 60,
   "metadata": {},
   "outputs": [
    {
     "data": {
      "text/plain": [
       "array([[11, 22, 33],\n",
       "       [14, 25, 36],\n",
       "       [17, 28, 39]])"
      ]
     },
     "execution_count": 60,
     "metadata": {},
     "output_type": "execute_result"
    }
   ],
   "source": [
    "m + c"
   ]
  },
  {
   "cell_type": "code",
   "execution_count": 61,
   "metadata": {},
   "outputs": [],
   "source": [
    "c = c.reshape((3,1))"
   ]
  },
  {
   "cell_type": "code",
   "execution_count": 62,
   "metadata": {},
   "outputs": [
    {
     "data": {
      "text/plain": [
       "array([[11, 12, 13],\n",
       "       [24, 25, 26],\n",
       "       [37, 38, 39]])"
      ]
     },
     "execution_count": 62,
     "metadata": {},
     "output_type": "execute_result"
    }
   ],
   "source": [
    "m + c"
   ]
  },
  {
   "cell_type": "code",
   "execution_count": 63,
   "metadata": {},
   "outputs": [
    {
     "data": {
      "text/plain": [
       "(3,)"
      ]
     },
     "execution_count": 63,
     "metadata": {},
     "output_type": "execute_result"
    }
   ],
   "source": [
    "c = np.array([10,20,30]); c.shape"
   ]
  },
  {
   "cell_type": "code",
   "execution_count": 64,
   "metadata": {},
   "outputs": [
    {
     "data": {
      "text/plain": [
       "(1, 3)"
      ]
     },
     "execution_count": 64,
     "metadata": {},
     "output_type": "execute_result"
    }
   ],
   "source": [
    "c[None].shape"
   ]
  },
  {
   "cell_type": "code",
   "execution_count": 65,
   "metadata": {},
   "outputs": [
    {
     "data": {
      "text/plain": [
       "(3, 1)"
      ]
     },
     "execution_count": 65,
     "metadata": {},
     "output_type": "execute_result"
    }
   ],
   "source": [
    "c[:,None].shape"
   ]
  },
  {
   "cell_type": "code",
   "execution_count": 66,
   "metadata": {},
   "outputs": [
    {
     "data": {
      "text/plain": [
       "(1, 3, 1)"
      ]
     },
     "execution_count": 66,
     "metadata": {},
     "output_type": "execute_result"
    }
   ],
   "source": [
    "c[None,:,None].shape"
   ]
  },
  {
   "cell_type": "code",
   "execution_count": 67,
   "metadata": {},
   "outputs": [],
   "source": [
    "# don't confuse usage of  -1 and None"
   ]
  },
  {
   "cell_type": "code",
   "execution_count": 68,
   "metadata": {},
   "outputs": [
    {
     "data": {
      "text/plain": [
       "(3,)"
      ]
     },
     "execution_count": 68,
     "metadata": {},
     "output_type": "execute_result"
    }
   ],
   "source": [
    "c.shape"
   ]
  },
  {
   "cell_type": "code",
   "execution_count": 69,
   "metadata": {},
   "outputs": [
    {
     "data": {
      "text/plain": [
       "array([[10, 20, 30],\n",
       "       [10, 20, 30],\n",
       "       [10, 20, 30]])"
      ]
     },
     "execution_count": 69,
     "metadata": {},
     "output_type": "execute_result"
    }
   ],
   "source": [
    "np.broadcast_to(c,(3,3))"
   ]
  },
  {
   "cell_type": "code",
   "execution_count": 70,
   "metadata": {},
   "outputs": [
    {
     "data": {
      "text/plain": [
       "array([[10, 20, 30],\n",
       "       [10, 20, 30],\n",
       "       [10, 20, 30]])"
      ]
     },
     "execution_count": 70,
     "metadata": {},
     "output_type": "execute_result"
    }
   ],
   "source": [
    "np.broadcast_to(c,m.shape)"
   ]
  },
  {
   "cell_type": "code",
   "execution_count": 71,
   "metadata": {},
   "outputs": [
    {
     "data": {
      "text/plain": [
       "array([[100, 200, 300],\n",
       "       [200, 400, 600],\n",
       "       [300, 600, 900]])"
      ]
     },
     "execution_count": 71,
     "metadata": {},
     "output_type": "execute_result"
    }
   ],
   "source": [
    "c[None] * c[:,None]  # it is not matmul"
   ]
  },
  {
   "cell_type": "code",
   "execution_count": 72,
   "metadata": {},
   "outputs": [
    {
     "data": {
      "text/plain": [
       "(array([[1, 2, 3],\n",
       "        [4, 5, 6],\n",
       "        [7, 8, 9]]), array([10, 20, 30]))"
      ]
     },
     "execution_count": 72,
     "metadata": {},
     "output_type": "execute_result"
    }
   ],
   "source": [
    "m , c"
   ]
  },
  {
   "cell_type": "code",
   "execution_count": 73,
   "metadata": {},
   "outputs": [
    {
     "data": {
      "text/plain": [
       "array([140, 320, 500])"
      ]
     },
     "execution_count": 73,
     "metadata": {},
     "output_type": "execute_result"
    }
   ],
   "source": [
    "m @ c"
   ]
  },
  {
   "cell_type": "code",
   "execution_count": 74,
   "metadata": {},
   "outputs": [
    {
     "data": {
      "text/plain": [
       "\n",
       " 140\n",
       " 320\n",
       " 500\n",
       "[torch.LongTensor of size 3]"
      ]
     },
     "execution_count": 74,
     "metadata": {},
     "output_type": "execute_result"
    }
   ],
   "source": [
    "T(m) @ T(c)"
   ]
  },
  {
   "cell_type": "code",
   "execution_count": 76,
   "metadata": {},
   "outputs": [
    {
     "data": {
      "text/plain": [
       "((3,), (3, 3))"
      ]
     },
     "execution_count": 76,
     "metadata": {},
     "output_type": "execute_result"
    }
   ],
   "source": [
    "c.shape , m.shape"
   ]
  },
  {
   "cell_type": "code",
   "execution_count": 77,
   "metadata": {
    "collapsed": true
   },
   "outputs": [
    {
     "ename": "RuntimeError",
     "evalue": "size mismatch, m1: [3 x 3], m2: [1 x 3] at c:\\anaconda2\\conda-bld\\pytorch_1519501749874\\work\\torch\\lib\\th\\generic/THTensorMath.c:1434",
     "output_type": "error",
     "traceback": [
      "\u001b[1;31m---------------------------------------------------------------------------\u001b[0m",
      "\u001b[1;31mRuntimeError\u001b[0m                              Traceback (most recent call last)",
      "\u001b[1;32m<ipython-input-77-0d9b610e8c20>\u001b[0m in \u001b[0;36m<module>\u001b[1;34m\u001b[0m\n\u001b[1;32m----> 1\u001b[1;33m \u001b[0mT\u001b[0m\u001b[1;33m(\u001b[0m\u001b[0mm\u001b[0m\u001b[1;33m)\u001b[0m \u001b[1;33m@\u001b[0m \u001b[0mT\u001b[0m\u001b[1;33m(\u001b[0m\u001b[0mc\u001b[0m\u001b[1;33m[\u001b[0m\u001b[1;32mNone\u001b[0m\u001b[1;33m]\u001b[0m\u001b[1;33m)\u001b[0m\u001b[1;33m\u001b[0m\u001b[1;33m\u001b[0m\u001b[0m\n\u001b[0m",
      "\u001b[1;32mC:\\Users\\Lenovo\\Anaconda3\\envs\\fastai\\lib\\site-packages\\torch\\tensor.py\u001b[0m in \u001b[0;36m__matmul__\u001b[1;34m(self, other)\u001b[0m\n\u001b[0;32m    328\u001b[0m         \u001b[1;32mif\u001b[0m \u001b[1;32mnot\u001b[0m \u001b[0mtorch\u001b[0m\u001b[1;33m.\u001b[0m\u001b[0mis_tensor\u001b[0m\u001b[1;33m(\u001b[0m\u001b[0mother\u001b[0m\u001b[1;33m)\u001b[0m\u001b[1;33m:\u001b[0m\u001b[1;33m\u001b[0m\u001b[1;33m\u001b[0m\u001b[0m\n\u001b[0;32m    329\u001b[0m             \u001b[1;32mreturn\u001b[0m \u001b[0mNotImplemented\u001b[0m\u001b[1;33m\u001b[0m\u001b[1;33m\u001b[0m\u001b[0m\n\u001b[1;32m--> 330\u001b[1;33m         \u001b[1;32mreturn\u001b[0m \u001b[0mself\u001b[0m\u001b[1;33m.\u001b[0m\u001b[0mmatmul\u001b[0m\u001b[1;33m(\u001b[0m\u001b[0mother\u001b[0m\u001b[1;33m)\u001b[0m\u001b[1;33m\u001b[0m\u001b[1;33m\u001b[0m\u001b[0m\n\u001b[0m\u001b[0;32m    331\u001b[0m \u001b[1;33m\u001b[0m\u001b[0m\n\u001b[0;32m    332\u001b[0m     \u001b[1;32mdef\u001b[0m \u001b[0m__pow__\u001b[0m\u001b[1;33m(\u001b[0m\u001b[0mself\u001b[0m\u001b[1;33m,\u001b[0m \u001b[0mother\u001b[0m\u001b[1;33m)\u001b[0m\u001b[1;33m:\u001b[0m\u001b[1;33m\u001b[0m\u001b[1;33m\u001b[0m\u001b[0m\n",
      "\u001b[1;32mC:\\Users\\Lenovo\\Anaconda3\\envs\\fastai\\lib\\site-packages\\torch\\tensor.py\u001b[0m in \u001b[0;36mmatmul\u001b[1;34m(self, other)\u001b[0m\n\u001b[0;32m    189\u001b[0m \u001b[1;33m\u001b[0m\u001b[0m\n\u001b[0;32m    190\u001b[0m         See :func:`torch.matmul`.\"\"\"\n\u001b[1;32m--> 191\u001b[1;33m         \u001b[1;32mreturn\u001b[0m \u001b[0mtorch\u001b[0m\u001b[1;33m.\u001b[0m\u001b[0mmatmul\u001b[0m\u001b[1;33m(\u001b[0m\u001b[0mself\u001b[0m\u001b[1;33m,\u001b[0m \u001b[0mother\u001b[0m\u001b[1;33m)\u001b[0m\u001b[1;33m\u001b[0m\u001b[1;33m\u001b[0m\u001b[0m\n\u001b[0m\u001b[0;32m    192\u001b[0m \u001b[1;33m\u001b[0m\u001b[0m\n\u001b[0;32m    193\u001b[0m     \u001b[1;32mdef\u001b[0m \u001b[0mtolist\u001b[0m\u001b[1;33m(\u001b[0m\u001b[0mself\u001b[0m\u001b[1;33m)\u001b[0m\u001b[1;33m:\u001b[0m\u001b[1;33m\u001b[0m\u001b[1;33m\u001b[0m\u001b[0m\n",
      "\u001b[1;32mC:\\Users\\Lenovo\\Anaconda3\\envs\\fastai\\lib\\site-packages\\torch\\functional.py\u001b[0m in \u001b[0;36mmatmul\u001b[1;34m(tensor1, tensor2, out)\u001b[0m\n\u001b[0;32m    172\u001b[0m     \u001b[1;32melif\u001b[0m \u001b[0mdim_tensor1\u001b[0m \u001b[1;33m==\u001b[0m \u001b[1;36m2\u001b[0m \u001b[1;32mand\u001b[0m \u001b[0mdim_tensor2\u001b[0m \u001b[1;33m==\u001b[0m \u001b[1;36m2\u001b[0m\u001b[1;33m:\u001b[0m\u001b[1;33m\u001b[0m\u001b[1;33m\u001b[0m\u001b[0m\n\u001b[0;32m    173\u001b[0m         \u001b[1;32mif\u001b[0m \u001b[0mout\u001b[0m \u001b[1;32mis\u001b[0m \u001b[1;32mNone\u001b[0m\u001b[1;33m:\u001b[0m\u001b[1;33m\u001b[0m\u001b[1;33m\u001b[0m\u001b[0m\n\u001b[1;32m--> 174\u001b[1;33m             \u001b[1;32mreturn\u001b[0m \u001b[0mtorch\u001b[0m\u001b[1;33m.\u001b[0m\u001b[0mmm\u001b[0m\u001b[1;33m(\u001b[0m\u001b[0mtensor1\u001b[0m\u001b[1;33m,\u001b[0m \u001b[0mtensor2\u001b[0m\u001b[1;33m)\u001b[0m\u001b[1;33m\u001b[0m\u001b[1;33m\u001b[0m\u001b[0m\n\u001b[0m\u001b[0;32m    175\u001b[0m         \u001b[1;32melse\u001b[0m\u001b[1;33m:\u001b[0m\u001b[1;33m\u001b[0m\u001b[1;33m\u001b[0m\u001b[0m\n\u001b[0;32m    176\u001b[0m             \u001b[1;32mreturn\u001b[0m \u001b[0mtorch\u001b[0m\u001b[1;33m.\u001b[0m\u001b[0mmm\u001b[0m\u001b[1;33m(\u001b[0m\u001b[0mtensor1\u001b[0m\u001b[1;33m,\u001b[0m \u001b[0mtensor2\u001b[0m\u001b[1;33m,\u001b[0m \u001b[0mout\u001b[0m\u001b[1;33m=\u001b[0m\u001b[0mout\u001b[0m\u001b[1;33m)\u001b[0m\u001b[1;33m\u001b[0m\u001b[1;33m\u001b[0m\u001b[0m\n",
      "\u001b[1;31mRuntimeError\u001b[0m: size mismatch, m1: [3 x 3], m2: [1 x 3] at c:\\anaconda2\\conda-bld\\pytorch_1519501749874\\work\\torch\\lib\\th\\generic/THTensorMath.c:1434"
     ]
    }
   ],
   "source": [
    "T(m) @ T(c[None]) # Error"
   ]
  },
  {
   "cell_type": "code",
   "execution_count": 78,
   "metadata": {},
   "outputs": [
    {
     "data": {
      "text/plain": [
       "array([[10, 40],\n",
       "       [20,  0],\n",
       "       [30, -5]])"
      ]
     },
     "execution_count": 78,
     "metadata": {},
     "output_type": "execute_result"
    }
   ],
   "source": [
    "n = np.array([[10,40],[20,0],[30,-5]]); n"
   ]
  },
  {
   "cell_type": "code",
   "execution_count": 79,
   "metadata": {},
   "outputs": [
    {
     "data": {
      "text/plain": [
       "array([[1, 2, 3],\n",
       "       [4, 5, 6],\n",
       "       [7, 8, 9]])"
      ]
     },
     "execution_count": 79,
     "metadata": {},
     "output_type": "execute_result"
    }
   ],
   "source": [
    "m"
   ]
  },
  {
   "cell_type": "code",
   "execution_count": 83,
   "metadata": {},
   "outputs": [
    {
     "data": {
      "text/plain": [
       "(array([10, 20, 30]), (3,))"
      ]
     },
     "execution_count": 83,
     "metadata": {},
     "output_type": "execute_result"
    }
   ],
   "source": [
    "n[: , 0]  ,  n[: , 0].shape"
   ]
  },
  {
   "cell_type": "code",
   "execution_count": 87,
   "metadata": {},
   "outputs": [
    {
     "data": {
      "text/plain": [
       "array([140, 320, 500])"
      ]
     },
     "execution_count": 87,
     "metadata": {},
     "output_type": "execute_result"
    }
   ],
   "source": [
    "(m*n[:,0]).sum(1)"
   ]
  },
  {
   "cell_type": "code",
   "execution_count": 97,
   "metadata": {},
   "outputs": [
    {
     "data": {
      "text/plain": [
       "(array([ 25, 130, 235]), (3,))"
      ]
     },
     "execution_count": 97,
     "metadata": {},
     "output_type": "execute_result"
    }
   ],
   "source": [
    "Q = (m*n[:,1]).sum(1) ; Q , Q.shape"
   ]
  },
  {
   "cell_type": "code",
   "execution_count": 90,
   "metadata": {},
   "outputs": [
    {
     "data": {
      "text/plain": [
       "array([[140,  25],\n",
       "       [320, 130],\n",
       "       [500, 235]])"
      ]
     },
     "execution_count": 90,
     "metadata": {},
     "output_type": "execute_result"
    }
   ],
   "source": [
    "m @ n"
   ]
  },
  {
   "cell_type": "markdown",
   "metadata": {},
   "source": [
    "# lets write the code for fit"
   ]
  },
  {
   "cell_type": "code",
   "execution_count": 32,
   "metadata": {},
   "outputs": [],
   "source": [
    "dl = iter(md.trn_dl)"
   ]
  },
  {
   "cell_type": "code",
   "execution_count": 33,
   "metadata": {},
   "outputs": [],
   "source": [
    "net2 = LogReg()\n",
    "loss = nn.NLLLoss()\n",
    "learning_rate = 1e-3\n",
    "optimizer = optim.Adam(net2.parameters(),lr=learning_rate)"
   ]
  },
  {
   "cell_type": "code",
   "execution_count": 34,
   "metadata": {},
   "outputs": [],
   "source": [
    "xt , yt = next(dl)\n",
    "y_pred = net2(Variable(xt))"
   ]
  },
  {
   "cell_type": "code",
   "execution_count": 35,
   "metadata": {},
   "outputs": [
    {
     "name": "stdout",
     "output_type": "stream",
     "text": [
      "Variable containing:\n",
      " 2.3099\n",
      "[torch.FloatTensor of size 1]\n",
      "\n"
     ]
    }
   ],
   "source": [
    "l = loss(y_pred , Variable(yt))\n",
    "print(l)\n",
    "\n",
    "# at first i forgot initilizing net2 again and my loss was much smaller"
   ]
  },
  {
   "cell_type": "code",
   "execution_count": 36,
   "metadata": {},
   "outputs": [],
   "source": [
    "optimizer.zero_grad()\n",
    "l.backward()\n",
    "optimizer.step()"
   ]
  },
  {
   "cell_type": "code",
   "execution_count": 37,
   "metadata": {},
   "outputs": [
    {
     "name": "stdout",
     "output_type": "stream",
     "text": [
      "Variable containing:\n",
      " 2.2464\n",
      "[torch.FloatTensor of size 1]\n",
      "\n"
     ]
    }
   ],
   "source": [
    "y_pred = net2(Variable(xt))\n",
    "l = loss(y_pred , Variable(yt))\n",
    "print(l)"
   ]
  },
  {
   "cell_type": "code",
   "execution_count": 38,
   "metadata": {},
   "outputs": [],
   "source": [
    "xt , yt = next(dl)\n",
    "y_pred = net2(Variable(xt))"
   ]
  },
  {
   "cell_type": "code",
   "execution_count": 39,
   "metadata": {},
   "outputs": [
    {
     "name": "stdout",
     "output_type": "stream",
     "text": [
      "Variable containing:\n",
      " 2.2507\n",
      "[torch.FloatTensor of size 1]\n",
      "\n"
     ]
    }
   ],
   "source": [
    "l = loss(y_pred , Variable(yt))\n",
    "print(l)"
   ]
  },
  {
   "cell_type": "code",
   "execution_count": 40,
   "metadata": {},
   "outputs": [
    {
     "name": "stdout",
     "output_type": "stream",
     "text": [
      "loss:  2.2322325706481934 \t accuracy:  0.484375\n",
      "loss:  1.9570125341415405 \t accuracy:  0.578125\n",
      "loss:  1.6760571002960205 \t accuracy:  0.75\n",
      "loss:  1.3999433517456055 \t accuracy:  0.78125\n",
      "loss:  1.2230123281478882 \t accuracy:  0.78125\n",
      "loss:  1.1877285242080688 \t accuracy:  0.78125\n",
      "loss:  1.1064789295196533 \t accuracy:  0.78125\n",
      "loss:  0.9942381381988525 \t accuracy:  0.796875\n",
      "loss:  0.9403474926948547 \t accuracy:  0.828125\n",
      "loss:  0.9169701337814331 \t accuracy:  0.859375\n"
     ]
    }
   ],
   "source": [
    "for t in range(100):\n",
    "    xt,yt = next(dl)\n",
    "    y_pred = net2(Variable(xt))\n",
    "    l = loss(y_pred,Variable(yt))\n",
    "    \n",
    "    if t % 10 == 0:\n",
    "        accuracy = np.mean( to_np(y_pred).argmax(1) == to_np(yt))\n",
    "        print(\"loss: \", l.data[0], \"\\t accuracy: \", accuracy)\n",
    "    \n",
    "    optimizer.zero_grad() # remove gradients of previous step , \n",
    "                          #it exist because you can have several loss func \n",
    "    l.backward()\n",
    "    optimizer.step()"
   ]
  },
  {
   "cell_type": "code",
   "execution_count": 45,
   "metadata": {},
   "outputs": [],
   "source": [
    "def score(x,y):\n",
    "    y_pred = to_np(net2(Variable(x)))\n",
    "    return np.mean(y_pred.argmax(axis = 1) == to_np(y))"
   ]
  },
  {
   "cell_type": "code",
   "execution_count": 50,
   "metadata": {},
   "outputs": [
    {
     "name": "stdout",
     "output_type": "stream",
     "text": [
      "0.8532046178343949\n"
     ]
    }
   ],
   "source": [
    "net2 = LogReg()\n",
    "loss=nn.NLLLoss()\n",
    "learning_rate = 1e-2\n",
    "optimizer=optim.SGD(net2.parameters(), lr=learning_rate)\n",
    "\n",
    "for epoch in range(1):\n",
    "    losses=[]\n",
    "    dl = iter(md.trn_dl)\n",
    "    for t in dl : #range(len(dl)):\n",
    "        # Forward pass: compute predicted y and loss by passing x to the model.\n",
    "        xt, yt = next(dl)\n",
    "        y_pred = net2(V(xt))\n",
    "        l = loss(y_pred, V(yt))\n",
    "        losses.append(l)\n",
    "\n",
    "        # Before the backward pass, use the optimizer object to zero all of the\n",
    "        # gradients for the variables it will update (which are the learnable weights of the model)\n",
    "        optimizer.zero_grad()\n",
    "\n",
    "        # Backward pass: compute gradient of the loss with respect to model parameters\n",
    "        l.backward()\n",
    "\n",
    "        # Calling the step function on an Optimizer makes an update to its parameters\n",
    "        optimizer.step()\n",
    "    \n",
    "    val_dl = iter(md.val_dl)\n",
    "    val_scores = [score(*i) for i in val_dl] #range(len(val_dl))\n",
    "    print(np.mean(val_scores))"
   ]
  },
  {
   "cell_type": "code",
   "execution_count": 59,
   "metadata": {
    "collapsed": true
   },
   "outputs": [
    {
     "data": {
      "text/plain": [
       "[0.859375,\n",
       " 0.828125,\n",
       " 0.84375,\n",
       " 0.828125,\n",
       " 0.890625,\n",
       " 0.765625,\n",
       " 0.71875,\n",
       " 0.890625,\n",
       " 0.734375,\n",
       " 0.765625,\n",
       " 0.796875,\n",
       " 0.796875,\n",
       " 0.78125,\n",
       " 0.78125,\n",
       " 0.875,\n",
       " 0.9375,\n",
       " 0.875,\n",
       " 0.8125,\n",
       " 0.828125,\n",
       " 0.765625,\n",
       " 0.796875,\n",
       " 0.8125,\n",
       " 0.84375,\n",
       " 0.859375,\n",
       " 0.9375,\n",
       " 0.875,\n",
       " 0.875,\n",
       " 0.875,\n",
       " 0.8125,\n",
       " 0.90625,\n",
       " 0.875,\n",
       " 0.84375,\n",
       " 0.734375,\n",
       " 0.65625,\n",
       " 0.78125,\n",
       " 0.828125,\n",
       " 0.84375,\n",
       " 0.84375,\n",
       " 0.84375,\n",
       " 0.890625,\n",
       " 0.9375,\n",
       " 0.8125,\n",
       " 0.765625,\n",
       " 0.703125,\n",
       " 0.859375,\n",
       " 0.75,\n",
       " 0.828125,\n",
       " 0.78125,\n",
       " 0.875,\n",
       " 0.796875,\n",
       " 0.84375,\n",
       " 0.828125,\n",
       " 0.921875,\n",
       " 0.921875,\n",
       " 0.765625,\n",
       " 0.734375,\n",
       " 0.84375,\n",
       " 0.875,\n",
       " 0.859375,\n",
       " 0.875,\n",
       " 0.78125,\n",
       " 0.8125,\n",
       " 0.8125,\n",
       " 0.796875,\n",
       " 0.875,\n",
       " 0.84375,\n",
       " 0.875,\n",
       " 0.9375,\n",
       " 0.828125,\n",
       " 0.78125,\n",
       " 0.828125,\n",
       " 0.796875,\n",
       " 0.90625,\n",
       " 0.921875,\n",
       " 0.84375,\n",
       " 0.875,\n",
       " 0.765625,\n",
       " 0.734375,\n",
       " 0.84375,\n",
       " 0.890625,\n",
       " 0.921875,\n",
       " 0.859375,\n",
       " 0.859375,\n",
       " 0.875,\n",
       " 0.859375,\n",
       " 0.875,\n",
       " 0.90625,\n",
       " 0.84375,\n",
       " 0.890625,\n",
       " 0.859375,\n",
       " 0.8125,\n",
       " 0.859375,\n",
       " 0.9375,\n",
       " 0.890625,\n",
       " 0.890625,\n",
       " 0.875,\n",
       " 0.875,\n",
       " 0.828125,\n",
       " 0.875,\n",
       " 0.8125,\n",
       " 0.90625,\n",
       " 0.734375,\n",
       " 0.90625,\n",
       " 0.828125,\n",
       " 0.875,\n",
       " 0.890625,\n",
       " 0.828125,\n",
       " 0.859375,\n",
       " 0.890625,\n",
       " 0.890625,\n",
       " 0.828125,\n",
       " 0.90625,\n",
       " 0.875,\n",
       " 0.75,\n",
       " 0.8125,\n",
       " 0.859375,\n",
       " 0.84375,\n",
       " 0.796875,\n",
       " 0.9375,\n",
       " 0.796875,\n",
       " 0.78125,\n",
       " 0.875,\n",
       " 0.875,\n",
       " 0.875,\n",
       " 0.875,\n",
       " 0.890625,\n",
       " 0.828125,\n",
       " 0.953125,\n",
       " 0.953125,\n",
       " 0.890625,\n",
       " 0.890625,\n",
       " 0.8125,\n",
       " 0.90625,\n",
       " 0.921875,\n",
       " 0.90625,\n",
       " 0.90625,\n",
       " 0.9375,\n",
       " 0.84375,\n",
       " 0.953125,\n",
       " 0.984375,\n",
       " 0.921875,\n",
       " 0.953125,\n",
       " 0.984375,\n",
       " 0.84375,\n",
       " 0.921875,\n",
       " 0.890625,\n",
       " 0.796875,\n",
       " 0.84375,\n",
       " 0.96875,\n",
       " 0.9375,\n",
       " 0.9375,\n",
       " 0.796875,\n",
       " 0.8125,\n",
       " 0.984375,\n",
       " 0.890625,\n",
       " 0.8125,\n",
       " 0.9375]"
      ]
     },
     "execution_count": 59,
     "metadata": {},
     "output_type": "execute_result"
    }
   ],
   "source": [
    "val_scores"
   ]
  },
  {
   "cell_type": "code",
   "execution_count": 62,
   "metadata": {},
   "outputs": [
    {
     "name": "stdout",
     "output_type": "stream",
     "text": [
      "0.8540007961783439\n"
     ]
    }
   ],
   "source": [
    "net2 = LogReg()\n",
    "loss=nn.NLLLoss()\n",
    "lr = 1e-2\n",
    "#optimizer=optim.SGD(net2.parameters(), lr=learning_rate)\n",
    "w , b = net2.l1_w , net2.l1_b\n",
    "\n",
    "for epoch in range(1):\n",
    "    losses=[]\n",
    "    dl = iter(md.trn_dl)\n",
    "    for t in dl : #range(len(dl)):\n",
    "        # Forward pass: compute predicted y and loss by passing x to the model.\n",
    "        xt, yt = next(dl)\n",
    "        y_pred = net2(V(xt))\n",
    "        l = loss(y_pred, V(yt))\n",
    "        losses.append(l)\n",
    "\n",
    "        # Before the backward pass, use the optimizer object to zero all of the\n",
    "        # gradients for the variables it will update (which are the learnable weights of the model)\n",
    "        #optimizer.zero_grad()\n",
    "\n",
    "        # Backward pass: compute gradient of the loss with respect to model parameters\n",
    "        l.backward()\n",
    "\n",
    "        w.data -= w.grad.data * lr\n",
    "        b.data -= b.grad.data * lr\n",
    "        \n",
    "        w.grad.data.zero_()\n",
    "        b.grad.data.zero_()   \n",
    "    \n",
    "    val_dl = iter(md.val_dl)\n",
    "    val_scores = [score(*i) for i in val_dl] #range(len(val_dl))\n",
    "    print(np.mean(val_scores))"
   ]
  },
  {
   "cell_type": "code",
   "execution_count": null,
   "metadata": {},
   "outputs": [],
   "source": []
  },
  {
   "cell_type": "code",
   "execution_count": null,
   "metadata": {},
   "outputs": [],
   "source": []
  },
  {
   "cell_type": "code",
   "execution_count": null,
   "metadata": {},
   "outputs": [],
   "source": []
  },
  {
   "cell_type": "code",
   "execution_count": null,
   "metadata": {},
   "outputs": [],
   "source": []
  },
  {
   "cell_type": "code",
   "execution_count": null,
   "metadata": {},
   "outputs": [],
   "source": []
  },
  {
   "cell_type": "code",
   "execution_count": null,
   "metadata": {},
   "outputs": [],
   "source": []
  }
 ],
 "metadata": {
  "kernelspec": {
   "display_name": "Python 3",
   "language": "python",
   "name": "python3"
  },
  "language_info": {
   "codemirror_mode": {
    "name": "ipython",
    "version": 3
   },
   "file_extension": ".py",
   "mimetype": "text/x-python",
   "name": "python",
   "nbconvert_exporter": "python",
   "pygments_lexer": "ipython3",
   "version": "3.6.7"
  }
 },
 "nbformat": 4,
 "nbformat_minor": 2
}

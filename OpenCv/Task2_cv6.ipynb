{
 "cells": [
  {
   "cell_type": "code",
   "execution_count": 5,
   "metadata": {},
   "outputs": [
    {
     "name": "stdout",
     "output_type": "stream",
     "text": [
      "--------------------\n",
      "Connected Component:  0\n",
      "center= 410.92,237.05\n",
      "left=  0\n",
      "top=   0\n",
      "width=   816\n",
      "height=  459\n",
      "area=  325473\n",
      "--------------------\n",
      "Connected Component:  1\n",
      "center= 401.81,153.02\n",
      "left=  323\n",
      "top=   33\n",
      "width=   168\n",
      "height=  215\n",
      "area=  21982\n",
      "--------------------\n",
      "Connected Component:  2\n",
      "center= 237.71,180.09\n",
      "left=  161\n",
      "top=   78\n",
      "width=   164\n",
      "height=  175\n",
      "area=  13685\n",
      "--------------------\n",
      "Connected Component:  3\n",
      "center= 716.71,181.44\n",
      "left=  674\n",
      "top=   140\n",
      "width=   87\n",
      "height=  83\n",
      "area=  6262\n",
      "--------------------\n",
      "Connected Component:  4\n",
      "center= 72.90,214.85\n",
      "left=  33\n",
      "top=   177\n",
      "width=   80\n",
      "height=  74\n",
      "area=  3787\n",
      "--------------------\n",
      "Connected Component:  5\n",
      "center= 571.94,200.31\n",
      "left=  553\n",
      "top=   180\n",
      "width=   39\n",
      "height=  39\n",
      "area=  1309\n",
      "--------------------\n",
      "Connected Component:  6\n",
      "center= 627.61,282.14\n",
      "left=  606\n",
      "top=   249\n",
      "width=   47\n",
      "height=  60\n",
      "area=  2046\n"
     ]
    }
   ],
   "source": [
    "import numpy as np\n",
    "import cv2\n",
    "\n",
    "I1 = cv2.imread('../Data/scene1.jpg')\n",
    "I2 = cv2.imread('../Data/scene2.jpg')\n",
    "\n",
    "cv2.imshow('Image 1 (background)', I1)\n",
    "cv2.waitKey(0)\n",
    "\n",
    "cv2.imshow('Image 2 (with toys)', I2)\n",
    "cv2.waitKey(0)\n",
    "\n",
    "K = np.abs(np.int16(I2)-np.int16(I1)) # take the (signed int) differnce\n",
    "K = K.max(axis=2) # making that one dimentional # choose the maximum value over color channels\n",
    "# print(\"k.shape is: \", K.shape())\n",
    "# print(\"k.shape is: \", type(K))\n",
    "K = np.uint8(K)\n",
    "cv2.imshow('The difference image', K)\n",
    "cv2.waitKey(0)\n",
    "\n",
    "threshold = 30\n",
    "ret, T = cv2.threshold(K,threshold,255,cv2.THRESH_BINARY)\n",
    "cv2.imshow('Thresholded', T)\n",
    "cv2.waitKey(0)\n",
    "\n",
    "# opening\n",
    "opening_k_size = 5\n",
    "kernel = np.ones((opening_k_size,opening_k_size),np.uint8)\n",
    "T = cv2.morphologyEx(T, cv2.MORPH_OPEN, kernel)\n",
    "cv2.imshow('After Openning', T)\n",
    "cv2.waitKey(0)\n",
    "\n",
    "# closing\n",
    "closing_k_size = 17\n",
    "kernel = np.ones((closing_k_size,closing_k_size),np.uint8)\n",
    "T = cv2.morphologyEx(T, cv2.MORPH_CLOSE, kernel)\n",
    "cv2.imshow('After Closing', T)\n",
    "cv2.waitKey(0)\n",
    "\n",
    "\n",
    "n,C = cv2.connectedComponents(T);\n",
    "\n",
    "J = I2.copy()\n",
    "J[T != 0] = [255,255,255]\n",
    "font = cv2.FONT_HERSHEY_SIMPLEX \n",
    "cv2.putText(J,'There are %d toys!'%(n-1),(20,40), font, 1,(0,0,255),2)\n",
    "cv2.imshow('Number', J)\n",
    "cv2.waitKey()\n",
    "  \n",
    "    \n",
    "# connected components with statistics\n",
    "n,C,stats, centroids = cv2.connectedComponentsWithStats(T);\n",
    "max_area, indx_max_area = 1,1\n",
    "\n",
    "for i in range(n):\n",
    "    print(\"-\"*20)\n",
    "    print(\"Connected Component: \", i)\n",
    "    print(\"center= %.2f,%.2f\"%(centroids[i][0], centroids[i][1]))# CORDINATE OF THAT OBJECT\n",
    "    print(\"left= \", stats[i][0])# leftmost pixel location\n",
    "    print(\"top=  \",  stats[i][1])# top-most pixel location\n",
    "    print(\"width=  \", stats[i][2])\n",
    "    print(\"height= \", stats[i][3])\n",
    "    print(\"area= \", stats[i][4])\n",
    "    if(i == 0): continue\n",
    "    if(max_area < stats[i][4]): \n",
    "        max_area = stats[i][4]\n",
    "        indx_max_area = i\n",
    "    \n",
    "j = indx_max_area # j: index of largest connected component (change this line)\n",
    "J[C == j] = [0,0,255] # Paint largest connected component in RED\n",
    "cv2.imshow('Largest Toy in red', J)\n",
    "cv2.waitKey()\n",
    "\n",
    "cv2.destroyAllWindows()"
   ]
  },
  {
   "cell_type": "code",
   "execution_count": null,
   "metadata": {},
   "outputs": [],
   "source": []
  },
  {
   "cell_type": "code",
   "execution_count": null,
   "metadata": {},
   "outputs": [],
   "source": []
  },
  {
   "cell_type": "code",
   "execution_count": null,
   "metadata": {},
   "outputs": [],
   "source": []
  },
  {
   "cell_type": "code",
   "execution_count": null,
   "metadata": {},
   "outputs": [],
   "source": []
  },
  {
   "cell_type": "code",
   "execution_count": null,
   "metadata": {},
   "outputs": [],
   "source": []
  },
  {
   "cell_type": "code",
   "execution_count": null,
   "metadata": {},
   "outputs": [],
   "source": []
  },
  {
   "cell_type": "code",
   "execution_count": null,
   "metadata": {},
   "outputs": [],
   "source": []
  },
  {
   "cell_type": "code",
   "execution_count": null,
   "metadata": {},
   "outputs": [],
   "source": []
  },
  {
   "cell_type": "code",
   "execution_count": null,
   "metadata": {},
   "outputs": [],
   "source": []
  },
  {
   "cell_type": "code",
   "execution_count": null,
   "metadata": {},
   "outputs": [],
   "source": []
  },
  {
   "cell_type": "code",
   "execution_count": null,
   "metadata": {},
   "outputs": [],
   "source": []
  },
  {
   "cell_type": "code",
   "execution_count": null,
   "metadata": {},
   "outputs": [],
   "source": []
  },
  {
   "cell_type": "code",
   "execution_count": null,
   "metadata": {},
   "outputs": [],
   "source": []
  },
  {
   "cell_type": "code",
   "execution_count": null,
   "metadata": {},
   "outputs": [],
   "source": []
  },
  {
   "cell_type": "code",
   "execution_count": null,
   "metadata": {},
   "outputs": [],
   "source": []
  },
  {
   "cell_type": "code",
   "execution_count": null,
   "metadata": {},
   "outputs": [],
   "source": []
  },
  {
   "cell_type": "code",
   "execution_count": null,
   "metadata": {},
   "outputs": [],
   "source": []
  },
  {
   "cell_type": "code",
   "execution_count": null,
   "metadata": {},
   "outputs": [],
   "source": []
  },
  {
   "cell_type": "code",
   "execution_count": null,
   "metadata": {},
   "outputs": [],
   "source": []
  },
  {
   "cell_type": "code",
   "execution_count": null,
   "metadata": {},
   "outputs": [],
   "source": []
  },
  {
   "cell_type": "code",
   "execution_count": null,
   "metadata": {},
   "outputs": [],
   "source": []
  },
  {
   "cell_type": "code",
   "execution_count": null,
   "metadata": {},
   "outputs": [],
   "source": []
  },
  {
   "cell_type": "code",
   "execution_count": null,
   "metadata": {},
   "outputs": [],
   "source": []
  },
  {
   "cell_type": "code",
   "execution_count": null,
   "metadata": {},
   "outputs": [],
   "source": []
  },
  {
   "cell_type": "code",
   "execution_count": null,
   "metadata": {},
   "outputs": [],
   "source": []
  },
  {
   "cell_type": "code",
   "execution_count": null,
   "metadata": {},
   "outputs": [],
   "source": []
  },
  {
   "cell_type": "code",
   "execution_count": null,
   "metadata": {},
   "outputs": [],
   "source": []
  },
  {
   "cell_type": "code",
   "execution_count": null,
   "metadata": {},
   "outputs": [],
   "source": []
  },
  {
   "cell_type": "code",
   "execution_count": null,
   "metadata": {},
   "outputs": [],
   "source": []
  },
  {
   "cell_type": "code",
   "execution_count": null,
   "metadata": {},
   "outputs": [],
   "source": []
  },
  {
   "cell_type": "code",
   "execution_count": null,
   "metadata": {},
   "outputs": [],
   "source": []
  },
  {
   "cell_type": "code",
   "execution_count": null,
   "metadata": {},
   "outputs": [],
   "source": []
  },
  {
   "cell_type": "code",
   "execution_count": null,
   "metadata": {},
   "outputs": [],
   "source": []
  },
  {
   "cell_type": "code",
   "execution_count": null,
   "metadata": {},
   "outputs": [],
   "source": []
  },
  {
   "cell_type": "code",
   "execution_count": null,
   "metadata": {},
   "outputs": [],
   "source": []
  },
  {
   "cell_type": "code",
   "execution_count": null,
   "metadata": {},
   "outputs": [],
   "source": []
  },
  {
   "cell_type": "code",
   "execution_count": null,
   "metadata": {},
   "outputs": [],
   "source": []
  },
  {
   "cell_type": "code",
   "execution_count": null,
   "metadata": {},
   "outputs": [],
   "source": []
  },
  {
   "cell_type": "code",
   "execution_count": null,
   "metadata": {},
   "outputs": [],
   "source": []
  },
  {
   "cell_type": "code",
   "execution_count": null,
   "metadata": {},
   "outputs": [],
   "source": []
  },
  {
   "cell_type": "code",
   "execution_count": null,
   "metadata": {},
   "outputs": [],
   "source": []
  },
  {
   "cell_type": "code",
   "execution_count": null,
   "metadata": {},
   "outputs": [],
   "source": []
  },
  {
   "cell_type": "code",
   "execution_count": null,
   "metadata": {},
   "outputs": [],
   "source": []
  },
  {
   "cell_type": "code",
   "execution_count": null,
   "metadata": {},
   "outputs": [],
   "source": []
  },
  {
   "cell_type": "code",
   "execution_count": null,
   "metadata": {},
   "outputs": [],
   "source": []
  },
  {
   "cell_type": "code",
   "execution_count": null,
   "metadata": {},
   "outputs": [],
   "source": []
  }
 ],
 "metadata": {
  "kernelspec": {
   "display_name": "Python 3",
   "language": "python",
   "name": "python3"
  },
  "language_info": {
   "codemirror_mode": {
    "name": "ipython",
    "version": 3
   },
   "file_extension": ".py",
   "mimetype": "text/x-python",
   "name": "python",
   "nbconvert_exporter": "python",
   "pygments_lexer": "ipython3",
   "version": "3.6.5"
  }
 },
 "nbformat": 4,
 "nbformat_minor": 2
}

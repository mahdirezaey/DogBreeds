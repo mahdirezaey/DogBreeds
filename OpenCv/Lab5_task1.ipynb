{
 "cells": [
  {
   "cell_type": "code",
   "execution_count": 4,
   "metadata": {},
   "outputs": [],
   "source": [
    "import numpy as np\n",
    "import cv2\n",
    "\n",
    "cam_id = 0  # camera id\n",
    "thresh = 90\n",
    "\n",
    "lth = 50   # low threshold\n",
    "hth = 120  # high threshold"
   ]
  },
  {
   "cell_type": "code",
   "execution_count": 5,
   "metadata": {},
   "outputs": [],
   "source": [
    "def std_filter(I, ksize):\n",
    "    F = np.ones((ksize,ksize), dtype=np.float) / (ksize*ksize);\n",
    "       \n",
    "    MI = cv2.filter2D(I,-1,F) # apply mean filter on I\n",
    "\n",
    "    I2 = I * I; # I squared\n",
    "    MI2 = cv2.filter2D(I2,-1,F) # apply mean filter on I2\n",
    "\n",
    "    return np.sqrt(MI2 - MI * MI)\n",
    "\n",
    "def zero_crossing(I):\n",
    "    \"\"\"Finds locations at which zero-crossing occurs, used for\n",
    "    Laplacian edge detector\"\"\"\n",
    "    \n",
    "    Ishrx = I.copy();\n",
    "    Ishrx[:,1:] = Ishrx[:,:-1]\n",
    "        \n",
    "    Ishdy = I.copy();\n",
    "    Ishdy[1:,:] = Ishdy[:-1,:]\n",
    "        \n",
    "    ZC = (I==0) | (I * Ishrx < 0) | (I * Ishdy < 0); # zero crossing locations\n",
    "\n",
    "    SI = std_filter(I, 3) / I.max()\n",
    "\n",
    "    Mask =  ZC & (SI > .1)\n",
    "\n",
    "    E = Mask.astype(np.uint8) * 255 # the edges\n",
    "\n",
    "    return E"
   ]
  },
  {
   "cell_type": "code",
   "execution_count": 6,
   "metadata": {},
   "outputs": [
    {
     "name": "stderr",
     "output_type": "stream",
     "text": [
      "C:\\Users\\Lenovo\\Anaconda3\\lib\\site-packages\\ipykernel_launcher.py:25: RuntimeWarning: invalid value encountered in greater\n",
      "C:\\Users\\Lenovo\\Anaconda3\\lib\\site-packages\\ipykernel_launcher.py:9: RuntimeWarning: invalid value encountered in sqrt\n",
      "  if __name__ == '__main__':\n"
     ]
    },
    {
     "name": "stdout",
     "output_type": "stream",
     "text": [
      "sigma = 7\n",
      "sigma = 9\n",
      "sigma = 11\n",
      "sigma = 13\n",
      "sigma = 15\n",
      "sigma = 17\n",
      "sigma = 15\n",
      "sigma = 13\n",
      "sigma = 11\n",
      "sigma = 9\n",
      "sigma = 7\n",
      "sigma = 5\n",
      "sigma = 3\n",
      "sigma = 1\n"
     ]
    }
   ],
   "source": [
    "cap = cv2.VideoCapture(cam_id)\n",
    "\n",
    "mode = 'o' # show the original image at the beginning\n",
    "\n",
    "sigma = 5\n",
    "\n",
    "while True:\n",
    "    ret, I = cap.read();\n",
    "    #I = cv2.imread(\"agha-bozorg.jpg\") # can use this for testing \n",
    "    I = cv2.cvtColor(I, cv2.COLOR_BGR2GRAY) # convert to grayscale\n",
    "    Ib = cv2.GaussianBlur(I, (sigma,sigma), 0); # blur the image\n",
    "    \n",
    "    if mode == 'o':\n",
    "        # J = the original image\n",
    "        J = I\n",
    "        \n",
    "    elif mode == 'x':\n",
    "        # J = Sobel gradient in x direction\n",
    "        J = np.abs(cv2.Sobel(Ib,cv2.CV_64F,1,0));\n",
    "        \n",
    "    elif mode == 'y':\n",
    "        # J = Sobel gradient in y direction\n",
    "        J = np.abs(cv2.Sobel(Ib,cv2.CV_64F,0,1));\n",
    "    \n",
    "    elif mode == 'm':\n",
    "        # J = magnitude of Sobel gradient\n",
    "        Ix = np.abs(cv2.Sobel(Ib,cv2.CV_64F,1,0));\n",
    "        Iy = np.abs(cv2.Sobel(Ib,cv2.CV_64F,0,1));\n",
    "        J = np.sqrt(Ix*Ix + Iy*Iy)\n",
    "    \n",
    "    elif mode == 's':\n",
    "        # J = Sobel + thresholding edge detection\n",
    "        Ix = np.abs(cv2.Sobel(Ib,cv2.CV_64F,1,0));\n",
    "        Iy = np.abs(cv2.Sobel(Ib,cv2.CV_64F,0,1));\n",
    "        Es = np.sqrt(Ix*Ix + Iy*Iy)\n",
    "        J = np.uint8(Es > thresh)*255\n",
    "    \n",
    "    elif mode == 'l':\n",
    "        # J = Laplacian edges\n",
    "        El = cv2.Laplacian(Ib,cv2.CV_64F,ksize=5)# kernel size, second derivitive is down by some kernel (filter)\n",
    "        J = zero_crossing(El);\n",
    "\n",
    "    elif mode == 'c':\n",
    "        # J = Canny edges\n",
    "        J = cv2.Canny(Ib,lth, hth)\n",
    "    \n",
    "    # we set the image type to float and the\n",
    "    # maximum value to 1 (for a better illustration)\n",
    "    # notice that imshow in opencv does not automatically\n",
    "    # map the min and max values to black and white. \n",
    "    J = J.astype(np.float) / J.max();    \n",
    "    cv2.imshow(\"my stream\", J);\n",
    "\n",
    "    key = chr(cv2.waitKey(1) & 0xFF)\n",
    "\n",
    "    if key in ['o', 'x', 'y', 'm', 's', 'c', 'l']:\n",
    "        mode = key\n",
    "    if key == '-' and sigma > 1:\n",
    "        sigma -= 2\n",
    "        print(\"sigma = %d\"%sigma)\n",
    "    if key in ['+','=']:\n",
    "        sigma += 2    \n",
    "        print(\"sigma = %d\"%sigma)\n",
    "    elif key == 'q':\n",
    "        break\n",
    "\n",
    "cap.release()\n",
    "cv2.destroyAllWindows()"
   ]
  },
  {
   "cell_type": "code",
   "execution_count": null,
   "metadata": {},
   "outputs": [],
   "source": []
  },
  {
   "cell_type": "code",
   "execution_count": null,
   "metadata": {},
   "outputs": [],
   "source": []
  },
  {
   "cell_type": "code",
   "execution_count": null,
   "metadata": {},
   "outputs": [],
   "source": []
  },
  {
   "cell_type": "code",
   "execution_count": null,
   "metadata": {},
   "outputs": [],
   "source": []
  },
  {
   "cell_type": "code",
   "execution_count": null,
   "metadata": {},
   "outputs": [],
   "source": []
  },
  {
   "cell_type": "code",
   "execution_count": null,
   "metadata": {},
   "outputs": [],
   "source": []
  },
  {
   "cell_type": "code",
   "execution_count": null,
   "metadata": {},
   "outputs": [],
   "source": []
  },
  {
   "cell_type": "code",
   "execution_count": null,
   "metadata": {},
   "outputs": [],
   "source": []
  },
  {
   "cell_type": "code",
   "execution_count": null,
   "metadata": {},
   "outputs": [],
   "source": []
  },
  {
   "cell_type": "code",
   "execution_count": null,
   "metadata": {},
   "outputs": [],
   "source": []
  },
  {
   "cell_type": "code",
   "execution_count": null,
   "metadata": {},
   "outputs": [],
   "source": []
  },
  {
   "cell_type": "code",
   "execution_count": null,
   "metadata": {},
   "outputs": [],
   "source": []
  },
  {
   "cell_type": "code",
   "execution_count": null,
   "metadata": {},
   "outputs": [],
   "source": []
  },
  {
   "cell_type": "code",
   "execution_count": null,
   "metadata": {},
   "outputs": [],
   "source": []
  },
  {
   "cell_type": "code",
   "execution_count": null,
   "metadata": {},
   "outputs": [],
   "source": []
  },
  {
   "cell_type": "code",
   "execution_count": null,
   "metadata": {},
   "outputs": [],
   "source": []
  },
  {
   "cell_type": "code",
   "execution_count": null,
   "metadata": {},
   "outputs": [],
   "source": []
  },
  {
   "cell_type": "code",
   "execution_count": null,
   "metadata": {},
   "outputs": [],
   "source": []
  },
  {
   "cell_type": "code",
   "execution_count": null,
   "metadata": {},
   "outputs": [],
   "source": []
  },
  {
   "cell_type": "code",
   "execution_count": null,
   "metadata": {},
   "outputs": [],
   "source": []
  },
  {
   "cell_type": "code",
   "execution_count": null,
   "metadata": {},
   "outputs": [],
   "source": []
  },
  {
   "cell_type": "code",
   "execution_count": null,
   "metadata": {},
   "outputs": [],
   "source": []
  },
  {
   "cell_type": "code",
   "execution_count": null,
   "metadata": {},
   "outputs": [],
   "source": []
  },
  {
   "cell_type": "code",
   "execution_count": null,
   "metadata": {},
   "outputs": [],
   "source": []
  },
  {
   "cell_type": "code",
   "execution_count": null,
   "metadata": {},
   "outputs": [],
   "source": []
  },
  {
   "cell_type": "code",
   "execution_count": null,
   "metadata": {},
   "outputs": [],
   "source": []
  },
  {
   "cell_type": "code",
   "execution_count": null,
   "metadata": {},
   "outputs": [],
   "source": []
  },
  {
   "cell_type": "code",
   "execution_count": null,
   "metadata": {},
   "outputs": [],
   "source": []
  },
  {
   "cell_type": "code",
   "execution_count": null,
   "metadata": {},
   "outputs": [],
   "source": []
  },
  {
   "cell_type": "code",
   "execution_count": null,
   "metadata": {},
   "outputs": [],
   "source": []
  },
  {
   "cell_type": "code",
   "execution_count": null,
   "metadata": {},
   "outputs": [],
   "source": []
  },
  {
   "cell_type": "code",
   "execution_count": null,
   "metadata": {},
   "outputs": [],
   "source": []
  },
  {
   "cell_type": "code",
   "execution_count": null,
   "metadata": {},
   "outputs": [],
   "source": []
  },
  {
   "cell_type": "code",
   "execution_count": null,
   "metadata": {},
   "outputs": [],
   "source": []
  },
  {
   "cell_type": "code",
   "execution_count": null,
   "metadata": {},
   "outputs": [],
   "source": []
  },
  {
   "cell_type": "code",
   "execution_count": null,
   "metadata": {},
   "outputs": [],
   "source": []
  },
  {
   "cell_type": "code",
   "execution_count": null,
   "metadata": {},
   "outputs": [],
   "source": []
  },
  {
   "cell_type": "code",
   "execution_count": null,
   "metadata": {},
   "outputs": [],
   "source": []
  },
  {
   "cell_type": "code",
   "execution_count": null,
   "metadata": {},
   "outputs": [],
   "source": []
  },
  {
   "cell_type": "code",
   "execution_count": null,
   "metadata": {},
   "outputs": [],
   "source": []
  },
  {
   "cell_type": "code",
   "execution_count": null,
   "metadata": {},
   "outputs": [],
   "source": []
  },
  {
   "cell_type": "code",
   "execution_count": null,
   "metadata": {},
   "outputs": [],
   "source": []
  },
  {
   "cell_type": "code",
   "execution_count": null,
   "metadata": {},
   "outputs": [],
   "source": []
  },
  {
   "cell_type": "code",
   "execution_count": null,
   "metadata": {},
   "outputs": [],
   "source": []
  },
  {
   "cell_type": "code",
   "execution_count": null,
   "metadata": {},
   "outputs": [],
   "source": []
  },
  {
   "cell_type": "code",
   "execution_count": null,
   "metadata": {},
   "outputs": [],
   "source": []
  },
  {
   "cell_type": "code",
   "execution_count": null,
   "metadata": {},
   "outputs": [],
   "source": []
  },
  {
   "cell_type": "code",
   "execution_count": null,
   "metadata": {},
   "outputs": [],
   "source": []
  },
  {
   "cell_type": "code",
   "execution_count": null,
   "metadata": {},
   "outputs": [],
   "source": []
  },
  {
   "cell_type": "code",
   "execution_count": null,
   "metadata": {},
   "outputs": [],
   "source": []
  },
  {
   "cell_type": "code",
   "execution_count": null,
   "metadata": {},
   "outputs": [],
   "source": []
  },
  {
   "cell_type": "code",
   "execution_count": null,
   "metadata": {},
   "outputs": [],
   "source": []
  },
  {
   "cell_type": "code",
   "execution_count": null,
   "metadata": {},
   "outputs": [],
   "source": []
  },
  {
   "cell_type": "code",
   "execution_count": null,
   "metadata": {},
   "outputs": [],
   "source": []
  },
  {
   "cell_type": "code",
   "execution_count": null,
   "metadata": {},
   "outputs": [],
   "source": []
  },
  {
   "cell_type": "code",
   "execution_count": null,
   "metadata": {},
   "outputs": [],
   "source": []
  },
  {
   "cell_type": "code",
   "execution_count": null,
   "metadata": {},
   "outputs": [],
   "source": []
  },
  {
   "cell_type": "code",
   "execution_count": null,
   "metadata": {},
   "outputs": [],
   "source": []
  },
  {
   "cell_type": "code",
   "execution_count": null,
   "metadata": {},
   "outputs": [],
   "source": []
  },
  {
   "cell_type": "code",
   "execution_count": null,
   "metadata": {},
   "outputs": [],
   "source": []
  }
 ],
 "metadata": {
  "kernelspec": {
   "display_name": "Python 3",
   "language": "python",
   "name": "python3"
  },
  "language_info": {
   "codemirror_mode": {
    "name": "ipython",
    "version": 3
   },
   "file_extension": ".py",
   "mimetype": "text/x-python",
   "name": "python",
   "nbconvert_exporter": "python",
   "pygments_lexer": "ipython3",
   "version": "3.6.5"
  }
 },
 "nbformat": 4,
 "nbformat_minor": 2
}

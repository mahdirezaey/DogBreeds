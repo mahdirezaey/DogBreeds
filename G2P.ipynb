{
 "cells": [
  {
   "cell_type": "code",
   "execution_count": null,
   "metadata": {},
   "outputs": [],
   "source": [
    "Agenda (and Points to make it better) :\n",
    "    \n",
    "    teacher forcing\n",
    "    \n",
    "    attention model (in decoder)\n",
    "    \n",
    "    entity matrix as initializer \n",
    "    \n",
    "    separatly determining (کسره آخر) , one separat predictor along with y  to backprop (attention of it maybe should the entire sentence)\n",
    "    \n",
    "    word2vec(actualy char2vec) of embedding of (LM  predicting the next char) for both decoder and enc embedding \n",
    "\n",
    "    using word2vec , SOP tagging , lematization , stemming  along others\n",
    "    \n",
    "    bidirectional for decoder\n",
    "    \n",
    "    removing # and $ from all @ \n",
    "\n",
    "    using LM (using LM weights in our G2P model)\n",
    "\n",
    "    geting loss from backward and forward (ansamble)\n",
    "\n",
    "    end of string , <bos> , <eos>  same thing for words \n",
    "\n",
    "    using more layer (nl) , nh , emb_sz , ..."
   ]
  },
  {
   "cell_type": "code",
   "execution_count": null,
   "metadata": {},
   "outputs": [],
   "source": []
  },
  {
   "cell_type": "code",
   "execution_count": 90,
   "metadata": {},
   "outputs": [],
   "source": [
    "%matplotlib inline\n",
    "%reload_ext autoreload\n",
    "%autoreload 2"
   ]
  },
  {
   "cell_type": "code",
   "execution_count": 91,
   "metadata": {},
   "outputs": [],
   "source": [
    "from fastai.text import *"
   ]
  },
  {
   "cell_type": "markdown",
   "metadata": {},
   "source": [
    "# Data pre-processing \n",
    "## (i think it is the most efficient way of doing that ) "
   ]
  },
  {
   "cell_type": "code",
   "execution_count": 92,
   "metadata": {},
   "outputs": [],
   "source": [
    "PATH = Path(\"D:/FAST.Ai/DL2/Data/translate\")\n",
    "TMP_PATH = PATH/'tmp'\n",
    "TMP_PATH.mkdir(exist_ok=True)"
   ]
  },
  {
   "cell_type": "code",
   "execution_count": 93,
   "metadata": {},
   "outputs": [],
   "source": [
    "fname = \"giga-fren.release2.fixed\"\n",
    "en_fname = PATH/f'{fname}.en'\n",
    "fr_fname = PATH/f'{fname}.fr'"
   ]
  },
  {
   "cell_type": "code",
   "execution_count": 5,
   "metadata": {},
   "outputs": [],
   "source": [
    "re_eq = re.compile('^(Wh[^?.!]+\\?)')\n",
    "re_fq = re.compile('^([^?.!]+\\?)')\n",
    "\n",
    "lines = ((re_eq.search(eq) , re_fq.search(fq))\n",
    "             for eq, fq in zip(open(en_fname, encoding='utf-8'), open(fr_fname, encoding='utf-8')))"
   ]
  },
  {
   "cell_type": "code",
   "execution_count": 6,
   "metadata": {
    "collapsed": true
   },
   "outputs": [
    {
     "ename": "KeyboardInterrupt",
     "evalue": "",
     "output_type": "error",
     "traceback": [
      "\u001b[1;31m---------------------------------------------------------------------------\u001b[0m",
      "\u001b[1;31mKeyboardInterrupt\u001b[0m                         Traceback (most recent call last)",
      "\u001b[1;32m<ipython-input-6-f6014b0d6b8d>\u001b[0m in \u001b[0;36m<module>\u001b[1;34m\u001b[0m\n\u001b[1;32m----> 1\u001b[1;33m \u001b[0mqs\u001b[0m \u001b[1;33m=\u001b[0m \u001b[1;33m[\u001b[0m\u001b[1;33m(\u001b[0m\u001b[0me\u001b[0m\u001b[1;33m.\u001b[0m\u001b[0mgroup\u001b[0m\u001b[1;33m(\u001b[0m\u001b[1;33m)\u001b[0m\u001b[1;33m,\u001b[0m\u001b[0mf\u001b[0m\u001b[1;33m.\u001b[0m\u001b[0mgroup\u001b[0m\u001b[1;33m(\u001b[0m\u001b[1;33m)\u001b[0m\u001b[1;33m)\u001b[0m \u001b[1;32mfor\u001b[0m \u001b[0me\u001b[0m\u001b[1;33m,\u001b[0m\u001b[0mf\u001b[0m \u001b[1;32min\u001b[0m \u001b[0mlines\u001b[0m \u001b[1;32mif\u001b[0m \u001b[0me\u001b[0m \u001b[1;32mand\u001b[0m \u001b[0mf\u001b[0m\u001b[1;33m]\u001b[0m\u001b[1;33m\u001b[0m\u001b[1;33m\u001b[0m\u001b[0m\n\u001b[0m",
      "\u001b[1;32m<ipython-input-6-f6014b0d6b8d>\u001b[0m in \u001b[0;36m<listcomp>\u001b[1;34m(.0)\u001b[0m\n\u001b[1;32m----> 1\u001b[1;33m \u001b[0mqs\u001b[0m \u001b[1;33m=\u001b[0m \u001b[1;33m[\u001b[0m\u001b[1;33m(\u001b[0m\u001b[0me\u001b[0m\u001b[1;33m.\u001b[0m\u001b[0mgroup\u001b[0m\u001b[1;33m(\u001b[0m\u001b[1;33m)\u001b[0m\u001b[1;33m,\u001b[0m\u001b[0mf\u001b[0m\u001b[1;33m.\u001b[0m\u001b[0mgroup\u001b[0m\u001b[1;33m(\u001b[0m\u001b[1;33m)\u001b[0m\u001b[1;33m)\u001b[0m \u001b[1;32mfor\u001b[0m \u001b[0me\u001b[0m\u001b[1;33m,\u001b[0m\u001b[0mf\u001b[0m \u001b[1;32min\u001b[0m \u001b[0mlines\u001b[0m \u001b[1;32mif\u001b[0m \u001b[0me\u001b[0m \u001b[1;32mand\u001b[0m \u001b[0mf\u001b[0m\u001b[1;33m]\u001b[0m\u001b[1;33m\u001b[0m\u001b[1;33m\u001b[0m\u001b[0m\n\u001b[0m",
      "\u001b[1;32m<ipython-input-5-7446bccb6356>\u001b[0m in \u001b[0;36m<genexpr>\u001b[1;34m(.0)\u001b[0m\n\u001b[0;32m      2\u001b[0m \u001b[0mre_fq\u001b[0m \u001b[1;33m=\u001b[0m \u001b[0mre\u001b[0m\u001b[1;33m.\u001b[0m\u001b[0mcompile\u001b[0m\u001b[1;33m(\u001b[0m\u001b[1;34m'^([^?.!]+\\?)'\u001b[0m\u001b[1;33m)\u001b[0m\u001b[1;33m\u001b[0m\u001b[1;33m\u001b[0m\u001b[0m\n\u001b[0;32m      3\u001b[0m \u001b[1;33m\u001b[0m\u001b[0m\n\u001b[1;32m----> 4\u001b[1;33m lines = ((re_eq.search(eq) , re_fq.search(fq))\n\u001b[0m\u001b[0;32m      5\u001b[0m              for eq, fq in zip(open(en_fname, encoding='utf-8'), open(fr_fname, encoding='utf-8')))\n",
      "\u001b[1;32mC:\\Users\\Lenovo\\Anaconda3\\envs\\fastai\\lib\\codecs.py\u001b[0m in \u001b[0;36mdecode\u001b[1;34m(self, input, final)\u001b[0m\n\u001b[0;32m    316\u001b[0m         \u001b[1;32mraise\u001b[0m \u001b[0mNotImplementedError\u001b[0m\u001b[1;33m\u001b[0m\u001b[1;33m\u001b[0m\u001b[0m\n\u001b[0;32m    317\u001b[0m \u001b[1;33m\u001b[0m\u001b[0m\n\u001b[1;32m--> 318\u001b[1;33m     \u001b[1;32mdef\u001b[0m \u001b[0mdecode\u001b[0m\u001b[1;33m(\u001b[0m\u001b[0mself\u001b[0m\u001b[1;33m,\u001b[0m \u001b[0minput\u001b[0m\u001b[1;33m,\u001b[0m \u001b[0mfinal\u001b[0m\u001b[1;33m=\u001b[0m\u001b[1;32mFalse\u001b[0m\u001b[1;33m)\u001b[0m\u001b[1;33m:\u001b[0m\u001b[1;33m\u001b[0m\u001b[1;33m\u001b[0m\u001b[0m\n\u001b[0m\u001b[0;32m    319\u001b[0m         \u001b[1;31m# decode input (taking the buffer into account)\u001b[0m\u001b[1;33m\u001b[0m\u001b[1;33m\u001b[0m\u001b[1;33m\u001b[0m\u001b[0m\n\u001b[0;32m    320\u001b[0m         \u001b[0mdata\u001b[0m \u001b[1;33m=\u001b[0m \u001b[0mself\u001b[0m\u001b[1;33m.\u001b[0m\u001b[0mbuffer\u001b[0m \u001b[1;33m+\u001b[0m \u001b[0minput\u001b[0m\u001b[1;33m\u001b[0m\u001b[1;33m\u001b[0m\u001b[0m\n",
      "\u001b[1;31mKeyboardInterrupt\u001b[0m: "
     ]
    }
   ],
   "source": [
    "qs = [(e.group(),f.group()) for e,f in lines if e and f]"
   ]
  },
  {
   "cell_type": "code",
   "execution_count": null,
   "metadata": {},
   "outputs": [],
   "source": [
    "qs.sort()\n",
    "qs = qs[:500]"
   ]
  },
  {
   "cell_type": "code",
   "execution_count": 8,
   "metadata": {},
   "outputs": [],
   "source": [
    "qs = qs[10:]"
   ]
  },
  {
   "cell_type": "code",
   "execution_count": 9,
   "metadata": {},
   "outputs": [],
   "source": [
    "pickle.dump(qs , (PATH/\"fr-en-qs-500.pkl\").open('wb'))"
   ]
  },
  {
   "cell_type": "code",
   "execution_count": 94,
   "metadata": {},
   "outputs": [],
   "source": [
    "qs = pickle.load((PATH/\"fr-en-qs-500.pkl\").open(\"rb\"))"
   ]
  },
  {
   "cell_type": "code",
   "execution_count": null,
   "metadata": {},
   "outputs": [],
   "source": []
  },
  {
   "cell_type": "code",
   "execution_count": 95,
   "metadata": {},
   "outputs": [],
   "source": [
    "en_qs , fr_qs = zip(*qs)"
   ]
  },
  {
   "cell_type": "code",
   "execution_count": 96,
   "metadata": {},
   "outputs": [
    {
     "data": {
      "text/html": [
       "<div>\n",
       "<style scoped>\n",
       "    .dataframe tbody tr th:only-of-type {\n",
       "        vertical-align: middle;\n",
       "    }\n",
       "\n",
       "    .dataframe tbody tr th {\n",
       "        vertical-align: top;\n",
       "    }\n",
       "\n",
       "    .dataframe thead th {\n",
       "        text-align: right;\n",
       "    }\n",
       "</style>\n",
       "<table border=\"1\" class=\"dataframe\">\n",
       "  <thead>\n",
       "    <tr style=\"text-align: right;\">\n",
       "      <th></th>\n",
       "      <th>0</th>\n",
       "    </tr>\n",
       "  </thead>\n",
       "  <tbody>\n",
       "    <tr>\n",
       "      <th>0</th>\n",
       "      <td>What \"designs\" and \"stringency levels\" have be...</td>\n",
       "    </tr>\n",
       "    <tr>\n",
       "      <th>1</th>\n",
       "      <td>What \"highest priority\" action has the Commiss...</td>\n",
       "    </tr>\n",
       "    <tr>\n",
       "      <th>2</th>\n",
       "      <td>What \"hook\" would you use to engage Jim in the...</td>\n",
       "    </tr>\n",
       "  </tbody>\n",
       "</table>\n",
       "</div>"
      ],
      "text/plain": [
       "                                                   0\n",
       "0  What \"designs\" and \"stringency levels\" have be...\n",
       "1  What \"highest priority\" action has the Commiss...\n",
       "2  What \"hook\" would you use to engage Jim in the..."
      ]
     },
     "execution_count": 96,
     "metadata": {},
     "output_type": "execute_result"
    }
   ],
   "source": [
    "en_df = pd.DataFrame(np.array(en_qs))\n",
    "fr_df = pd.DataFrame(np.array(fr_qs))\n",
    "en_df.head(3)"
   ]
  },
  {
   "cell_type": "code",
   "execution_count": 97,
   "metadata": {
    "scrolled": true
   },
   "outputs": [
    {
     "data": {
      "text/html": [
       "<div>\n",
       "<style scoped>\n",
       "    .dataframe tbody tr th:only-of-type {\n",
       "        vertical-align: middle;\n",
       "    }\n",
       "\n",
       "    .dataframe tbody tr th {\n",
       "        vertical-align: top;\n",
       "    }\n",
       "\n",
       "    .dataframe thead th {\n",
       "        text-align: right;\n",
       "    }\n",
       "</style>\n",
       "<table border=\"1\" class=\"dataframe\">\n",
       "  <thead>\n",
       "    <tr style=\"text-align: right;\">\n",
       "      <th></th>\n",
       "      <th>1</th>\n",
       "    </tr>\n",
       "  </thead>\n",
       "  <tbody>\n",
       "    <tr>\n",
       "      <th>0</th>\n",
       "      <td>· Quels sont les \"concepts et \"niveaux d'exige...</td>\n",
       "    </tr>\n",
       "    <tr>\n",
       "      <th>1</th>\n",
       "      <td>Quelles mesures «prioritaires» la Commission a...</td>\n",
       "    </tr>\n",
       "    <tr>\n",
       "      <th>2</th>\n",
       "      <td>Quel « appât » utiliseriez-vous pour inciter J...</td>\n",
       "    </tr>\n",
       "    <tr>\n",
       "      <th>3</th>\n",
       "      <td>Quelles sont les « leçons » que nous avons ret...</td>\n",
       "    </tr>\n",
       "    <tr>\n",
       "      <th>4</th>\n",
       "      <td>Quelles « causes naturelles » peuvent amener d...</td>\n",
       "    </tr>\n",
       "    <tr>\n",
       "      <th>5</th>\n",
       "      <td>Quelle « personnalité » a-t-elle?</td>\n",
       "    </tr>\n",
       "    <tr>\n",
       "      <th>6</th>\n",
       "      <td>Quelles solutions « renouvelables » les élèves...</td>\n",
       "    </tr>\n",
       "    <tr>\n",
       "      <th>7</th>\n",
       "      <td>Pour la Saint-Valentin : chocolats, fleurs ou ...</td>\n",
       "    </tr>\n",
       "    <tr>\n",
       "      <th>8</th>\n",
       "      <td>Quelle est la capacité maximale de traitement ...</td>\n",
       "    </tr>\n",
       "    <tr>\n",
       "      <th>9</th>\n",
       "      <td>Quels sont les «points chauds» dont nous devri...</td>\n",
       "    </tr>\n",
       "    <tr>\n",
       "      <th>10</th>\n",
       "      <td>Quel pourcentage du droit aux achats allouons-...</td>\n",
       "    </tr>\n",
       "    <tr>\n",
       "      <th>11</th>\n",
       "      <td>Quelle est la sensibilité des systèmes de déte...</td>\n",
       "    </tr>\n",
       "    <tr>\n",
       "      <th>12</th>\n",
       "      <td>Quelles modifications fait-on ou envisage-t-on...</td>\n",
       "    </tr>\n",
       "    <tr>\n",
       "      <th>13</th>\n",
       "      <td>Quels autres s-stèmes d’orientation et de plan...</td>\n",
       "    </tr>\n",
       "    <tr>\n",
       "      <th>14</th>\n",
       "      <td>Quelles mesures «prioritaires» la Commission a...</td>\n",
       "    </tr>\n",
       "    <tr>\n",
       "      <th>15</th>\n",
       "      <td>Quelles « mesures volontaires » la Directive e...</td>\n",
       "    </tr>\n",
       "    <tr>\n",
       "      <th>16</th>\n",
       "      <td>Que devons nous savoir (le cas échéant) de dif...</td>\n",
       "    </tr>\n",
       "    <tr>\n",
       "      <th>17</th>\n",
       "      <td>Le cas échéant, qu'est-ce qui semble fonctionn...</td>\n",
       "    </tr>\n",
       "    <tr>\n",
       "      <th>18</th>\n",
       "      <td>Le cas échéant, qu’est-ce qui semble fonctionn...</td>\n",
       "    </tr>\n",
       "    <tr>\n",
       "      <th>19</th>\n",
       "      <td>Le cas échéant, qu'est-ce qui semble fonctionn...</td>\n",
       "    </tr>\n",
       "    <tr>\n",
       "      <th>20</th>\n",
       "      <td>Le cas échéant, qu’est-ce qui semble fonctionn...</td>\n",
       "    </tr>\n",
       "    <tr>\n",
       "      <th>21</th>\n",
       "      <td>Y a-t-il quelque chose que nous, pays du Nord,...</td>\n",
       "    </tr>\n",
       "    <tr>\n",
       "      <th>22</th>\n",
       "      <td>Que se passera-t-il (s’il se passe quoi que ce...</td>\n",
       "    </tr>\n",
       "    <tr>\n",
       "      <th>23</th>\n",
       "      <td>Que souhaiteriez-vous voir changer (s'il y a l...</td>\n",
       "    </tr>\n",
       "    <tr>\n",
       "      <th>24</th>\n",
       "      <td>Quel changement aimeriez-vous voir (s’il y a l...</td>\n",
       "    </tr>\n",
       "    <tr>\n",
       "      <th>25</th>\n",
       "      <td>Quelles sont les compétences (non techniques) ...</td>\n",
       "    </tr>\n",
       "    <tr>\n",
       "      <th>26</th>\n",
       "      <td>Quelles sont les compétences (non techniques) ...</td>\n",
       "    </tr>\n",
       "    <tr>\n",
       "      <th>27</th>\n",
       "      <td>Que pourrait on faire (ou que pourrait on fair...</td>\n",
       "    </tr>\n",
       "    <tr>\n",
       "      <th>28</th>\n",
       "      <td>Que pourrait on faire (ou que pourrait on fair...</td>\n",
       "    </tr>\n",
       "    <tr>\n",
       "      <th>29</th>\n",
       "      <td>Quels services d’AAC utilisez-vous actuellemen...</td>\n",
       "    </tr>\n",
       "    <tr>\n",
       "      <th>...</th>\n",
       "      <td>...</td>\n",
       "    </tr>\n",
       "    <tr>\n",
       "      <th>460</th>\n",
       "      <td>Qu’advient-il après la soumission de votre for...</td>\n",
       "    </tr>\n",
       "    <tr>\n",
       "      <th>461</th>\n",
       "      <td>Qu’arrive-t-il si je tombe malade ou si je sui...</td>\n",
       "    </tr>\n",
       "    <tr>\n",
       "      <th>462</th>\n",
       "      <td>Que se passe-t-il quand les interactions cellu...</td>\n",
       "    </tr>\n",
       "    <tr>\n",
       "      <th>463</th>\n",
       "      <td>Qu'arrive-t-il lorsque des hydrocarbures sont ...</td>\n",
       "    </tr>\n",
       "    <tr>\n",
       "      <th>464</th>\n",
       "      <td>Que se passe-t-il quand on inscrit une espèce ...</td>\n",
       "    </tr>\n",
       "    <tr>\n",
       "      <th>465</th>\n",
       "      <td>Qu'arrive-t-il si une demande de fusion compor...</td>\n",
       "    </tr>\n",
       "    <tr>\n",
       "      <th>466</th>\n",
       "      <td>Qu'arrive-t-il si une demande de modification ...</td>\n",
       "    </tr>\n",
       "    <tr>\n",
       "      <th>467</th>\n",
       "      <td>Qu'arrive-t-il si une demande de prorogation c...</td>\n",
       "    </tr>\n",
       "    <tr>\n",
       "      <th>468</th>\n",
       "      <td>Qu'arrive-t-il si une demande de constitution ...</td>\n",
       "    </tr>\n",
       "    <tr>\n",
       "      <th>469</th>\n",
       "      <td>Que se passe-t-il si une demande est incomplète?</td>\n",
       "    </tr>\n",
       "    <tr>\n",
       "      <th>470</th>\n",
       "      <td>Que se passe-t-il quand le père boit Quels son...</td>\n",
       "    </tr>\n",
       "    <tr>\n",
       "      <th>471</th>\n",
       "      <td>Que se passe-t-il quand la mère boit durant sa...</td>\n",
       "    </tr>\n",
       "    <tr>\n",
       "      <th>472</th>\n",
       "      <td>Que faire si tu as une rechute?</td>\n",
       "    </tr>\n",
       "    <tr>\n",
       "      <th>473</th>\n",
       "      <td>Qu'arrive-t-il à l'uranium inhalé?</td>\n",
       "    </tr>\n",
       "    <tr>\n",
       "      <th>474</th>\n",
       "      <td>Qu’arrive-t-il aux animaux contaminés?</td>\n",
       "    </tr>\n",
       "    <tr>\n",
       "      <th>475</th>\n",
       "      <td>Qu'arrive-t-il aux victimes du vol d'auto?</td>\n",
       "    </tr>\n",
       "    <tr>\n",
       "      <th>476</th>\n",
       "      <td>Qu'arrive-t-il quand la lumière s'éteint?</td>\n",
       "    </tr>\n",
       "    <tr>\n",
       "      <th>477</th>\n",
       "      <td>Vous songez à déposer une plainte auprès du cpvp?</td>\n",
       "    </tr>\n",
       "    <tr>\n",
       "      <th>478</th>\n",
       "      <td>Quelles mesures ont été prises au Canada jusqu...</td>\n",
       "    </tr>\n",
       "    <tr>\n",
       "      <th>479</th>\n",
       "      <td>Qu'a-t-on fait au Canada?</td>\n",
       "    </tr>\n",
       "    <tr>\n",
       "      <th>480</th>\n",
       "      <td>Quelles mesures le Canada a-t-il prises à l’ap...</td>\n",
       "    </tr>\n",
       "    <tr>\n",
       "      <th>481</th>\n",
       "      <td>What Has Changed Since the Early 1980s?</td>\n",
       "    </tr>\n",
       "    <tr>\n",
       "      <th>482</th>\n",
       "      <td>Qu'est-ce que les autres ont mis dans leur tro...</td>\n",
       "    </tr>\n",
       "    <tr>\n",
       "      <th>483</th>\n",
       "      <td>Qu'avons nous fait jusqu'à maintenant et que d...</td>\n",
       "    </tr>\n",
       "    <tr>\n",
       "      <th>484</th>\n",
       "      <td>Qu’avons-nous appris au sujet de la stabilité ...</td>\n",
       "    </tr>\n",
       "    <tr>\n",
       "      <th>485</th>\n",
       "      <td>Qu’vons-nous Appris sur Cette Région?</td>\n",
       "    </tr>\n",
       "    <tr>\n",
       "      <th>486</th>\n",
       "      <td>Qu'avons-nous appris?</td>\n",
       "    </tr>\n",
       "    <tr>\n",
       "      <th>487</th>\n",
       "      <td>Qu'avons-nous appris depuis Andy Warburton ?</td>\n",
       "    </tr>\n",
       "    <tr>\n",
       "      <th>488</th>\n",
       "      <td>Est-il possible d'établir un lien entre des pr...</td>\n",
       "    </tr>\n",
       "    <tr>\n",
       "      <th>489</th>\n",
       "      <td>What Heritage?</td>\n",
       "    </tr>\n",
       "  </tbody>\n",
       "</table>\n",
       "<p>490 rows × 1 columns</p>\n",
       "</div>"
      ],
      "text/plain": [
       "                                                     1\n",
       "0    · Quels sont les \"concepts et \"niveaux d'exige...\n",
       "1    Quelles mesures «prioritaires» la Commission a...\n",
       "2    Quel « appât » utiliseriez-vous pour inciter J...\n",
       "3    Quelles sont les « leçons » que nous avons ret...\n",
       "4    Quelles « causes naturelles » peuvent amener d...\n",
       "5                    Quelle « personnalité » a-t-elle?\n",
       "6    Quelles solutions « renouvelables » les élèves...\n",
       "7    Pour la Saint-Valentin : chocolats, fleurs ou ...\n",
       "8    Quelle est la capacité maximale de traitement ...\n",
       "9    Quels sont les «points chauds» dont nous devri...\n",
       "10   Quel pourcentage du droit aux achats allouons-...\n",
       "11   Quelle est la sensibilité des systèmes de déte...\n",
       "12   Quelles modifications fait-on ou envisage-t-on...\n",
       "13   Quels autres s-stèmes d’orientation et de plan...\n",
       "14   Quelles mesures «prioritaires» la Commission a...\n",
       "15   Quelles « mesures volontaires » la Directive e...\n",
       "16   Que devons nous savoir (le cas échéant) de dif...\n",
       "17   Le cas échéant, qu'est-ce qui semble fonctionn...\n",
       "18   Le cas échéant, qu’est-ce qui semble fonctionn...\n",
       "19   Le cas échéant, qu'est-ce qui semble fonctionn...\n",
       "20   Le cas échéant, qu’est-ce qui semble fonctionn...\n",
       "21   Y a-t-il quelque chose que nous, pays du Nord,...\n",
       "22   Que se passera-t-il (s’il se passe quoi que ce...\n",
       "23   Que souhaiteriez-vous voir changer (s'il y a l...\n",
       "24   Quel changement aimeriez-vous voir (s’il y a l...\n",
       "25   Quelles sont les compétences (non techniques) ...\n",
       "26   Quelles sont les compétences (non techniques) ...\n",
       "27   Que pourrait on faire (ou que pourrait on fair...\n",
       "28   Que pourrait on faire (ou que pourrait on fair...\n",
       "29   Quels services d’AAC utilisez-vous actuellemen...\n",
       "..                                                 ...\n",
       "460  Qu’advient-il après la soumission de votre for...\n",
       "461  Qu’arrive-t-il si je tombe malade ou si je sui...\n",
       "462  Que se passe-t-il quand les interactions cellu...\n",
       "463  Qu'arrive-t-il lorsque des hydrocarbures sont ...\n",
       "464  Que se passe-t-il quand on inscrit une espèce ...\n",
       "465  Qu'arrive-t-il si une demande de fusion compor...\n",
       "466  Qu'arrive-t-il si une demande de modification ...\n",
       "467  Qu'arrive-t-il si une demande de prorogation c...\n",
       "468  Qu'arrive-t-il si une demande de constitution ...\n",
       "469   Que se passe-t-il si une demande est incomplète?\n",
       "470  Que se passe-t-il quand le père boit Quels son...\n",
       "471  Que se passe-t-il quand la mère boit durant sa...\n",
       "472                    Que faire si tu as une rechute?\n",
       "473                 Qu'arrive-t-il à l'uranium inhalé?\n",
       "474             Qu’arrive-t-il aux animaux contaminés?\n",
       "475         Qu'arrive-t-il aux victimes du vol d'auto?\n",
       "476          Qu'arrive-t-il quand la lumière s'éteint?\n",
       "477  Vous songez à déposer une plainte auprès du cpvp?\n",
       "478  Quelles mesures ont été prises au Canada jusqu...\n",
       "479                          Qu'a-t-on fait au Canada?\n",
       "480  Quelles mesures le Canada a-t-il prises à l’ap...\n",
       "481            What Has Changed Since the Early 1980s?\n",
       "482  Qu'est-ce que les autres ont mis dans leur tro...\n",
       "483  Qu'avons nous fait jusqu'à maintenant et que d...\n",
       "484  Qu’avons-nous appris au sujet de la stabilité ...\n",
       "485              Qu’vons-nous Appris sur Cette Région?\n",
       "486                              Qu'avons-nous appris?\n",
       "487       Qu'avons-nous appris depuis Andy Warburton ?\n",
       "488  Est-il possible d'établir un lien entre des pr...\n",
       "489                                     What Heritage?\n",
       "\n",
       "[490 rows x 1 columns]"
      ]
     },
     "execution_count": 97,
     "metadata": {},
     "output_type": "execute_result"
    }
   ],
   "source": [
    "fr_df.columns = [1]\n",
    "fr_df"
   ]
  },
  {
   "cell_type": "code",
   "execution_count": null,
   "metadata": {},
   "outputs": [],
   "source": []
  },
  {
   "cell_type": "code",
   "execution_count": 98,
   "metadata": {},
   "outputs": [
    {
     "data": {
      "text/plain": [
       "60"
      ]
     },
     "execution_count": 98,
     "metadata": {},
     "output_type": "execute_result"
    }
   ],
   "source": [
    "len(en_df[0][0])"
   ]
  },
  {
   "cell_type": "markdown",
   "metadata": {},
   "source": [
    "we should have same size in our phonetic and grapheme "
   ]
  },
  {
   "cell_type": "code",
   "execution_count": 99,
   "metadata": {},
   "outputs": [],
   "source": [
    "en_df[\"en_len\"] = en_df[0].apply(lambda x: len(x.split(\" \")))"
   ]
  },
  {
   "cell_type": "code",
   "execution_count": 100,
   "metadata": {},
   "outputs": [
    {
     "data": {
      "text/html": [
       "<div>\n",
       "<style scoped>\n",
       "    .dataframe tbody tr th:only-of-type {\n",
       "        vertical-align: middle;\n",
       "    }\n",
       "\n",
       "    .dataframe tbody tr th {\n",
       "        vertical-align: top;\n",
       "    }\n",
       "\n",
       "    .dataframe thead th {\n",
       "        text-align: right;\n",
       "    }\n",
       "</style>\n",
       "<table border=\"1\" class=\"dataframe\">\n",
       "  <thead>\n",
       "    <tr style=\"text-align: right;\">\n",
       "      <th></th>\n",
       "      <th>0</th>\n",
       "      <th>en_len</th>\n",
       "    </tr>\n",
       "  </thead>\n",
       "  <tbody>\n",
       "    <tr>\n",
       "      <th>0</th>\n",
       "      <td>What \"designs\" and \"stringency levels\" have be...</td>\n",
       "      <td>8</td>\n",
       "    </tr>\n",
       "    <tr>\n",
       "      <th>1</th>\n",
       "      <td>What \"highest priority\" action has the Commiss...</td>\n",
       "      <td>33</td>\n",
       "    </tr>\n",
       "    <tr>\n",
       "      <th>2</th>\n",
       "      <td>What \"hook\" would you use to engage Jim in the...</td>\n",
       "      <td>17</td>\n",
       "    </tr>\n",
       "  </tbody>\n",
       "</table>\n",
       "</div>"
      ],
      "text/plain": [
       "                                                   0  en_len\n",
       "0  What \"designs\" and \"stringency levels\" have be...       8\n",
       "1  What \"highest priority\" action has the Commiss...      33\n",
       "2  What \"hook\" would you use to engage Jim in the...      17"
      ]
     },
     "execution_count": 100,
     "metadata": {},
     "output_type": "execute_result"
    }
   ],
   "source": [
    "en_df.head(3)"
   ]
  },
  {
   "cell_type": "code",
   "execution_count": 101,
   "metadata": {},
   "outputs": [],
   "source": [
    "fr_df[\"fr_len\"] = fr_df[1].apply(lambda x: len(x.split(\" \")))"
   ]
  },
  {
   "cell_type": "code",
   "execution_count": 102,
   "metadata": {},
   "outputs": [
    {
     "data": {
      "text/html": [
       "<div>\n",
       "<style scoped>\n",
       "    .dataframe tbody tr th:only-of-type {\n",
       "        vertical-align: middle;\n",
       "    }\n",
       "\n",
       "    .dataframe tbody tr th {\n",
       "        vertical-align: top;\n",
       "    }\n",
       "\n",
       "    .dataframe thead th {\n",
       "        text-align: right;\n",
       "    }\n",
       "</style>\n",
       "<table border=\"1\" class=\"dataframe\">\n",
       "  <thead>\n",
       "    <tr style=\"text-align: right;\">\n",
       "      <th></th>\n",
       "      <th>1</th>\n",
       "      <th>fr_len</th>\n",
       "    </tr>\n",
       "  </thead>\n",
       "  <tbody>\n",
       "    <tr>\n",
       "      <th>0</th>\n",
       "      <td>· Quels sont les \"concepts et \"niveaux d'exige...</td>\n",
       "      <td>9</td>\n",
       "    </tr>\n",
       "    <tr>\n",
       "      <th>1</th>\n",
       "      <td>Quelles mesures «prioritaires» la Commission a...</td>\n",
       "      <td>36</td>\n",
       "    </tr>\n",
       "    <tr>\n",
       "      <th>2</th>\n",
       "      <td>Quel « appât » utiliseriez-vous pour inciter J...</td>\n",
       "      <td>15</td>\n",
       "    </tr>\n",
       "  </tbody>\n",
       "</table>\n",
       "</div>"
      ],
      "text/plain": [
       "                                                   1  fr_len\n",
       "0  · Quels sont les \"concepts et \"niveaux d'exige...       9\n",
       "1  Quelles mesures «prioritaires» la Commission a...      36\n",
       "2  Quel « appât » utiliseriez-vous pour inciter J...      15"
      ]
     },
     "execution_count": 102,
     "metadata": {},
     "output_type": "execute_result"
    }
   ],
   "source": [
    "fr_df.head(3)"
   ]
  },
  {
   "cell_type": "code",
   "execution_count": 103,
   "metadata": {},
   "outputs": [
    {
     "data": {
      "text/html": [
       "<div>\n",
       "<style scoped>\n",
       "    .dataframe tbody tr th:only-of-type {\n",
       "        vertical-align: middle;\n",
       "    }\n",
       "\n",
       "    .dataframe tbody tr th {\n",
       "        vertical-align: top;\n",
       "    }\n",
       "\n",
       "    .dataframe thead th {\n",
       "        text-align: right;\n",
       "    }\n",
       "</style>\n",
       "<table border=\"1\" class=\"dataframe\">\n",
       "  <thead>\n",
       "    <tr style=\"text-align: right;\">\n",
       "      <th></th>\n",
       "      <th>0</th>\n",
       "      <th>en_len</th>\n",
       "      <th>1</th>\n",
       "      <th>fr_len</th>\n",
       "    </tr>\n",
       "  </thead>\n",
       "  <tbody>\n",
       "    <tr>\n",
       "      <th>0</th>\n",
       "      <td>What \"designs\" and \"stringency levels\" have be...</td>\n",
       "      <td>8</td>\n",
       "      <td>· Quels sont les \"concepts et \"niveaux d'exige...</td>\n",
       "      <td>9</td>\n",
       "    </tr>\n",
       "    <tr>\n",
       "      <th>1</th>\n",
       "      <td>What \"highest priority\" action has the Commiss...</td>\n",
       "      <td>33</td>\n",
       "      <td>Quelles mesures «prioritaires» la Commission a...</td>\n",
       "      <td>36</td>\n",
       "    </tr>\n",
       "    <tr>\n",
       "      <th>2</th>\n",
       "      <td>What \"hook\" would you use to engage Jim in the...</td>\n",
       "      <td>17</td>\n",
       "      <td>Quel « appât » utiliseriez-vous pour inciter J...</td>\n",
       "      <td>15</td>\n",
       "    </tr>\n",
       "  </tbody>\n",
       "</table>\n",
       "</div>"
      ],
      "text/plain": [
       "                                                   0  en_len  \\\n",
       "0  What \"designs\" and \"stringency levels\" have be...       8   \n",
       "1  What \"highest priority\" action has the Commiss...      33   \n",
       "2  What \"hook\" would you use to engage Jim in the...      17   \n",
       "\n",
       "                                                   1  fr_len  \n",
       "0  · Quels sont les \"concepts et \"niveaux d'exige...       9  \n",
       "1  Quelles mesures «prioritaires» la Commission a...      36  \n",
       "2  Quel « appât » utiliseriez-vous pour inciter J...      15  "
      ]
     },
     "execution_count": 103,
     "metadata": {},
     "output_type": "execute_result"
    }
   ],
   "source": [
    "en_fr_df = pd.concat([en_df,fr_df] , axis = 1) \n",
    "en_fr_df.head(3)"
   ]
  },
  {
   "cell_type": "code",
   "execution_count": 104,
   "metadata": {},
   "outputs": [],
   "source": [
    "idxs = en_fr_df.loc[(en_fr_df.en_len == en_fr_df.fr_len) & (en_fr_df.en_len < 90)].index"
   ]
  },
  {
   "cell_type": "code",
   "execution_count": 105,
   "metadata": {},
   "outputs": [],
   "source": [
    "new_en_fr_df = en_fr_df.loc[idxs]"
   ]
  },
  {
   "cell_type": "code",
   "execution_count": 106,
   "metadata": {},
   "outputs": [],
   "source": [
    "#new_en_fr_df.reset_index(inplace=True)"
   ]
  },
  {
   "cell_type": "code",
   "execution_count": 107,
   "metadata": {},
   "outputs": [
    {
     "data": {
      "text/plain": [
       "100"
      ]
     },
     "execution_count": 107,
     "metadata": {},
     "output_type": "execute_result"
    }
   ],
   "source": [
    "len(idxs)"
   ]
  },
  {
   "cell_type": "code",
   "execution_count": 108,
   "metadata": {},
   "outputs": [
    {
     "data": {
      "text/plain": [
       "100"
      ]
     },
     "execution_count": 108,
     "metadata": {},
     "output_type": "execute_result"
    }
   ],
   "source": [
    "number_of_sentences = len(idxs)\n",
    "number_of_sentences"
   ]
  },
  {
   "cell_type": "code",
   "execution_count": 109,
   "metadata": {},
   "outputs": [
    {
     "data": {
      "text/html": [
       "<div>\n",
       "<style scoped>\n",
       "    .dataframe tbody tr th:only-of-type {\n",
       "        vertical-align: middle;\n",
       "    }\n",
       "\n",
       "    .dataframe tbody tr th {\n",
       "        vertical-align: top;\n",
       "    }\n",
       "\n",
       "    .dataframe thead th {\n",
       "        text-align: right;\n",
       "    }\n",
       "</style>\n",
       "<table border=\"1\" class=\"dataframe\">\n",
       "  <thead>\n",
       "    <tr style=\"text-align: right;\">\n",
       "      <th></th>\n",
       "      <th>0</th>\n",
       "      <th>en_len</th>\n",
       "      <th>1</th>\n",
       "      <th>fr_len</th>\n",
       "    </tr>\n",
       "  </thead>\n",
       "  <tbody>\n",
       "    <tr>\n",
       "      <th>5</th>\n",
       "      <td>What \"personality\" does it have?</td>\n",
       "      <td>5</td>\n",
       "      <td>Quelle « personnalité » a-t-elle?</td>\n",
       "      <td>5</td>\n",
       "    </tr>\n",
       "    <tr>\n",
       "      <th>17</th>\n",
       "      <td>What (if anything) appears to be working (and ...</td>\n",
       "      <td>13</td>\n",
       "      <td>Le cas échéant, qu'est-ce qui semble fonctionn...</td>\n",
       "      <td>13</td>\n",
       "    </tr>\n",
       "    <tr>\n",
       "      <th>18</th>\n",
       "      <td>What (if anything) appears to be working (and ...</td>\n",
       "      <td>13</td>\n",
       "      <td>Le cas échéant, qu’est-ce qui semble fonctionn...</td>\n",
       "      <td>13</td>\n",
       "    </tr>\n",
       "  </tbody>\n",
       "</table>\n",
       "</div>"
      ],
      "text/plain": [
       "                                                    0  en_len  \\\n",
       "5                    What \"personality\" does it have?       5   \n",
       "17  What (if anything) appears to be working (and ...      13   \n",
       "18  What (if anything) appears to be working (and ...      13   \n",
       "\n",
       "                                                    1  fr_len  \n",
       "5                   Quelle « personnalité » a-t-elle?       5  \n",
       "17  Le cas échéant, qu'est-ce qui semble fonctionn...      13  \n",
       "18  Le cas échéant, qu’est-ce qui semble fonctionn...      13  "
      ]
     },
     "execution_count": 109,
     "metadata": {},
     "output_type": "execute_result"
    }
   ],
   "source": [
    "new_en_fr_df.head(3)"
   ]
  },
  {
   "cell_type": "markdown",
   "metadata": {},
   "source": [
    "# supposing len of longest word is 10"
   ]
  },
  {
   "cell_type": "code",
   "execution_count": 110,
   "metadata": {},
   "outputs": [],
   "source": [
    "x_longest_word = 10"
   ]
  },
  {
   "cell_type": "code",
   "execution_count": 111,
   "metadata": {},
   "outputs": [],
   "source": [
    "x_padding = \"@@@@@@@@@@\""
   ]
  },
  {
   "cell_type": "code",
   "execution_count": 112,
   "metadata": {},
   "outputs": [],
   "source": [
    "y_longest_word = 10"
   ]
  },
  {
   "cell_type": "code",
   "execution_count": 113,
   "metadata": {},
   "outputs": [],
   "source": [
    "y_padding = \"@@@@@@@@@@\""
   ]
  },
  {
   "cell_type": "markdown",
   "metadata": {},
   "source": [
    "# spliting by space "
   ]
  },
  {
   "cell_type": "code",
   "execution_count": 137,
   "metadata": {},
   "outputs": [
    {
     "data": {
      "text/html": [
       "<div>\n",
       "<style scoped>\n",
       "    .dataframe tbody tr th:only-of-type {\n",
       "        vertical-align: middle;\n",
       "    }\n",
       "\n",
       "    .dataframe tbody tr th {\n",
       "        vertical-align: top;\n",
       "    }\n",
       "\n",
       "    .dataframe thead th {\n",
       "        text-align: right;\n",
       "    }\n",
       "</style>\n",
       "<table border=\"1\" class=\"dataframe\">\n",
       "  <thead>\n",
       "    <tr style=\"text-align: right;\">\n",
       "      <th></th>\n",
       "      <th>0</th>\n",
       "      <th>1</th>\n",
       "      <th>2</th>\n",
       "      <th>3</th>\n",
       "      <th>4</th>\n",
       "      <th>5</th>\n",
       "      <th>6</th>\n",
       "      <th>7</th>\n",
       "      <th>8</th>\n",
       "      <th>9</th>\n",
       "      <th>...</th>\n",
       "      <th>11</th>\n",
       "      <th>12</th>\n",
       "      <th>13</th>\n",
       "      <th>14</th>\n",
       "      <th>15</th>\n",
       "      <th>16</th>\n",
       "      <th>17</th>\n",
       "      <th>18</th>\n",
       "      <th>19</th>\n",
       "      <th>20</th>\n",
       "    </tr>\n",
       "  </thead>\n",
       "  <tbody>\n",
       "    <tr>\n",
       "      <th>0</th>\n",
       "      <td>What</td>\n",
       "      <td>\"personality\"</td>\n",
       "      <td>does</td>\n",
       "      <td>it</td>\n",
       "      <td>have?</td>\n",
       "      <td>None</td>\n",
       "      <td>None</td>\n",
       "      <td>None</td>\n",
       "      <td>None</td>\n",
       "      <td>None</td>\n",
       "      <td>...</td>\n",
       "      <td>None</td>\n",
       "      <td>None</td>\n",
       "      <td>None</td>\n",
       "      <td>None</td>\n",
       "      <td>None</td>\n",
       "      <td>None</td>\n",
       "      <td>None</td>\n",
       "      <td>None</td>\n",
       "      <td>None</td>\n",
       "      <td>None</td>\n",
       "    </tr>\n",
       "    <tr>\n",
       "      <th>1</th>\n",
       "      <td>What</td>\n",
       "      <td>(if</td>\n",
       "      <td>anything)</td>\n",
       "      <td>appears</td>\n",
       "      <td>to</td>\n",
       "      <td>be</td>\n",
       "      <td>working</td>\n",
       "      <td>(and</td>\n",
       "      <td>why)</td>\n",
       "      <td>at</td>\n",
       "      <td>...</td>\n",
       "      <td>project</td>\n",
       "      <td>level?</td>\n",
       "      <td>None</td>\n",
       "      <td>None</td>\n",
       "      <td>None</td>\n",
       "      <td>None</td>\n",
       "      <td>None</td>\n",
       "      <td>None</td>\n",
       "      <td>None</td>\n",
       "      <td>None</td>\n",
       "    </tr>\n",
       "  </tbody>\n",
       "</table>\n",
       "<p>2 rows × 21 columns</p>\n",
       "</div>"
      ],
      "text/plain": [
       "     0              1          2        3      4     5        6     7     8   \\\n",
       "0  What  \"personality\"       does       it  have?  None     None  None  None   \n",
       "1  What            (if  anything)  appears     to    be  working  (and  why)   \n",
       "\n",
       "     9   ...        11      12    13    14    15    16    17    18    19    20  \n",
       "0  None  ...      None    None  None  None  None  None  None  None  None  None  \n",
       "1    at  ...   project  level?  None  None  None  None  None  None  None  None  \n",
       "\n",
       "[2 rows x 21 columns]"
      ]
     },
     "execution_count": 137,
     "metadata": {},
     "output_type": "execute_result"
    }
   ],
   "source": [
    "x = pd.DataFrame(list(new_en_fr_df[0].apply(lambda x: x.split(\" \"))))\n",
    "x.head(2)"
   ]
  },
  {
   "cell_type": "code",
   "execution_count": 138,
   "metadata": {},
   "outputs": [
    {
     "data": {
      "text/html": [
       "<div>\n",
       "<style scoped>\n",
       "    .dataframe tbody tr th:only-of-type {\n",
       "        vertical-align: middle;\n",
       "    }\n",
       "\n",
       "    .dataframe tbody tr th {\n",
       "        vertical-align: top;\n",
       "    }\n",
       "\n",
       "    .dataframe thead th {\n",
       "        text-align: right;\n",
       "    }\n",
       "</style>\n",
       "<table border=\"1\" class=\"dataframe\">\n",
       "  <thead>\n",
       "    <tr style=\"text-align: right;\">\n",
       "      <th></th>\n",
       "      <th>0</th>\n",
       "      <th>1</th>\n",
       "      <th>2</th>\n",
       "      <th>3</th>\n",
       "      <th>4</th>\n",
       "      <th>5</th>\n",
       "      <th>6</th>\n",
       "      <th>7</th>\n",
       "      <th>8</th>\n",
       "      <th>9</th>\n",
       "      <th>...</th>\n",
       "      <th>11</th>\n",
       "      <th>12</th>\n",
       "      <th>13</th>\n",
       "      <th>14</th>\n",
       "      <th>15</th>\n",
       "      <th>16</th>\n",
       "      <th>17</th>\n",
       "      <th>18</th>\n",
       "      <th>19</th>\n",
       "      <th>20</th>\n",
       "    </tr>\n",
       "  </thead>\n",
       "  <tbody>\n",
       "    <tr>\n",
       "      <th>0</th>\n",
       "      <td>Quelle</td>\n",
       "      <td>«</td>\n",
       "      <td>personnalité</td>\n",
       "      <td>»</td>\n",
       "      <td>a-t-elle?</td>\n",
       "      <td>None</td>\n",
       "      <td>None</td>\n",
       "      <td>None</td>\n",
       "      <td>None</td>\n",
       "      <td>None</td>\n",
       "      <td>...</td>\n",
       "      <td>None</td>\n",
       "      <td>None</td>\n",
       "      <td>None</td>\n",
       "      <td>None</td>\n",
       "      <td>None</td>\n",
       "      <td>None</td>\n",
       "      <td>None</td>\n",
       "      <td>None</td>\n",
       "      <td>None</td>\n",
       "      <td>None</td>\n",
       "    </tr>\n",
       "    <tr>\n",
       "      <th>1</th>\n",
       "      <td>Le</td>\n",
       "      <td>cas</td>\n",
       "      <td>échéant,</td>\n",
       "      <td>qu'est-ce</td>\n",
       "      <td>qui</td>\n",
       "      <td>semble</td>\n",
       "      <td>fonctionner</td>\n",
       "      <td>(et</td>\n",
       "      <td>pourquoi)</td>\n",
       "      <td>au</td>\n",
       "      <td>...</td>\n",
       "      <td>du</td>\n",
       "      <td>projet?</td>\n",
       "      <td>None</td>\n",
       "      <td>None</td>\n",
       "      <td>None</td>\n",
       "      <td>None</td>\n",
       "      <td>None</td>\n",
       "      <td>None</td>\n",
       "      <td>None</td>\n",
       "      <td>None</td>\n",
       "    </tr>\n",
       "  </tbody>\n",
       "</table>\n",
       "<p>2 rows × 21 columns</p>\n",
       "</div>"
      ],
      "text/plain": [
       "       0    1             2          3          4       5            6     7   \\\n",
       "0  Quelle    «  personnalité          »  a-t-elle?    None         None  None   \n",
       "1      Le  cas      échéant,  qu'est-ce        qui  semble  fonctionner   (et   \n",
       "\n",
       "          8     9   ...     11       12    13    14    15    16    17    18  \\\n",
       "0       None  None  ...   None     None  None  None  None  None  None  None   \n",
       "1  pourquoi)    au  ...     du  projet?  None  None  None  None  None  None   \n",
       "\n",
       "     19    20  \n",
       "0  None  None  \n",
       "1  None  None  \n",
       "\n",
       "[2 rows x 21 columns]"
      ]
     },
     "execution_count": 138,
     "metadata": {},
     "output_type": "execute_result"
    }
   ],
   "source": [
    "y = pd.DataFrame(list(new_en_fr_df[1].apply(lambda x: x.split(\" \"))))\n",
    "y.head(2)"
   ]
  },
  {
   "cell_type": "code",
   "execution_count": 139,
   "metadata": {},
   "outputs": [
    {
     "data": {
      "text/plain": [
       "str"
      ]
     },
     "execution_count": 139,
     "metadata": {},
     "output_type": "execute_result"
    }
   ],
   "source": [
    "type(y[0][0])"
   ]
  },
  {
   "cell_type": "markdown",
   "metadata": {},
   "source": [
    "# filling None by padding "
   ]
  },
  {
   "cell_type": "code",
   "execution_count": 140,
   "metadata": {},
   "outputs": [],
   "source": [
    "x.fillna(value=x_padding, inplace=True)"
   ]
  },
  {
   "cell_type": "code",
   "execution_count": 141,
   "metadata": {},
   "outputs": [
    {
     "data": {
      "text/html": [
       "<div>\n",
       "<style scoped>\n",
       "    .dataframe tbody tr th:only-of-type {\n",
       "        vertical-align: middle;\n",
       "    }\n",
       "\n",
       "    .dataframe tbody tr th {\n",
       "        vertical-align: top;\n",
       "    }\n",
       "\n",
       "    .dataframe thead th {\n",
       "        text-align: right;\n",
       "    }\n",
       "</style>\n",
       "<table border=\"1\" class=\"dataframe\">\n",
       "  <thead>\n",
       "    <tr style=\"text-align: right;\">\n",
       "      <th></th>\n",
       "      <th>0</th>\n",
       "      <th>1</th>\n",
       "      <th>2</th>\n",
       "      <th>3</th>\n",
       "      <th>4</th>\n",
       "      <th>5</th>\n",
       "      <th>6</th>\n",
       "      <th>7</th>\n",
       "      <th>8</th>\n",
       "      <th>9</th>\n",
       "      <th>...</th>\n",
       "      <th>11</th>\n",
       "      <th>12</th>\n",
       "      <th>13</th>\n",
       "      <th>14</th>\n",
       "      <th>15</th>\n",
       "      <th>16</th>\n",
       "      <th>17</th>\n",
       "      <th>18</th>\n",
       "      <th>19</th>\n",
       "      <th>20</th>\n",
       "    </tr>\n",
       "  </thead>\n",
       "  <tbody>\n",
       "    <tr>\n",
       "      <th>0</th>\n",
       "      <td>What</td>\n",
       "      <td>\"personality\"</td>\n",
       "      <td>does</td>\n",
       "      <td>it</td>\n",
       "      <td>have?</td>\n",
       "      <td>@@@@@@@@@@@@@@@@</td>\n",
       "      <td>@@@@@@@@@@@@@@@@</td>\n",
       "      <td>@@@@@@@@@@@@@@@@</td>\n",
       "      <td>@@@@@@@@@@@@@@@@</td>\n",
       "      <td>@@@@@@@@@@@@@@@@</td>\n",
       "      <td>...</td>\n",
       "      <td>@@@@@@@@@@@@@@@@</td>\n",
       "      <td>@@@@@@@@@@@@@@@@</td>\n",
       "      <td>@@@@@@@@@@@@@@@@</td>\n",
       "      <td>@@@@@@@@@@@@@@@@</td>\n",
       "      <td>@@@@@@@@@@@@@@@@</td>\n",
       "      <td>@@@@@@@@@@@@@@@@</td>\n",
       "      <td>@@@@@@@@@@@@@@@@</td>\n",
       "      <td>@@@@@@@@@@@@@@@@</td>\n",
       "      <td>@@@@@@@@@@@@@@@@</td>\n",
       "      <td>@@@@@@@@@@@@@@@@</td>\n",
       "    </tr>\n",
       "    <tr>\n",
       "      <th>1</th>\n",
       "      <td>What</td>\n",
       "      <td>(if</td>\n",
       "      <td>anything)</td>\n",
       "      <td>appears</td>\n",
       "      <td>to</td>\n",
       "      <td>be</td>\n",
       "      <td>working</td>\n",
       "      <td>(and</td>\n",
       "      <td>why)</td>\n",
       "      <td>at</td>\n",
       "      <td>...</td>\n",
       "      <td>project</td>\n",
       "      <td>level?</td>\n",
       "      <td>@@@@@@@@@@@@@@@@</td>\n",
       "      <td>@@@@@@@@@@@@@@@@</td>\n",
       "      <td>@@@@@@@@@@@@@@@@</td>\n",
       "      <td>@@@@@@@@@@@@@@@@</td>\n",
       "      <td>@@@@@@@@@@@@@@@@</td>\n",
       "      <td>@@@@@@@@@@@@@@@@</td>\n",
       "      <td>@@@@@@@@@@@@@@@@</td>\n",
       "      <td>@@@@@@@@@@@@@@@@</td>\n",
       "    </tr>\n",
       "  </tbody>\n",
       "</table>\n",
       "<p>2 rows × 21 columns</p>\n",
       "</div>"
      ],
      "text/plain": [
       "     0              1          2        3      4                 5   \\\n",
       "0  What  \"personality\"       does       it  have?  @@@@@@@@@@@@@@@@   \n",
       "1  What            (if  anything)  appears     to                be   \n",
       "\n",
       "                 6                 7                 8                 9   \\\n",
       "0  @@@@@@@@@@@@@@@@  @@@@@@@@@@@@@@@@  @@@@@@@@@@@@@@@@  @@@@@@@@@@@@@@@@   \n",
       "1           working              (and              why)                at   \n",
       "\n",
       "         ...                       11                12                13  \\\n",
       "0        ...         @@@@@@@@@@@@@@@@  @@@@@@@@@@@@@@@@  @@@@@@@@@@@@@@@@   \n",
       "1        ...                  project            level?  @@@@@@@@@@@@@@@@   \n",
       "\n",
       "                 14                15                16                17  \\\n",
       "0  @@@@@@@@@@@@@@@@  @@@@@@@@@@@@@@@@  @@@@@@@@@@@@@@@@  @@@@@@@@@@@@@@@@   \n",
       "1  @@@@@@@@@@@@@@@@  @@@@@@@@@@@@@@@@  @@@@@@@@@@@@@@@@  @@@@@@@@@@@@@@@@   \n",
       "\n",
       "                 18                19                20  \n",
       "0  @@@@@@@@@@@@@@@@  @@@@@@@@@@@@@@@@  @@@@@@@@@@@@@@@@  \n",
       "1  @@@@@@@@@@@@@@@@  @@@@@@@@@@@@@@@@  @@@@@@@@@@@@@@@@  \n",
       "\n",
       "[2 rows x 21 columns]"
      ]
     },
     "execution_count": 141,
     "metadata": {},
     "output_type": "execute_result"
    }
   ],
   "source": [
    "x.head(2)"
   ]
  },
  {
   "cell_type": "code",
   "execution_count": 142,
   "metadata": {},
   "outputs": [],
   "source": [
    "y.fillna(value=y_padding, inplace=True)"
   ]
  },
  {
   "cell_type": "code",
   "execution_count": 143,
   "metadata": {},
   "outputs": [
    {
     "data": {
      "text/html": [
       "<div>\n",
       "<style scoped>\n",
       "    .dataframe tbody tr th:only-of-type {\n",
       "        vertical-align: middle;\n",
       "    }\n",
       "\n",
       "    .dataframe tbody tr th {\n",
       "        vertical-align: top;\n",
       "    }\n",
       "\n",
       "    .dataframe thead th {\n",
       "        text-align: right;\n",
       "    }\n",
       "</style>\n",
       "<table border=\"1\" class=\"dataframe\">\n",
       "  <thead>\n",
       "    <tr style=\"text-align: right;\">\n",
       "      <th></th>\n",
       "      <th>0</th>\n",
       "      <th>1</th>\n",
       "      <th>2</th>\n",
       "      <th>3</th>\n",
       "      <th>4</th>\n",
       "      <th>5</th>\n",
       "      <th>6</th>\n",
       "      <th>7</th>\n",
       "      <th>8</th>\n",
       "      <th>9</th>\n",
       "      <th>...</th>\n",
       "      <th>11</th>\n",
       "      <th>12</th>\n",
       "      <th>13</th>\n",
       "      <th>14</th>\n",
       "      <th>15</th>\n",
       "      <th>16</th>\n",
       "      <th>17</th>\n",
       "      <th>18</th>\n",
       "      <th>19</th>\n",
       "      <th>20</th>\n",
       "    </tr>\n",
       "  </thead>\n",
       "  <tbody>\n",
       "    <tr>\n",
       "      <th>0</th>\n",
       "      <td>Quelle</td>\n",
       "      <td>«</td>\n",
       "      <td>personnalité</td>\n",
       "      <td>»</td>\n",
       "      <td>a-t-elle?</td>\n",
       "      <td>@@@@@@@@@@@@@@@@</td>\n",
       "      <td>@@@@@@@@@@@@@@@@</td>\n",
       "      <td>@@@@@@@@@@@@@@@@</td>\n",
       "      <td>@@@@@@@@@@@@@@@@</td>\n",
       "      <td>@@@@@@@@@@@@@@@@</td>\n",
       "      <td>...</td>\n",
       "      <td>@@@@@@@@@@@@@@@@</td>\n",
       "      <td>@@@@@@@@@@@@@@@@</td>\n",
       "      <td>@@@@@@@@@@@@@@@@</td>\n",
       "      <td>@@@@@@@@@@@@@@@@</td>\n",
       "      <td>@@@@@@@@@@@@@@@@</td>\n",
       "      <td>@@@@@@@@@@@@@@@@</td>\n",
       "      <td>@@@@@@@@@@@@@@@@</td>\n",
       "      <td>@@@@@@@@@@@@@@@@</td>\n",
       "      <td>@@@@@@@@@@@@@@@@</td>\n",
       "      <td>@@@@@@@@@@@@@@@@</td>\n",
       "    </tr>\n",
       "    <tr>\n",
       "      <th>1</th>\n",
       "      <td>Le</td>\n",
       "      <td>cas</td>\n",
       "      <td>échéant,</td>\n",
       "      <td>qu'est-ce</td>\n",
       "      <td>qui</td>\n",
       "      <td>semble</td>\n",
       "      <td>fonctionner</td>\n",
       "      <td>(et</td>\n",
       "      <td>pourquoi)</td>\n",
       "      <td>au</td>\n",
       "      <td>...</td>\n",
       "      <td>du</td>\n",
       "      <td>projet?</td>\n",
       "      <td>@@@@@@@@@@@@@@@@</td>\n",
       "      <td>@@@@@@@@@@@@@@@@</td>\n",
       "      <td>@@@@@@@@@@@@@@@@</td>\n",
       "      <td>@@@@@@@@@@@@@@@@</td>\n",
       "      <td>@@@@@@@@@@@@@@@@</td>\n",
       "      <td>@@@@@@@@@@@@@@@@</td>\n",
       "      <td>@@@@@@@@@@@@@@@@</td>\n",
       "      <td>@@@@@@@@@@@@@@@@</td>\n",
       "    </tr>\n",
       "  </tbody>\n",
       "</table>\n",
       "<p>2 rows × 21 columns</p>\n",
       "</div>"
      ],
      "text/plain": [
       "       0    1             2          3          4                 5   \\\n",
       "0  Quelle    «  personnalité          »  a-t-elle?  @@@@@@@@@@@@@@@@   \n",
       "1      Le  cas      échéant,  qu'est-ce        qui            semble   \n",
       "\n",
       "                 6                 7                 8                 9   \\\n",
       "0  @@@@@@@@@@@@@@@@  @@@@@@@@@@@@@@@@  @@@@@@@@@@@@@@@@  @@@@@@@@@@@@@@@@   \n",
       "1       fonctionner               (et         pourquoi)                au   \n",
       "\n",
       "         ...                       11                12                13  \\\n",
       "0        ...         @@@@@@@@@@@@@@@@  @@@@@@@@@@@@@@@@  @@@@@@@@@@@@@@@@   \n",
       "1        ...                       du           projet?  @@@@@@@@@@@@@@@@   \n",
       "\n",
       "                 14                15                16                17  \\\n",
       "0  @@@@@@@@@@@@@@@@  @@@@@@@@@@@@@@@@  @@@@@@@@@@@@@@@@  @@@@@@@@@@@@@@@@   \n",
       "1  @@@@@@@@@@@@@@@@  @@@@@@@@@@@@@@@@  @@@@@@@@@@@@@@@@  @@@@@@@@@@@@@@@@   \n",
       "\n",
       "                 18                19                20  \n",
       "0  @@@@@@@@@@@@@@@@  @@@@@@@@@@@@@@@@  @@@@@@@@@@@@@@@@  \n",
       "1  @@@@@@@@@@@@@@@@  @@@@@@@@@@@@@@@@  @@@@@@@@@@@@@@@@  \n",
       "\n",
       "[2 rows x 21 columns]"
      ]
     },
     "execution_count": 143,
     "metadata": {},
     "output_type": "execute_result"
    }
   ],
   "source": [
    "y.head(2)"
   ]
  },
  {
   "cell_type": "markdown",
   "metadata": {},
   "source": [
    "# reshape to one column"
   ]
  },
  {
   "cell_type": "code",
   "execution_count": 144,
   "metadata": {},
   "outputs": [
    {
     "data": {
      "text/plain": [
       "array([['What', '\"personality\"', 'does', ..., '@@@@@@@@@@@@@@@@', '@@@@@@@@@@@@@@@@', '@@@@@@@@@@@@@@@@'],\n",
       "       ['What', '(if', 'anything)', ..., '@@@@@@@@@@@@@@@@', '@@@@@@@@@@@@@@@@', '@@@@@@@@@@@@@@@@'],\n",
       "       ['What', '(if', 'anything)', ..., '@@@@@@@@@@@@@@@@', '@@@@@@@@@@@@@@@@', '@@@@@@@@@@@@@@@@'],\n",
       "       ...,\n",
       "       ['What', 'Happens', 'When', ..., '@@@@@@@@@@@@@@@@', '@@@@@@@@@@@@@@@@', '@@@@@@@@@@@@@@@@'],\n",
       "       ['What', 'Has', 'Changed', ..., '@@@@@@@@@@@@@@@@', '@@@@@@@@@@@@@@@@', '@@@@@@@@@@@@@@@@'],\n",
       "       ['What', 'Heritage?', '@@@@@@@@@@@@@@@@', ..., '@@@@@@@@@@@@@@@@', '@@@@@@@@@@@@@@@@',\n",
       "        '@@@@@@@@@@@@@@@@']], dtype=object)"
      ]
     },
     "execution_count": 144,
     "metadata": {},
     "output_type": "execute_result"
    }
   ],
   "source": [
    "np_x = x.values\n",
    "np_x"
   ]
  },
  {
   "cell_type": "code",
   "execution_count": 145,
   "metadata": {},
   "outputs": [
    {
     "data": {
      "text/html": [
       "<div>\n",
       "<style scoped>\n",
       "    .dataframe tbody tr th:only-of-type {\n",
       "        vertical-align: middle;\n",
       "    }\n",
       "\n",
       "    .dataframe tbody tr th {\n",
       "        vertical-align: top;\n",
       "    }\n",
       "\n",
       "    .dataframe thead th {\n",
       "        text-align: right;\n",
       "    }\n",
       "</style>\n",
       "<table border=\"1\" class=\"dataframe\">\n",
       "  <thead>\n",
       "    <tr style=\"text-align: right;\">\n",
       "      <th></th>\n",
       "      <th>0</th>\n",
       "    </tr>\n",
       "  </thead>\n",
       "  <tbody>\n",
       "    <tr>\n",
       "      <th>0</th>\n",
       "      <td>What</td>\n",
       "    </tr>\n",
       "    <tr>\n",
       "      <th>1</th>\n",
       "      <td>\"personality\"</td>\n",
       "    </tr>\n",
       "    <tr>\n",
       "      <th>2</th>\n",
       "      <td>does</td>\n",
       "    </tr>\n",
       "    <tr>\n",
       "      <th>3</th>\n",
       "      <td>it</td>\n",
       "    </tr>\n",
       "    <tr>\n",
       "      <th>4</th>\n",
       "      <td>have?</td>\n",
       "    </tr>\n",
       "    <tr>\n",
       "      <th>5</th>\n",
       "      <td>@@@@@@@@@@@@@@@@</td>\n",
       "    </tr>\n",
       "  </tbody>\n",
       "</table>\n",
       "</div>"
      ],
      "text/plain": [
       "                  0\n",
       "0              What\n",
       "1     \"personality\"\n",
       "2              does\n",
       "3                it\n",
       "4             have?\n",
       "5  @@@@@@@@@@@@@@@@"
      ]
     },
     "execution_count": 145,
     "metadata": {},
     "output_type": "execute_result"
    }
   ],
   "source": [
    "new_x = pd.DataFrame(np_x.reshape(-1,1))\n",
    "new_x.head(6)"
   ]
  },
  {
   "cell_type": "markdown",
   "metadata": {},
   "source": [
    "### for y"
   ]
  },
  {
   "cell_type": "code",
   "execution_count": 146,
   "metadata": {},
   "outputs": [
    {
     "data": {
      "text/plain": [
       "array([['Quelle', '«', 'personnalité', ..., '@@@@@@@@@@@@@@@@', '@@@@@@@@@@@@@@@@', '@@@@@@@@@@@@@@@@'],\n",
       "       ['Le', 'cas', 'échéant,', ..., '@@@@@@@@@@@@@@@@', '@@@@@@@@@@@@@@@@', '@@@@@@@@@@@@@@@@'],\n",
       "       ['Le', 'cas', 'échéant,', ..., '@@@@@@@@@@@@@@@@', '@@@@@@@@@@@@@@@@', '@@@@@@@@@@@@@@@@'],\n",
       "       ...,\n",
       "       [\"Qu'arrive-t-il\", 'si', 'une', ..., '@@@@@@@@@@@@@@@@', '@@@@@@@@@@@@@@@@', '@@@@@@@@@@@@@@@@'],\n",
       "       ['What', 'Has', 'Changed', ..., '@@@@@@@@@@@@@@@@', '@@@@@@@@@@@@@@@@', '@@@@@@@@@@@@@@@@'],\n",
       "       ['What', 'Heritage?', '@@@@@@@@@@@@@@@@', ..., '@@@@@@@@@@@@@@@@', '@@@@@@@@@@@@@@@@',\n",
       "        '@@@@@@@@@@@@@@@@']], dtype=object)"
      ]
     },
     "execution_count": 146,
     "metadata": {},
     "output_type": "execute_result"
    }
   ],
   "source": [
    "np_y = y.values\n",
    "np_y"
   ]
  },
  {
   "cell_type": "code",
   "execution_count": 147,
   "metadata": {},
   "outputs": [
    {
     "data": {
      "text/html": [
       "<div>\n",
       "<style scoped>\n",
       "    .dataframe tbody tr th:only-of-type {\n",
       "        vertical-align: middle;\n",
       "    }\n",
       "\n",
       "    .dataframe tbody tr th {\n",
       "        vertical-align: top;\n",
       "    }\n",
       "\n",
       "    .dataframe thead th {\n",
       "        text-align: right;\n",
       "    }\n",
       "</style>\n",
       "<table border=\"1\" class=\"dataframe\">\n",
       "  <thead>\n",
       "    <tr style=\"text-align: right;\">\n",
       "      <th></th>\n",
       "      <th>0</th>\n",
       "    </tr>\n",
       "  </thead>\n",
       "  <tbody>\n",
       "    <tr>\n",
       "      <th>0</th>\n",
       "      <td>Quelle</td>\n",
       "    </tr>\n",
       "    <tr>\n",
       "      <th>1</th>\n",
       "      <td>«</td>\n",
       "    </tr>\n",
       "    <tr>\n",
       "      <th>2</th>\n",
       "      <td>personnalité</td>\n",
       "    </tr>\n",
       "    <tr>\n",
       "      <th>3</th>\n",
       "      <td>»</td>\n",
       "    </tr>\n",
       "    <tr>\n",
       "      <th>4</th>\n",
       "      <td>a-t-elle?</td>\n",
       "    </tr>\n",
       "    <tr>\n",
       "      <th>5</th>\n",
       "      <td>@@@@@@@@@@@@@@@@</td>\n",
       "    </tr>\n",
       "  </tbody>\n",
       "</table>\n",
       "</div>"
      ],
      "text/plain": [
       "                  0\n",
       "0            Quelle\n",
       "1                 «\n",
       "2      personnalité\n",
       "3                 »\n",
       "4         a-t-elle?\n",
       "5  @@@@@@@@@@@@@@@@"
      ]
     },
     "execution_count": 147,
     "metadata": {},
     "output_type": "execute_result"
    }
   ],
   "source": [
    "new_y = pd.DataFrame(np_y.reshape(-1,1))\n",
    "new_y.head(6)"
   ]
  },
  {
   "cell_type": "markdown",
   "metadata": {},
   "source": [
    "## ading \"bow\" and \"eow\" to our word "
   ]
  },
  {
   "cell_type": "code",
   "execution_count": 148,
   "metadata": {},
   "outputs": [],
   "source": [
    "edited_x = pd.DataFrame(list(new_x[0].apply(lambda x: \"$\" + x + \"#\" )))"
   ]
  },
  {
   "cell_type": "code",
   "execution_count": 149,
   "metadata": {},
   "outputs": [
    {
     "data": {
      "text/html": [
       "<div>\n",
       "<style scoped>\n",
       "    .dataframe tbody tr th:only-of-type {\n",
       "        vertical-align: middle;\n",
       "    }\n",
       "\n",
       "    .dataframe tbody tr th {\n",
       "        vertical-align: top;\n",
       "    }\n",
       "\n",
       "    .dataframe thead th {\n",
       "        text-align: right;\n",
       "    }\n",
       "</style>\n",
       "<table border=\"1\" class=\"dataframe\">\n",
       "  <thead>\n",
       "    <tr style=\"text-align: right;\">\n",
       "      <th></th>\n",
       "      <th>0</th>\n",
       "    </tr>\n",
       "  </thead>\n",
       "  <tbody>\n",
       "    <tr>\n",
       "      <th>0</th>\n",
       "      <td>$What#</td>\n",
       "    </tr>\n",
       "    <tr>\n",
       "      <th>1</th>\n",
       "      <td>$\"personality\"#</td>\n",
       "    </tr>\n",
       "  </tbody>\n",
       "</table>\n",
       "</div>"
      ],
      "text/plain": [
       "                 0\n",
       "0           $What#\n",
       "1  $\"personality\"#"
      ]
     },
     "execution_count": 149,
     "metadata": {},
     "output_type": "execute_result"
    }
   ],
   "source": [
    "edited_x.head(2)"
   ]
  },
  {
   "cell_type": "code",
   "execution_count": 150,
   "metadata": {},
   "outputs": [
    {
     "data": {
      "text/html": [
       "<div>\n",
       "<style scoped>\n",
       "    .dataframe tbody tr th:only-of-type {\n",
       "        vertical-align: middle;\n",
       "    }\n",
       "\n",
       "    .dataframe tbody tr th {\n",
       "        vertical-align: top;\n",
       "    }\n",
       "\n",
       "    .dataframe thead th {\n",
       "        text-align: right;\n",
       "    }\n",
       "</style>\n",
       "<table border=\"1\" class=\"dataframe\">\n",
       "  <thead>\n",
       "    <tr style=\"text-align: right;\">\n",
       "      <th></th>\n",
       "      <th>0</th>\n",
       "      <th>1</th>\n",
       "      <th>2</th>\n",
       "      <th>3</th>\n",
       "      <th>4</th>\n",
       "      <th>5</th>\n",
       "      <th>6</th>\n",
       "      <th>7</th>\n",
       "      <th>8</th>\n",
       "      <th>9</th>\n",
       "      <th>10</th>\n",
       "      <th>11</th>\n",
       "      <th>12</th>\n",
       "      <th>13</th>\n",
       "      <th>14</th>\n",
       "      <th>15</th>\n",
       "      <th>16</th>\n",
       "      <th>17</th>\n",
       "    </tr>\n",
       "  </thead>\n",
       "  <tbody>\n",
       "    <tr>\n",
       "      <th>0</th>\n",
       "      <td>$</td>\n",
       "      <td>W</td>\n",
       "      <td>h</td>\n",
       "      <td>a</td>\n",
       "      <td>t</td>\n",
       "      <td>#</td>\n",
       "      <td>None</td>\n",
       "      <td>None</td>\n",
       "      <td>None</td>\n",
       "      <td>None</td>\n",
       "      <td>None</td>\n",
       "      <td>None</td>\n",
       "      <td>None</td>\n",
       "      <td>None</td>\n",
       "      <td>None</td>\n",
       "      <td>None</td>\n",
       "      <td>None</td>\n",
       "      <td>None</td>\n",
       "    </tr>\n",
       "    <tr>\n",
       "      <th>1</th>\n",
       "      <td>$</td>\n",
       "      <td>\"</td>\n",
       "      <td>p</td>\n",
       "      <td>e</td>\n",
       "      <td>r</td>\n",
       "      <td>s</td>\n",
       "      <td>o</td>\n",
       "      <td>n</td>\n",
       "      <td>a</td>\n",
       "      <td>l</td>\n",
       "      <td>i</td>\n",
       "      <td>t</td>\n",
       "      <td>y</td>\n",
       "      <td>\"</td>\n",
       "      <td>#</td>\n",
       "      <td>None</td>\n",
       "      <td>None</td>\n",
       "      <td>None</td>\n",
       "    </tr>\n",
       "  </tbody>\n",
       "</table>\n",
       "</div>"
      ],
      "text/plain": [
       "  0  1  2  3  4  5     6     7     8     9     10    11    12    13    14  \\\n",
       "0  $  W  h  a  t  #  None  None  None  None  None  None  None  None  None   \n",
       "1  $  \"  p  e  r  s     o     n     a     l     i     t     y     \"     #   \n",
       "\n",
       "     15    16    17  \n",
       "0  None  None  None  \n",
       "1  None  None  None  "
      ]
     },
     "execution_count": 150,
     "metadata": {},
     "output_type": "execute_result"
    }
   ],
   "source": [
    "char_by_char_x= pd.DataFrame(list(edited_x[0].apply(lambda x: list(x))))\n",
    "char_by_char_x.head(2)"
   ]
  },
  {
   "cell_type": "code",
   "execution_count": 151,
   "metadata": {},
   "outputs": [
    {
     "data": {
      "text/plain": [
       "18"
      ]
     },
     "execution_count": 151,
     "metadata": {},
     "output_type": "execute_result"
    }
   ],
   "source": [
    "len(char_by_char_x.loc[0])"
   ]
  },
  {
   "cell_type": "markdown",
   "metadata": {},
   "source": [
    "### for y"
   ]
  },
  {
   "cell_type": "code",
   "execution_count": 152,
   "metadata": {},
   "outputs": [
    {
     "data": {
      "text/html": [
       "<div>\n",
       "<style scoped>\n",
       "    .dataframe tbody tr th:only-of-type {\n",
       "        vertical-align: middle;\n",
       "    }\n",
       "\n",
       "    .dataframe tbody tr th {\n",
       "        vertical-align: top;\n",
       "    }\n",
       "\n",
       "    .dataframe thead th {\n",
       "        text-align: right;\n",
       "    }\n",
       "</style>\n",
       "<table border=\"1\" class=\"dataframe\">\n",
       "  <thead>\n",
       "    <tr style=\"text-align: right;\">\n",
       "      <th></th>\n",
       "      <th>0</th>\n",
       "    </tr>\n",
       "  </thead>\n",
       "  <tbody>\n",
       "    <tr>\n",
       "      <th>0</th>\n",
       "      <td>$Quelle#</td>\n",
       "    </tr>\n",
       "    <tr>\n",
       "      <th>1</th>\n",
       "      <td>$«#</td>\n",
       "    </tr>\n",
       "  </tbody>\n",
       "</table>\n",
       "</div>"
      ],
      "text/plain": [
       "          0\n",
       "0  $Quelle#\n",
       "1       $«#"
      ]
     },
     "execution_count": 152,
     "metadata": {},
     "output_type": "execute_result"
    }
   ],
   "source": [
    "edited_y = pd.DataFrame(list(new_y[0].apply(lambda x: \"$\" + x + \"#\" )))\n",
    "edited_y.head(2)"
   ]
  },
  {
   "cell_type": "code",
   "execution_count": 153,
   "metadata": {},
   "outputs": [
    {
     "data": {
      "text/html": [
       "<div>\n",
       "<style scoped>\n",
       "    .dataframe tbody tr th:only-of-type {\n",
       "        vertical-align: middle;\n",
       "    }\n",
       "\n",
       "    .dataframe tbody tr th {\n",
       "        vertical-align: top;\n",
       "    }\n",
       "\n",
       "    .dataframe thead th {\n",
       "        text-align: right;\n",
       "    }\n",
       "</style>\n",
       "<table border=\"1\" class=\"dataframe\">\n",
       "  <thead>\n",
       "    <tr style=\"text-align: right;\">\n",
       "      <th></th>\n",
       "      <th>0</th>\n",
       "      <th>1</th>\n",
       "      <th>2</th>\n",
       "      <th>3</th>\n",
       "      <th>4</th>\n",
       "      <th>5</th>\n",
       "      <th>6</th>\n",
       "      <th>7</th>\n",
       "      <th>8</th>\n",
       "      <th>9</th>\n",
       "      <th>10</th>\n",
       "      <th>11</th>\n",
       "      <th>12</th>\n",
       "      <th>13</th>\n",
       "      <th>14</th>\n",
       "      <th>15</th>\n",
       "      <th>16</th>\n",
       "      <th>17</th>\n",
       "    </tr>\n",
       "  </thead>\n",
       "  <tbody>\n",
       "    <tr>\n",
       "      <th>0</th>\n",
       "      <td>$</td>\n",
       "      <td>Q</td>\n",
       "      <td>u</td>\n",
       "      <td>e</td>\n",
       "      <td>l</td>\n",
       "      <td>l</td>\n",
       "      <td>e</td>\n",
       "      <td>#</td>\n",
       "      <td>None</td>\n",
       "      <td>None</td>\n",
       "      <td>None</td>\n",
       "      <td>None</td>\n",
       "      <td>None</td>\n",
       "      <td>None</td>\n",
       "      <td>None</td>\n",
       "      <td>None</td>\n",
       "      <td>None</td>\n",
       "      <td>None</td>\n",
       "    </tr>\n",
       "    <tr>\n",
       "      <th>1</th>\n",
       "      <td>$</td>\n",
       "      <td>«</td>\n",
       "      <td>#</td>\n",
       "      <td>None</td>\n",
       "      <td>None</td>\n",
       "      <td>None</td>\n",
       "      <td>None</td>\n",
       "      <td>None</td>\n",
       "      <td>None</td>\n",
       "      <td>None</td>\n",
       "      <td>None</td>\n",
       "      <td>None</td>\n",
       "      <td>None</td>\n",
       "      <td>None</td>\n",
       "      <td>None</td>\n",
       "      <td>None</td>\n",
       "      <td>None</td>\n",
       "      <td>None</td>\n",
       "    </tr>\n",
       "  </tbody>\n",
       "</table>\n",
       "</div>"
      ],
      "text/plain": [
       "  0  1  2     3     4     5     6     7     8     9     10    11    12    13  \\\n",
       "0  $  Q  u     e     l     l     e     #  None  None  None  None  None  None   \n",
       "1  $  «  #  None  None  None  None  None  None  None  None  None  None  None   \n",
       "\n",
       "     14    15    16    17  \n",
       "0  None  None  None  None  \n",
       "1  None  None  None  None  "
      ]
     },
     "execution_count": 153,
     "metadata": {},
     "output_type": "execute_result"
    }
   ],
   "source": [
    "char_by_char_y= pd.DataFrame(list(edited_y[0].apply(lambda x: list(x))))\n",
    "char_by_char_y.head(2)"
   ]
  },
  {
   "cell_type": "markdown",
   "metadata": {},
   "source": [
    "## so our x_longest_word was 16 and we should go back and doing all of them again"
   ]
  },
  {
   "cell_type": "code",
   "execution_count": 154,
   "metadata": {},
   "outputs": [
    {
     "data": {
      "text/plain": [
       "16"
      ]
     },
     "execution_count": 154,
     "metadata": {},
     "output_type": "execute_result"
    }
   ],
   "source": [
    "x_longest_word = len(char_by_char_x.loc[0]) - 2\n",
    "x_longest_word"
   ]
  },
  {
   "cell_type": "code",
   "execution_count": 155,
   "metadata": {},
   "outputs": [],
   "source": [
    "x_padding = ''\n",
    "for i in range(x_longest_word):\n",
    "    x_padding += \"@\""
   ]
  },
  {
   "cell_type": "code",
   "execution_count": 133,
   "metadata": {},
   "outputs": [
    {
     "data": {
      "text/plain": [
       "16"
      ]
     },
     "execution_count": 133,
     "metadata": {},
     "output_type": "execute_result"
    }
   ],
   "source": [
    "len(x_padding)"
   ]
  },
  {
   "cell_type": "markdown",
   "metadata": {},
   "source": [
    "### for y"
   ]
  },
  {
   "cell_type": "code",
   "execution_count": 134,
   "metadata": {},
   "outputs": [
    {
     "data": {
      "text/plain": [
       "16"
      ]
     },
     "execution_count": 134,
     "metadata": {},
     "output_type": "execute_result"
    }
   ],
   "source": [
    "y_longest_word = len(char_by_char_y.loc[0]) - 2\n",
    "y_longest_word"
   ]
  },
  {
   "cell_type": "code",
   "execution_count": 135,
   "metadata": {},
   "outputs": [],
   "source": [
    "y_padding = ''\n",
    "for i in range(y_longest_word):\n",
    "    y_padding += \"@\""
   ]
  },
  {
   "cell_type": "code",
   "execution_count": 136,
   "metadata": {},
   "outputs": [
    {
     "data": {
      "text/plain": [
       "16"
      ]
     },
     "execution_count": 136,
     "metadata": {},
     "output_type": "execute_result"
    }
   ],
   "source": [
    "len(y_padding)"
   ]
  },
  {
   "cell_type": "markdown",
   "metadata": {},
   "source": [
    "# filling Nones with @"
   ]
  },
  {
   "cell_type": "code",
   "execution_count": 156,
   "metadata": {},
   "outputs": [],
   "source": [
    "char_by_char_x.fillna(value=\"@\", inplace=True)"
   ]
  },
  {
   "cell_type": "code",
   "execution_count": 157,
   "metadata": {},
   "outputs": [
    {
     "data": {
      "text/html": [
       "<div>\n",
       "<style scoped>\n",
       "    .dataframe tbody tr th:only-of-type {\n",
       "        vertical-align: middle;\n",
       "    }\n",
       "\n",
       "    .dataframe tbody tr th {\n",
       "        vertical-align: top;\n",
       "    }\n",
       "\n",
       "    .dataframe thead th {\n",
       "        text-align: right;\n",
       "    }\n",
       "</style>\n",
       "<table border=\"1\" class=\"dataframe\">\n",
       "  <thead>\n",
       "    <tr style=\"text-align: right;\">\n",
       "      <th></th>\n",
       "      <th>0</th>\n",
       "      <th>1</th>\n",
       "      <th>2</th>\n",
       "      <th>3</th>\n",
       "      <th>4</th>\n",
       "      <th>5</th>\n",
       "      <th>6</th>\n",
       "      <th>7</th>\n",
       "      <th>8</th>\n",
       "      <th>9</th>\n",
       "      <th>10</th>\n",
       "      <th>11</th>\n",
       "      <th>12</th>\n",
       "      <th>13</th>\n",
       "      <th>14</th>\n",
       "      <th>15</th>\n",
       "      <th>16</th>\n",
       "      <th>17</th>\n",
       "    </tr>\n",
       "  </thead>\n",
       "  <tbody>\n",
       "    <tr>\n",
       "      <th>0</th>\n",
       "      <td>$</td>\n",
       "      <td>W</td>\n",
       "      <td>h</td>\n",
       "      <td>a</td>\n",
       "      <td>t</td>\n",
       "      <td>#</td>\n",
       "      <td>@</td>\n",
       "      <td>@</td>\n",
       "      <td>@</td>\n",
       "      <td>@</td>\n",
       "      <td>@</td>\n",
       "      <td>@</td>\n",
       "      <td>@</td>\n",
       "      <td>@</td>\n",
       "      <td>@</td>\n",
       "      <td>@</td>\n",
       "      <td>@</td>\n",
       "      <td>@</td>\n",
       "    </tr>\n",
       "    <tr>\n",
       "      <th>1</th>\n",
       "      <td>$</td>\n",
       "      <td>\"</td>\n",
       "      <td>p</td>\n",
       "      <td>e</td>\n",
       "      <td>r</td>\n",
       "      <td>s</td>\n",
       "      <td>o</td>\n",
       "      <td>n</td>\n",
       "      <td>a</td>\n",
       "      <td>l</td>\n",
       "      <td>i</td>\n",
       "      <td>t</td>\n",
       "      <td>y</td>\n",
       "      <td>\"</td>\n",
       "      <td>#</td>\n",
       "      <td>@</td>\n",
       "      <td>@</td>\n",
       "      <td>@</td>\n",
       "    </tr>\n",
       "  </tbody>\n",
       "</table>\n",
       "</div>"
      ],
      "text/plain": [
       "  0  1  2  3  4  5  6  7  8  9  10 11 12 13 14 15 16 17\n",
       "0  $  W  h  a  t  #  @  @  @  @  @  @  @  @  @  @  @  @\n",
       "1  $  \"  p  e  r  s  o  n  a  l  i  t  y  \"  #  @  @  @"
      ]
     },
     "execution_count": 157,
     "metadata": {},
     "output_type": "execute_result"
    }
   ],
   "source": [
    "char_by_char_x.head(2)"
   ]
  },
  {
   "cell_type": "markdown",
   "metadata": {},
   "source": [
    "### for y"
   ]
  },
  {
   "cell_type": "code",
   "execution_count": 67,
   "metadata": {},
   "outputs": [],
   "source": [
    "char_by_char_y.fillna(value=\"@\", inplace=True)"
   ]
  },
  {
   "cell_type": "code",
   "execution_count": 68,
   "metadata": {},
   "outputs": [
    {
     "data": {
      "text/html": [
       "<div>\n",
       "<style scoped>\n",
       "    .dataframe tbody tr th:only-of-type {\n",
       "        vertical-align: middle;\n",
       "    }\n",
       "\n",
       "    .dataframe tbody tr th {\n",
       "        vertical-align: top;\n",
       "    }\n",
       "\n",
       "    .dataframe thead th {\n",
       "        text-align: right;\n",
       "    }\n",
       "</style>\n",
       "<table border=\"1\" class=\"dataframe\">\n",
       "  <thead>\n",
       "    <tr style=\"text-align: right;\">\n",
       "      <th></th>\n",
       "      <th>0</th>\n",
       "      <th>1</th>\n",
       "      <th>2</th>\n",
       "      <th>3</th>\n",
       "      <th>4</th>\n",
       "      <th>5</th>\n",
       "      <th>6</th>\n",
       "      <th>7</th>\n",
       "      <th>8</th>\n",
       "      <th>9</th>\n",
       "      <th>10</th>\n",
       "      <th>11</th>\n",
       "      <th>12</th>\n",
       "      <th>13</th>\n",
       "      <th>14</th>\n",
       "      <th>15</th>\n",
       "      <th>16</th>\n",
       "      <th>17</th>\n",
       "    </tr>\n",
       "  </thead>\n",
       "  <tbody>\n",
       "    <tr>\n",
       "      <th>0</th>\n",
       "      <td>$</td>\n",
       "      <td>Q</td>\n",
       "      <td>u</td>\n",
       "      <td>e</td>\n",
       "      <td>l</td>\n",
       "      <td>l</td>\n",
       "      <td>e</td>\n",
       "      <td>#</td>\n",
       "      <td>@</td>\n",
       "      <td>@</td>\n",
       "      <td>@</td>\n",
       "      <td>@</td>\n",
       "      <td>@</td>\n",
       "      <td>@</td>\n",
       "      <td>@</td>\n",
       "      <td>@</td>\n",
       "      <td>@</td>\n",
       "      <td>@</td>\n",
       "    </tr>\n",
       "    <tr>\n",
       "      <th>1</th>\n",
       "      <td>$</td>\n",
       "      <td>«</td>\n",
       "      <td>#</td>\n",
       "      <td>@</td>\n",
       "      <td>@</td>\n",
       "      <td>@</td>\n",
       "      <td>@</td>\n",
       "      <td>@</td>\n",
       "      <td>@</td>\n",
       "      <td>@</td>\n",
       "      <td>@</td>\n",
       "      <td>@</td>\n",
       "      <td>@</td>\n",
       "      <td>@</td>\n",
       "      <td>@</td>\n",
       "      <td>@</td>\n",
       "      <td>@</td>\n",
       "      <td>@</td>\n",
       "    </tr>\n",
       "  </tbody>\n",
       "</table>\n",
       "</div>"
      ],
      "text/plain": [
       "  0  1  2  3  4  5  6  7  8  9  10 11 12 13 14 15 16 17\n",
       "0  $  Q  u  e  l  l  e  #  @  @  @  @  @  @  @  @  @  @\n",
       "1  $  «  #  @  @  @  @  @  @  @  @  @  @  @  @  @  @  @"
      ]
     },
     "execution_count": 68,
     "metadata": {},
     "output_type": "execute_result"
    }
   ],
   "source": [
    "char_by_char_y.head(2)"
   ]
  },
  {
   "cell_type": "markdown",
   "metadata": {},
   "source": [
    "# reshaping to one sentence in a word "
   ]
  },
  {
   "cell_type": "code",
   "execution_count": 69,
   "metadata": {},
   "outputs": [
    {
     "data": {
      "text/plain": [
       "2100"
      ]
     },
     "execution_count": 69,
     "metadata": {},
     "output_type": "execute_result"
    }
   ],
   "source": [
    "len(char_by_char_x)"
   ]
  },
  {
   "cell_type": "code",
   "execution_count": 70,
   "metadata": {},
   "outputs": [],
   "source": [
    "last_x = pd.DataFrame(char_by_char_x.values.reshape(number_of_sentences , -1))"
   ]
  },
  {
   "cell_type": "code",
   "execution_count": 71,
   "metadata": {},
   "outputs": [
    {
     "data": {
      "text/plain": [
       "378"
      ]
     },
     "execution_count": 71,
     "metadata": {},
     "output_type": "execute_result"
    }
   ],
   "source": [
    "x_max_alpha_in_sentence =len(last_x.loc[0])\n",
    "x_max_alpha_in_sentence"
   ]
  },
  {
   "cell_type": "code",
   "execution_count": 72,
   "metadata": {},
   "outputs": [
    {
     "data": {
      "text/plain": [
       "18"
      ]
     },
     "execution_count": 72,
     "metadata": {},
     "output_type": "execute_result"
    }
   ],
   "source": [
    "x_max_alpha_in_word = len(x_padding) +2\n",
    "x_max_alpha_in_word"
   ]
  },
  {
   "cell_type": "code",
   "execution_count": 73,
   "metadata": {},
   "outputs": [
    {
     "data": {
      "text/plain": [
       "21"
      ]
     },
     "execution_count": 73,
     "metadata": {},
     "output_type": "execute_result"
    }
   ],
   "source": [
    "x_number_of_words = int(x_max_alpha_in_sentence / x_max_alpha_in_word)\n",
    "x_number_of_words"
   ]
  },
  {
   "cell_type": "markdown",
   "metadata": {},
   "source": [
    "### for y"
   ]
  },
  {
   "cell_type": "code",
   "execution_count": 74,
   "metadata": {},
   "outputs": [
    {
     "data": {
      "text/plain": [
       "2100"
      ]
     },
     "execution_count": 74,
     "metadata": {},
     "output_type": "execute_result"
    }
   ],
   "source": [
    "len(char_by_char_y)"
   ]
  },
  {
   "cell_type": "code",
   "execution_count": 75,
   "metadata": {},
   "outputs": [],
   "source": [
    "last_y = pd.DataFrame(char_by_char_y.values.reshape(number_of_sentences , -1))"
   ]
  },
  {
   "cell_type": "code",
   "execution_count": 76,
   "metadata": {},
   "outputs": [
    {
     "data": {
      "text/plain": [
       "378"
      ]
     },
     "execution_count": 76,
     "metadata": {},
     "output_type": "execute_result"
    }
   ],
   "source": [
    "y_max_alpha_in_sentence =len(last_y.loc[0])\n",
    "y_max_alpha_in_sentence"
   ]
  },
  {
   "cell_type": "code",
   "execution_count": 77,
   "metadata": {},
   "outputs": [
    {
     "data": {
      "text/plain": [
       "18"
      ]
     },
     "execution_count": 77,
     "metadata": {},
     "output_type": "execute_result"
    }
   ],
   "source": [
    "y_max_alpha_in_word = len(y_padding) +2\n",
    "y_max_alpha_in_word"
   ]
  },
  {
   "cell_type": "code",
   "execution_count": 78,
   "metadata": {},
   "outputs": [
    {
     "data": {
      "text/plain": [
       "21"
      ]
     },
     "execution_count": 78,
     "metadata": {},
     "output_type": "execute_result"
    }
   ],
   "source": [
    "y_number_of_words = int(y_max_alpha_in_sentence / y_max_alpha_in_word)\n",
    "y_number_of_words"
   ]
  },
  {
   "cell_type": "markdown",
   "metadata": {},
   "source": [
    "# Loding numbers (just for this fren data) "
   ]
  },
  {
   "cell_type": "code",
   "execution_count": 5,
   "metadata": {},
   "outputs": [],
   "source": [
    "y_number_of_words , x_number_of_words = 21 , 21\n",
    "y_max_alpha_in_word , x_max_alpha_in_word = 18 , 18\n",
    "y_max_alpha_in_sentence , x_max_alpha_in_sentence = 378 , 378"
   ]
  },
  {
   "cell_type": "markdown",
   "metadata": {},
   "source": [
    "# turnign DataFrames to numpy"
   ]
  },
  {
   "cell_type": "code",
   "execution_count": 79,
   "metadata": {},
   "outputs": [
    {
     "data": {
      "text/plain": [
       "array([['$', 'W', 'h', ..., '@', '@', '@'],\n",
       "       ['$', 'W', 'h', ..., '@', '@', '@'],\n",
       "       ['$', 'W', 'h', ..., '@', '@', '@'],\n",
       "       ...,\n",
       "       ['$', 'W', 'h', ..., '@', '@', '@'],\n",
       "       ['$', 'W', 'h', ..., '@', '@', '@'],\n",
       "       ['$', 'W', 'h', ..., '@', '@', '@']], dtype=object)"
      ]
     },
     "execution_count": 79,
     "metadata": {},
     "output_type": "execute_result"
    }
   ],
   "source": [
    "x_tok = last_x.values\n",
    "x_tok"
   ]
  },
  {
   "cell_type": "code",
   "execution_count": 80,
   "metadata": {},
   "outputs": [
    {
     "data": {
      "text/plain": [
       "array([['$', 'Q', 'u', ..., '@', '@', '@'],\n",
       "       ['$', 'L', 'e', ..., '@', '@', '@'],\n",
       "       ['$', 'L', 'e', ..., '@', '@', '@'],\n",
       "       ...,\n",
       "       ['$', 'Q', 'u', ..., '@', '@', '@'],\n",
       "       ['$', 'W', 'h', ..., '@', '@', '@'],\n",
       "       ['$', 'W', 'h', ..., '@', '@', '@']], dtype=object)"
      ]
     },
     "execution_count": 80,
     "metadata": {},
     "output_type": "execute_result"
    }
   ],
   "source": [
    "y_tok = last_y.values\n",
    "y_tok"
   ]
  },
  {
   "cell_type": "markdown",
   "metadata": {},
   "source": [
    "# V3 concating all the columns to 1"
   ]
  },
  {
   "cell_type": "code",
   "execution_count": 81,
   "metadata": {},
   "outputs": [],
   "source": [
    "cated_last_y = pd.DataFrame(last_y.apply(''.join, axis=1))"
   ]
  },
  {
   "cell_type": "code",
   "execution_count": 82,
   "metadata": {},
   "outputs": [
    {
     "data": {
      "text/plain": [
       "0    $Quelle#@@@@@@@@@@$«#@@@@@@@@@@@@@@@$personnal...\n",
       "Name: 0, dtype: object"
      ]
     },
     "execution_count": 82,
     "metadata": {},
     "output_type": "execute_result"
    }
   ],
   "source": [
    "cated_last_y.loc[0]"
   ]
  },
  {
   "cell_type": "code",
   "execution_count": 83,
   "metadata": {},
   "outputs": [],
   "source": [
    "cated_last_x = pd.DataFrame(last_x.apply(''.join, axis=1))"
   ]
  },
  {
   "cell_type": "code",
   "execution_count": 84,
   "metadata": {},
   "outputs": [],
   "source": [
    "cated_last_y.columns = [\"y\"]"
   ]
  },
  {
   "cell_type": "code",
   "execution_count": 85,
   "metadata": {},
   "outputs": [],
   "source": [
    "cated_last_x.columns = [\"x\"]"
   ]
  },
  {
   "cell_type": "code",
   "execution_count": 86,
   "metadata": {},
   "outputs": [],
   "source": [
    "cated_df = pd.concat([cated_last_x,cated_last_y] , axis = 1) "
   ]
  },
  {
   "cell_type": "code",
   "execution_count": null,
   "metadata": {},
   "outputs": [],
   "source": []
  },
  {
   "cell_type": "code",
   "execution_count": 87,
   "metadata": {},
   "outputs": [],
   "source": [
    "cated_df.to_pickle(PATH/'cated_df.pkl')"
   ]
  },
  {
   "cell_type": "code",
   "execution_count": 88,
   "metadata": {},
   "outputs": [],
   "source": [
    "cated_df = pd.read_pickle(PATH/'cated_df.pkl')"
   ]
  },
  {
   "cell_type": "markdown",
   "metadata": {},
   "source": [
    "# saving "
   ]
  },
  {
   "cell_type": "code",
   "execution_count": 89,
   "metadata": {},
   "outputs": [],
   "source": [
    "pickle.dump(x_tok, (PATH/'x_tok.pkl').open('wb'))\n",
    "pickle.dump(y_tok, (PATH/'y_tok.pkl').open('wb'))"
   ]
  },
  {
   "cell_type": "code",
   "execution_count": 9,
   "metadata": {},
   "outputs": [],
   "source": [
    "x_tok = pickle.load((PATH/'x_tok.pkl').open('rb'))\n",
    "y_tok = pickle.load((PATH/'y_tok.pkl').open('rb'))"
   ]
  },
  {
   "cell_type": "markdown",
   "metadata": {},
   "source": [
    "# toks2indexs"
   ]
  },
  {
   "cell_type": "code",
   "execution_count": 137,
   "metadata": {},
   "outputs": [],
   "source": [
    "freq = Counter(p for o in x_tok for p in o)\n",
    "itos = [o for o,c in freq.most_common(40000)]"
   ]
  },
  {
   "cell_type": "code",
   "execution_count": 140,
   "metadata": {
    "scrolled": true
   },
   "outputs": [
    {
     "data": {
      "text/plain": [
       "['@', '$', '#', 'e', 't']"
      ]
     },
     "execution_count": 140,
     "metadata": {},
     "output_type": "execute_result"
    }
   ],
   "source": [
    "itos[:5]"
   ]
  },
  {
   "cell_type": "code",
   "execution_count": 142,
   "metadata": {},
   "outputs": [],
   "source": []
  },
  {
   "cell_type": "code",
   "execution_count": null,
   "metadata": {},
   "outputs": [],
   "source": []
  },
  {
   "cell_type": "code",
   "execution_count": 91,
   "metadata": {},
   "outputs": [],
   "source": [
    "def toks2ids(tok,pre):\n",
    "    freq = Counter(p for o in tok for p in o)\n",
    "    itos = [o for o,c in freq.most_common(40000)]\n",
    "    itos.remove('@')\n",
    "    itos.remove('$')\n",
    "    itos.remove('#')\n",
    "    \n",
    "    itos.insert(0, '_bos_')\n",
    "    itos.insert(1, '@') # padding\n",
    "    itos.insert(2, '_eos_')\n",
    "    itos.insert(3, '_unk')\n",
    "    itos.insert(4, '$') # <bow>\n",
    "    itos.insert(5, '#') # <eow>\n",
    "    stoi = collections.defaultdict(lambda:3 , {v:k for k,v in enumerate(itos)})\n",
    "    ids = np.array([[stoi[o] for o in p] for p in tok])\n",
    "    np.save(TMP_PATH/f'{pre}_ids.npy', ids)\n",
    "    pickle.dump(itos, open(TMP_PATH/f'{pre}_itos.pkl', 'wb'))\n",
    "    return ids,itos,stoi"
   ]
  },
  {
   "cell_type": "code",
   "execution_count": 92,
   "metadata": {},
   "outputs": [],
   "source": [
    "x_ids,x_itos,x_stoi = toks2ids(x_tok,'x')\n",
    "y_ids,y_itos,y_stoi = toks2ids(y_tok,'y')"
   ]
  },
  {
   "cell_type": "markdown",
   "metadata": {},
   "source": [
    "# loading indexes "
   ]
  },
  {
   "cell_type": "code",
   "execution_count": 6,
   "metadata": {},
   "outputs": [],
   "source": [
    "def load_ids(pre):\n",
    "    ids = np.load(TMP_PATH/f'{pre}_ids.npy')\n",
    "    itos = pickle.load(open(TMP_PATH/f'{pre}_itos.pkl', 'rb'))\n",
    "    stoi = collections.defaultdict(lambda: 3, {v:k for k,v in enumerate(itos)})\n",
    "    return ids,itos,stoi"
   ]
  },
  {
   "cell_type": "code",
   "execution_count": 7,
   "metadata": {},
   "outputs": [],
   "source": [
    "x_ids,x_itos,x_stoi = load_ids('x')\n",
    "y_ids,y_itos,y_stoi = load_ids('y')"
   ]
  },
  {
   "cell_type": "code",
   "execution_count": 8,
   "metadata": {
    "collapsed": true
   },
   "outputs": [
    {
     "data": {
      "text/plain": [
       "array(['$', 'W', 'h', 'a', 't', '#', '@', '@', '@', '@', '@', '@', '@', '@', '@', '@', '@', '@', '$', '\"',\n",
       "       'p', 'e', 'r', 's', 'o', 'n', 'a', 'l', 'i', 't', 'y', '\"', '#', '@', '@', '@', '$', 'd', 'o', 'e',\n",
       "       's', '#', '@', '@', '@', '@', '@', '@', '@', '@', '@', '@', '@', '@', '$', 'i', 't', '#', '@', '@',\n",
       "       '@', '@', '@', '@', '@', '@', '@', '@', '@', '@', '@', '@', '$', 'h', 'a', 'v', 'e', '?', '#', '@',\n",
       "       '@', '@', '@', '@', '@', '@', '@', '@', '@', '@', '$', '@', '@', '@', '@', '@', '@', '@', '@', '@',\n",
       "       '@', '#', '@', '@', '@', '@', '@', '@', '$', '@', '@', '@', '@', '@', '@', '@', '@', '@', '@', '#',\n",
       "       '@', '@', '@', '@', '@', '@', '$', '@', '@', '@', '@', '@', '@', '@', '@', '@', '@', '#', '@', '@',\n",
       "       '@', '@', '@', '@', '$', '@', '@', '@', '@', '@', '@', '@', '@', '@', '@', '#', '@', '@', '@', '@',\n",
       "       '@', '@', '$', '@', '@', '@', '@', '@', '@', '@', '@', '@', '@', '#', '@', '@', '@', '@', '@', '@',\n",
       "       '$', '@', '@', '@', '@', '@', '@', '@', '@', '@', '@', '#', '@', '@', '@', '@', '@', '@', '$', '@',\n",
       "       '@', '@', '@', '@', '@', '@', '@', '@', '@', '#', '@', '@', '@', '@', '@', '@', '$', '@', '@', '@',\n",
       "       '@', '@', '@', '@', '@', '@', '@', '#', '@', '@', '@', '@', '@', '@', '$', '@', '@', '@', '@', '@',\n",
       "       '@', '@', '@', '@', '@', '#', '@', '@', '@', '@', '@', '@', '$', '@', '@', '@', '@', '@', '@', '@',\n",
       "       '@', '@', '@', '#', '@', '@', '@', '@', '@', '@', '$', '@', '@', '@', '@', '@', '@', '@', '@', '@',\n",
       "       '@', '#', '@', '@', '@', '@', '@', '@', '$', '@', '@', '@', '@', '@', '@', '@', '@', '@', '@', '#',\n",
       "       '@', '@', '@', '@', '@', '@', '$', '@', '@', '@', '@', '@', '@', '@', '@', '@', '@', '#', '@', '@',\n",
       "       '@', '@', '@', '@', '$', '@', '@', '@', '@', '@', '@', '@', '@', '@', '@', '#', '@', '@', '@', '@',\n",
       "       '@', '@', '$', '@', '@', '@', '@', '@', '@', '@', '@', '@', '@', '#', '@', '@', '@', '@', '@', '@',\n",
       "       '$', '@', '@', '@', '@', '@', '@', '@', '@', '@', '@', '#', '@', '@', '@', '@', '@', '@'], dtype='<U1')"
      ]
     },
     "execution_count": 8,
     "metadata": {},
     "output_type": "execute_result"
    }
   ],
   "source": [
    "np.array([x_itos[o] for o in x_ids[0]])"
   ]
  },
  {
   "cell_type": "markdown",
   "metadata": {},
   "source": [
    "# Model Data"
   ]
  },
  {
   "cell_type": "code",
   "execution_count": 9,
   "metadata": {},
   "outputs": [],
   "source": [
    "class Seq2SeqDataset(Dataset):\n",
    "    def __init__(self, x, y): self.x,self.y = x,y\n",
    "    def __getitem__(self, idx): return A(self.x[idx], self.y[idx])\n",
    "    def __len__(self): return len(self.x)"
   ]
  },
  {
   "cell_type": "code",
   "execution_count": 10,
   "metadata": {},
   "outputs": [],
   "source": [
    "np.random.seed(42)\n",
    "trn_keep = np.random.rand(len(x_ids))>0.1\n",
    "x_trn , y_trn = x_ids[trn_keep] ,y_ids[trn_keep]\n",
    "x_val , y_val = x_ids[~trn_keep] ,y_ids[~trn_keep]"
   ]
  },
  {
   "cell_type": "code",
   "execution_count": 11,
   "metadata": {},
   "outputs": [
    {
     "data": {
      "text/plain": [
       "(13, 87)"
      ]
     },
     "execution_count": 11,
     "metadata": {},
     "output_type": "execute_result"
    }
   ],
   "source": [
    "len(x_val) , len(x_trn)"
   ]
  },
  {
   "cell_type": "code",
   "execution_count": 12,
   "metadata": {},
   "outputs": [
    {
     "data": {
      "text/plain": [
       "(13, 87)"
      ]
     },
     "execution_count": 12,
     "metadata": {},
     "output_type": "execute_result"
    }
   ],
   "source": [
    "len(y_val) , len(y_trn)"
   ]
  },
  {
   "cell_type": "code",
   "execution_count": 13,
   "metadata": {},
   "outputs": [],
   "source": [
    "trn_ds = Seq2SeqDataset(x_trn,y_trn)\n",
    "val_ds = Seq2SeqDataset(x_val,y_val)"
   ]
  },
  {
   "cell_type": "code",
   "execution_count": 14,
   "metadata": {},
   "outputs": [],
   "source": [
    "bs = 64"
   ]
  },
  {
   "cell_type": "code",
   "execution_count": 15,
   "metadata": {},
   "outputs": [],
   "source": [
    "trn_samp = SortishSampler(y_trn, key=lambda x: len(y_trn[x]), bs=bs)\n",
    "val_samp = SortSampler(y_val, key=lambda x: len(y_val[x]))"
   ]
  },
  {
   "cell_type": "code",
   "execution_count": 16,
   "metadata": {},
   "outputs": [],
   "source": [
    "trn_dl = DataLoader(trn_ds , bs , transpose=True , transpose_y=True,num_workers=1,pad_idx=1\n",
    "                    ,pre_pad=False , sampler=trn_samp)\n",
    "val_dl = DataLoader(val_ds , int(bs*1.6) , transpose=True , transpose_y=True,num_workers=1,pad_idx=1\n",
    "                    ,pre_pad=False , sampler=val_samp)\n",
    "md = ModelData(PATH,trn_dl,val_dl)"
   ]
  },
  {
   "cell_type": "code",
   "execution_count": 17,
   "metadata": {},
   "outputs": [
    {
     "data": {
      "text/plain": [
       "[\n",
       "     4     4     4  ...      4     4     4\n",
       "    15    15    15  ...     15    15    15\n",
       "    12    12    12  ...     12    12    12\n",
       "        ...          ⋱          ...       \n",
       "     1     1     1  ...      1     1     1\n",
       "     1     1     1  ...      1     1     1\n",
       "     1     1     1  ...      1     1     1\n",
       " [torch.LongTensor of size 378x64], \n",
       "     4     4     4  ...      4     4     4\n",
       "    33    26    23  ...     37    23    26\n",
       "     6    20    13  ...      9    13    20\n",
       "        ...          ⋱          ...       \n",
       "     1     1     1  ...      1     1     1\n",
       "     1     1     1  ...      1     1     1\n",
       "     1     1     1  ...      1     1     1\n",
       " [torch.LongTensor of size 378x64]]"
      ]
     },
     "execution_count": 17,
     "metadata": {},
     "output_type": "execute_result"
    }
   ],
   "source": [
    "it =iter(trn_dl)\n",
    "ne =next(it)\n",
    "\n",
    "ne"
   ]
  },
  {
   "cell_type": "markdown",
   "metadata": {},
   "source": [
    "# main model (heart of code)"
   ]
  },
  {
   "cell_type": "code",
   "execution_count": null,
   "metadata": {},
   "outputs": [],
   "source": [
    "# check for turning again for longest word"
   ]
  },
  {
   "cell_type": "markdown",
   "metadata": {},
   "source": [
    "# simple model "
   ]
  },
  {
   "cell_type": "code",
   "execution_count": 21,
   "metadata": {},
   "outputs": [],
   "source": [
    "def create_emb(itos,emb_sz):\n",
    "    emb = nn.Embedding(len(itos),emb_sz)#,pad_idx=1\n",
    "    return emb"
   ]
  },
  {
   "cell_type": "code",
   "execution_count": 22,
   "metadata": {},
   "outputs": [],
   "source": [
    "nh , nl = 40 , 1\n",
    "em_sz_enc , em_sz_dec = 10 , 10"
   ]
  },
  {
   "cell_type": "code",
   "execution_count": 23,
   "metadata": {},
   "outputs": [],
   "source": [
    " class G2P_1(nn.Module):\n",
    "    def __init__(self, itos_enc, em_sz_enc, itos_dec, em_sz_dec, nh, out_sl, nl):\n",
    "        super().__init__()\n",
    "        self.nl,self.nh,self.out_sl = nl,nh,out_sl\n",
    "        self.emb_enc = create_emb( itos_enc, em_sz_enc)\n",
    "        self.emb_enc_drop = nn.Dropout(0.15)\n",
    "        self.gru_enc = nn.GRU(em_sz_enc, nh, num_layers=nl, dropout=0.25)\n",
    "        self.out_enc = nn.Linear(nh, em_sz_dec, bias=False)\n",
    "        \n",
    "        self.emb_dec = create_emb( itos_dec, em_sz_dec)\n",
    "        self.gru_dec = nn.GRU(em_sz_dec, em_sz_dec, num_layers=nl, dropout=0.1)\n",
    "        self.out_drop = nn.Dropout(0.35)\n",
    "        self.out = nn.Linear(em_sz_dec, len(itos_dec))\n",
    "        self.out.weight.data = self.emb_dec.weight.data\n",
    "        \n",
    "    def forward(self, inp):\n",
    "        sl,bs = inp.size()\n",
    "        h = self.initHidden(bs)\n",
    "        emb = self.emb_enc_drop(self.emb_enc(inp))\n",
    "        enc_out, h = self.gru_enc(emb, h)\n",
    "        print(\"\\n enc_out:   \" , enc_out.size())\n",
    "        last_of_each_part = enc_out[x_max_alpha_in_word-1 :: x_max_alpha_in_word ,:,:]\n",
    "        \n",
    "        #print(\"\\n last_of_each_part:   \" , last_of_each_part.size() )\n",
    "        \n",
    "        h_last_of_each_part = self.out_enc(last_of_each_part)\n",
    "        #print(\"\\n h:   \" , h.size())\n",
    "        #print(\"\\n h[1]:   \" , h[1])\n",
    "        dec_inp = V(torch.zeros(bs).long())\n",
    "        \n",
    "        final_res = []        \n",
    "        for j in range(h_last_of_each_part.size()[0]):\n",
    "            h = (h_last_of_each_part[j]).unsqueeze(dim=0)\n",
    "            res = []\n",
    "            for i in range(self.out_sl):\n",
    "                emb = self.emb_dec(dec_inp).unsqueeze(0)\n",
    "                #print(\"\\n h[j]).unsqueeze:   \" ,j)#,\"    \",(h[j]).unsqueeze(dim=0).size())\n",
    "                outp, h = self.gru_dec(emb , h)\n",
    "                #print(\"\\n h:   \" , h.size())\n",
    "                #print(\"\\n first outp:   \" , outp.size())\n",
    "                #print(\"\\n second outp:   \" , outp[0].size())\n",
    "                outp = self.out(self.out_drop(outp[0]))\n",
    "                res.append(outp)\n",
    "                dec_inp = V(outp.data.max(1)[1])\n",
    "                #if (dec_inp==1).all(): break\n",
    "            final_res.append(torch.stack(res))\n",
    "                        \n",
    "        #print(\"\\n final_res:   \" , torch.cat(final_res).size() )\n",
    "        return torch.cat(final_res)\n",
    "    \n",
    "    def initHidden(self, bs): return V(torch.zeros(self.nl, bs, self.nh))"
   ]
  },
  {
   "cell_type": "code",
   "execution_count": 24,
   "metadata": {},
   "outputs": [],
   "source": [
    "opt_fn = partial(optim.Adam,betas=(0.8,0.99))\n",
    "\n",
    "rnn = G2P_1(x_itos,em_sz_enc,y_itos,em_sz_dec,nh, y_max_alpha_in_word ,nl)"
   ]
  },
  {
   "cell_type": "code",
   "execution_count": 25,
   "metadata": {},
   "outputs": [],
   "source": [
    "def seq2seq_loss(input, target):\n",
    "    sl,bs = target.size()\n",
    "    #print(\"\\n y_sl:   \" , sl)\n",
    "    #print(\"\\n y_bs:   \" , bs)\n",
    "    \n",
    "    sl_in,bs_in,nc = input.size()\n",
    "    \n",
    "    #print(\"\\n x_sl:   \" , sl_in)\n",
    "    #print(\"\\n x_bs:   \" , bs_in)\n",
    "    #if sl>sl_in: input = F.pad(input, (0,0,0,0,0,sl-sl_in))\n",
    "    #input = input[:sl]\n",
    "    return F.cross_entropy(input.view(-1,nc), target.view(-1))#, ignore_index=1)"
   ]
  },
  {
   "cell_type": "code",
   "execution_count": 26,
   "metadata": {},
   "outputs": [],
   "source": [
    "learn = RNN_Learner(md,SingleModel(rnn) , opt_fn=opt_fn)\n",
    "#SingleModel treat the whole thing as a group , groups of lr\n",
    "\n",
    "learn.crit = seq2seq_loss"
   ]
  },
  {
   "cell_type": "code",
   "execution_count": 27,
   "metadata": {},
   "outputs": [],
   "source": [
    "lr = 1e-3"
   ]
  },
  {
   "cell_type": "code",
   "execution_count": 28,
   "metadata": {},
   "outputs": [
    {
     "data": {
      "application/vnd.jupyter.widget-view+json": {
       "model_id": "466d3da1a8e64e00a93780628428fa73",
       "version_major": 2,
       "version_minor": 0
      },
      "text/plain": [
       "HBox(children=(IntProgress(value=0, description='Epoch', max=1, style=ProgressStyle(description_width='initial…"
      ]
     },
     "metadata": {},
     "output_type": "display_data"
    },
    {
     "name": "stdout",
     "output_type": "stream",
     "text": [
      "  0%|                                                                                            | 0/2 [00:00<?, ?it/s]\n",
      " enc_out:    torch.Size([378, 64, 40])\n",
      " 50%|████████████████████████████████████▌                                    | 1/2 [00:00<00:00,  1.63it/s, loss=5.44]\n",
      " enc_out:    torch.Size([378, 23, 40])\n",
      "Validation:   0%|                                                                                | 0/1 [00:00<?, ?it/s]\n",
      " enc_out:    torch.Size([378, 13, 40])\n",
      "epoch      trn_loss   val_loss                                                                                         \n",
      "    0      5.420199   4.901486  \n",
      "\n"
     ]
    },
    {
     "data": {
      "text/plain": [
       "[array([4.90149])]"
      ]
     },
     "execution_count": 28,
     "metadata": {},
     "output_type": "execute_result"
    }
   ],
   "source": [
    "learn.fit(lr,1)"
   ]
  },
  {
   "cell_type": "code",
   "execution_count": 120,
   "metadata": {},
   "outputs": [],
   "source": [
    "learn.save(\"GRU_last_of_each_uni_dir\")"
   ]
  },
  {
   "cell_type": "code",
   "execution_count": 121,
   "metadata": {},
   "outputs": [],
   "source": [
    "learn.load(\"GRU_last_of_each_uni_dir\")"
   ]
  },
  {
   "cell_type": "code",
   "execution_count": null,
   "metadata": {},
   "outputs": [],
   "source": []
  },
  {
   "cell_type": "markdown",
   "metadata": {},
   "source": [
    "# F.pad (check that if it makes acc better add this for rest of models >> after this to the end )"
   ]
  },
  {
   "cell_type": "code",
   "execution_count": 30,
   "metadata": {},
   "outputs": [],
   "source": [
    "def create_emb(itos,emb_sz):\n",
    "    emb = nn.Embedding(len(itos),emb_sz)#,pad_idx=1\n",
    "    return emb"
   ]
  },
  {
   "cell_type": "code",
   "execution_count": 31,
   "metadata": {},
   "outputs": [],
   "source": [
    "nh , nl = 40 , 1\n",
    "em_sz_enc , em_sz_dec = 10 , 10"
   ]
  },
  {
   "cell_type": "code",
   "execution_count": 32,
   "metadata": {},
   "outputs": [],
   "source": [
    " class G2P_1(nn.Module):\n",
    "    def __init__(self, itos_enc, em_sz_enc, itos_dec, em_sz_dec, nh, out_sl, nl):\n",
    "        super().__init__()\n",
    "        self.nl,self.nh,self.out_sl = nl,nh,out_sl\n",
    "        self.emb_enc = create_emb( itos_enc, em_sz_enc)\n",
    "        self.emb_enc_drop = nn.Dropout(0.15)\n",
    "        self.gru_enc = nn.GRU(em_sz_enc, nh, num_layers=nl, dropout=0.25)\n",
    "        self.out_enc = nn.Linear(nh, em_sz_dec, bias=False)\n",
    "        \n",
    "        self.emb_dec = create_emb( itos_dec, em_sz_dec)\n",
    "        self.gru_dec = nn.GRU(em_sz_dec, em_sz_dec, num_layers=nl, dropout=0.1)\n",
    "        self.out_drop = nn.Dropout(0.35)\n",
    "        self.out = nn.Linear(em_sz_dec, len(itos_dec))\n",
    "        self.out.weight.data = self.emb_dec.weight.data\n",
    "        \n",
    "    def forward(self, inp):\n",
    "        sl,bs = inp.size()\n",
    "        h = self.initHidden(bs)\n",
    "        emb = self.emb_enc_drop(self.emb_enc(inp))\n",
    "        enc_out, h = self.gru_enc(emb, h)\n",
    "        \n",
    "        last_of_each_part = enc_out[x_max_alpha_in_word-1 :: x_max_alpha_in_word ,:,:]\n",
    "        \n",
    "        #print(\"\\n last_of_each_part:   \" , last_of_each_part.size() )\n",
    "        \n",
    "        h_last_of_each_part = self.out_enc(last_of_each_part)\n",
    "        #print(\"\\n h:   \" , h.size())\n",
    "        #print(\"\\n h[1]:   \" , h[1])\n",
    "        dec_inp = V(torch.zeros(bs).long())\n",
    "        \n",
    "        final_res = []        \n",
    "        for j in range(h_last_of_each_part.size()[0]):\n",
    "            h = (h_last_of_each_part[j]).unsqueeze(dim=0)\n",
    "            res = []\n",
    "            for i in range(self.out_sl):\n",
    "                emb = self.emb_dec(dec_inp).unsqueeze(0)\n",
    "                #print(\"\\n h[j]).unsqueeze:   \" ,j)#,\"    \",(h[j]).unsqueeze(dim=0).size())\n",
    "                outp, h = self.gru_dec(emb, h)\n",
    "                #print(\"\\n h:   \" , h.size())\n",
    "                #print(\"\\n first outp:   \" , outp.size())\n",
    "                #print(\"\\n second outp:   \" , outp[0].size())\n",
    "                outp = self.out(self.out_drop(outp[0]))\n",
    "                res.append(outp)\n",
    "                dec_inp = V(outp.data.max(1)[1])\n",
    "                if (dec_inp==1).all(): break\n",
    "            stacked_res = torch.stack(res)\n",
    "            sl = stacked_res.size()[0]\n",
    "            stacked_res = F.pad(stacked_res, (0,0,0,0,0, self.out_sl-sl))\n",
    "            final_res.append(stacked_res)\n",
    "                        \n",
    "        #print(\"\\n final_res:   \" , torch.cat(final_res).size() )\n",
    "        return torch.cat(final_res)\n",
    "    \n",
    "    def initHidden(self, bs): return V(torch.zeros(self.nl, bs, self.nh))"
   ]
  },
  {
   "cell_type": "code",
   "execution_count": 33,
   "metadata": {},
   "outputs": [],
   "source": [
    "opt_fn = partial(optim.Adam,betas=(0.8,0.99))\n",
    "\n",
    "rnn = G2P_1(x_itos,em_sz_enc,y_itos,em_sz_dec,nh, y_max_alpha_in_word ,nl)"
   ]
  },
  {
   "cell_type": "code",
   "execution_count": 34,
   "metadata": {},
   "outputs": [],
   "source": [
    "def seq2seq_loss(input, target):\n",
    "    sl,bs = target.size()\n",
    "    #print(\"\\n y_sl:   \" , sl)\n",
    "    #print(\"\\n y_bs:   \" , bs)\n",
    "    \n",
    "    sl_in,bs_in,nc = input.size()\n",
    "    \n",
    "    #print(\"\\n x_sl:   \" , sl_in)\n",
    "    #print(\"\\n x_bs:   \" , bs_in)\n",
    "    #if sl>sl_in: input = F.pad(input, (0,0,0,0,0,sl-sl_in))\n",
    "    #input = input[:sl]\n",
    "    return F.cross_entropy(input.view(-1,nc), target.view(-1))#, ignore_index=1)"
   ]
  },
  {
   "cell_type": "code",
   "execution_count": 35,
   "metadata": {},
   "outputs": [],
   "source": [
    "learn = RNN_Learner(md,SingleModel(rnn) , opt_fn=opt_fn)\n",
    "#SingleModel treat the whole thing as a group , groups of lr\n",
    "\n",
    "learn.crit = seq2seq_loss"
   ]
  },
  {
   "cell_type": "code",
   "execution_count": 36,
   "metadata": {},
   "outputs": [],
   "source": [
    "lr = 1e-3"
   ]
  },
  {
   "cell_type": "code",
   "execution_count": 37,
   "metadata": {},
   "outputs": [
    {
     "data": {
      "application/vnd.jupyter.widget-view+json": {
       "model_id": "87b30b3dc36547d188e2722c407e257c",
       "version_major": 2,
       "version_minor": 0
      },
      "text/plain": [
       "HBox(children=(IntProgress(value=0, description='Epoch', max=1, style=ProgressStyle(description_width='initial…"
      ]
     },
     "metadata": {},
     "output_type": "display_data"
    },
    {
     "name": "stdout",
     "output_type": "stream",
     "text": [
      "epoch      trn_loss   val_loss                                                                                         \n",
      "    0      4.022777   4.30795   \n",
      "\n"
     ]
    },
    {
     "data": {
      "text/plain": [
       "[array([4.30795])]"
      ]
     },
     "execution_count": 37,
     "metadata": {},
     "output_type": "execute_result"
    }
   ],
   "source": [
    "learn.fit(lr,1)"
   ]
  },
  {
   "cell_type": "code",
   "execution_count": 120,
   "metadata": {},
   "outputs": [],
   "source": [
    "learn.save(\"GRU_last_of_each_uni_dir\")"
   ]
  },
  {
   "cell_type": "code",
   "execution_count": 121,
   "metadata": {},
   "outputs": [],
   "source": [
    "learn.load(\"GRU_last_of_each_uni_dir\")"
   ]
  },
  {
   "cell_type": "code",
   "execution_count": null,
   "metadata": {},
   "outputs": [],
   "source": []
  },
  {
   "cell_type": "code",
   "execution_count": null,
   "metadata": {},
   "outputs": [],
   "source": []
  },
  {
   "cell_type": "markdown",
   "metadata": {},
   "source": [
    "# Bidirectional G2P"
   ]
  },
  {
   "cell_type": "markdown",
   "metadata": {},
   "source": [
    "# that was not bidirictional in all the sentence , just words"
   ]
  },
  {
   "cell_type": "code",
   "execution_count": 38,
   "metadata": {},
   "outputs": [],
   "source": [
    "def create_emb(itos,emb_sz):\n",
    "    emb = nn.Embedding(len(itos),emb_sz)#,pad_idx=1\n",
    "    return emb"
   ]
  },
  {
   "cell_type": "code",
   "execution_count": 39,
   "metadata": {},
   "outputs": [],
   "source": [
    "nh , nl = 40 , 1\n",
    "em_sz_enc , em_sz_dec = 10 , 10"
   ]
  },
  {
   "cell_type": "code",
   "execution_count": 47,
   "metadata": {},
   "outputs": [],
   "source": [
    " class G2P_Bidir(nn.Module):\n",
    "    def __init__(self, itos_enc, em_sz_enc, itos_dec, em_sz_dec, nh, out_sl, nl=1):\n",
    "        super().__init__()\n",
    "        self.nl,self.nh,self.out_sl = nl,nh,out_sl\n",
    "        self.emb_enc = create_emb( itos_enc, em_sz_enc)\n",
    "        self.emb_enc_drop = nn.Dropout(0.15)\n",
    "        self.gru_enc = nn.GRU(em_sz_enc, nh, num_layers=nl, dropout=0.25, bidirectional = True)\n",
    "        self.out_enc = nn.Linear(nh*2, em_sz_dec, bias=False)\n",
    "        \n",
    "        self.emb_dec = create_emb( itos_dec, em_sz_dec)\n",
    "        self.gru_dec = nn.GRU(em_sz_dec, em_sz_dec, num_layers=nl, dropout=0.1)\n",
    "        self.out_drop = nn.Dropout(0.35)\n",
    "        self.out = nn.Linear(em_sz_dec, len(itos_dec))\n",
    "        self.out.weight.data = self.emb_dec.weight.data\n",
    "        \n",
    "    def forward(self, inp):\n",
    "        sl,bs = inp.size()\n",
    "        h_gru_enc = self.initHidden(bs)\n",
    "        emb = self.emb_enc_drop(self.emb_enc(inp))\n",
    "        \n",
    "        h_res = []\n",
    "        for k in range(emb.size()[0]):\n",
    "            enc_out, h_gru_enc = self.gru_enc(emb[k].unsqueeze(0) , h_gru_enc)\n",
    "            h = h_gru_enc.view(self.nl,2,bs,-1).permute(0,2,1,3).contiguous().view(self.nl,bs,-1)\n",
    "            h_res.append(h[0])\n",
    "        \n",
    "        h_res = torch.stack(h_res)\n",
    "        \n",
    "        first_of_each_part = h_res[0 :: x_max_alpha_in_word ,:,:]\n",
    "        \n",
    "        h_first_of_each_part = self.out_enc(first_of_each_part)\n",
    "        \n",
    "        dec_inp = V(torch.zeros(bs).long())\n",
    "        final_res = []        \n",
    "        for j in range(h_first_of_each_part.size()[0]):\n",
    "            h = (h_first_of_each_part[j]).unsqueeze(dim=0)\n",
    "            res = []\n",
    "            for i in range(self.out_sl):\n",
    "                emb = self.emb_dec(dec_inp).unsqueeze(0)\n",
    "                outp, h = self.gru_dec(emb,h)\n",
    "                outp = self.out(self.out_drop(outp[0]))\n",
    "                res.append(outp)\n",
    "                dec_inp = V(outp.data.max(1)[1])\n",
    "                #if (dec_inp==1).all(): break\n",
    "            final_res.append(torch.stack(res))\n",
    "                        \n",
    "        return torch.cat(final_res)\n",
    "    \n",
    "    def initHidden(self, bs): return V(torch.zeros(self.nl*2, bs, self.nh))"
   ]
  },
  {
   "cell_type": "code",
   "execution_count": 48,
   "metadata": {},
   "outputs": [],
   "source": [
    "# make it first of each part  (check the number of that is = to  21)"
   ]
  },
  {
   "cell_type": "code",
   "execution_count": 49,
   "metadata": {},
   "outputs": [],
   "source": [
    "opt_fn = partial(optim.Adam,betas=(0.8,0.99))\n",
    "\n",
    "rnn = G2P_Bidir(x_itos,em_sz_enc,y_itos,em_sz_dec,nh, y_max_alpha_in_word ,nl)"
   ]
  },
  {
   "cell_type": "code",
   "execution_count": 50,
   "metadata": {},
   "outputs": [],
   "source": [
    "def seq2seq_loss(input, target):\n",
    "    sl,bs = target.size()\n",
    "    #print(\"\\n y_sl:   \" , sl)\n",
    "    #print(\"\\n y_bs:   \" , bs)\n",
    "    \n",
    "    sl_in,bs_in,nc = input.size()\n",
    "    \n",
    "    #print(\"\\n x_sl:   \" , sl_in)\n",
    "    #print(\"\\n x_bs:   \" , bs_in)\n",
    "    #if sl>sl_in: input = F.pad(input, (0,0,0,0,0,sl-sl_in))\n",
    "    #input = input[:sl]\n",
    "    return F.cross_entropy(input.view(-1,nc), target.view(-1))#, ignore_index=1)"
   ]
  },
  {
   "cell_type": "code",
   "execution_count": 51,
   "metadata": {},
   "outputs": [],
   "source": [
    "learn = RNN_Learner(md,SingleModel(rnn) , opt_fn=opt_fn)\n",
    "#SingleModel treat the whole thing as a group , groups of lr\n",
    "\n",
    "learn.crit = seq2seq_loss"
   ]
  },
  {
   "cell_type": "code",
   "execution_count": 52,
   "metadata": {},
   "outputs": [],
   "source": [
    "lr = 1e-3"
   ]
  },
  {
   "cell_type": "code",
   "execution_count": 53,
   "metadata": {},
   "outputs": [
    {
     "data": {
      "application/vnd.jupyter.widget-view+json": {
       "model_id": "e54383d457eb4f9e913da3a64ba4aff2",
       "version_major": 2,
       "version_minor": 0
      },
      "text/plain": [
       "HBox(children=(IntProgress(value=0, description='Epoch', max=1, style=ProgressStyle(description_width='initial…"
      ]
     },
     "metadata": {},
     "output_type": "display_data"
    },
    {
     "name": "stdout",
     "output_type": "stream",
     "text": [
      "epoch      trn_loss   val_loss                                                                                         \n",
      "    0      6.564824   6.175123  \n",
      "\n"
     ]
    },
    {
     "data": {
      "text/plain": [
       "[array([6.17512])]"
      ]
     },
     "execution_count": 53,
     "metadata": {},
     "output_type": "execute_result"
    }
   ],
   "source": [
    "learn.fit(lr,1)"
   ]
  },
  {
   "cell_type": "code",
   "execution_count": 117,
   "metadata": {},
   "outputs": [],
   "source": [
    "learn.save(\"G2P_Bidir_first_of_each_part\")"
   ]
  },
  {
   "cell_type": "code",
   "execution_count": 118,
   "metadata": {},
   "outputs": [],
   "source": [
    "learn.load(\"G2P_Bidir_first_of_each_part\")"
   ]
  },
  {
   "cell_type": "code",
   "execution_count": null,
   "metadata": {},
   "outputs": [],
   "source": []
  },
  {
   "cell_type": "markdown",
   "metadata": {},
   "source": [
    "# Bidir in entire sentence"
   ]
  },
  {
   "cell_type": "code",
   "execution_count": 18,
   "metadata": {},
   "outputs": [],
   "source": [
    "def create_emb(itos,emb_sz):\n",
    "    emb = nn.Embedding(len(itos),emb_sz)#,pad_idx=1\n",
    "    return emb"
   ]
  },
  {
   "cell_type": "code",
   "execution_count": 19,
   "metadata": {},
   "outputs": [],
   "source": [
    "nh , nl = 40 , 1\n",
    "em_sz_enc , em_sz_dec = 10 , 10\n",
    "bs = 64"
   ]
  },
  {
   "cell_type": "code",
   "execution_count": 72,
   "metadata": {},
   "outputs": [],
   "source": [
    " class G2P_entire_sntence_Bidir(nn.Module):\n",
    "    def __init__(self, itos_enc, em_sz_enc, itos_dec, em_sz_dec, nh, out_sl, nl=1):\n",
    "        super().__init__()\n",
    "        self.nl,self.nh,self.out_sl = nl,nh,out_sl\n",
    "        self.emb_enc = create_emb( itos_enc, em_sz_enc)\n",
    "        self.emb_enc_drop = nn.Dropout(0.15)\n",
    "        self.gru_enc = nn.GRU(em_sz_enc, nh, num_layers=nl, dropout=0.25, bidirectional = True)\n",
    "        self.out_enc = nn.Linear(nh*2, em_sz_dec, bias=False)\n",
    "        \n",
    "        self.emb_dec = create_emb( itos_dec, em_sz_dec)\n",
    "        self.gru_dec = nn.GRU(em_sz_dec, em_sz_dec, num_layers=nl, dropout=0.1)\n",
    "        self.out_drop = nn.Dropout(0.35)\n",
    "        self.out = nn.Linear(em_sz_dec, len(itos_dec))\n",
    "        self.out.weight.data = self.emb_dec.weight.data\n",
    "        \n",
    "    def forward(self, inp):\n",
    "        sl,bs = inp.size()\n",
    "        h = self.initHidden(bs)\n",
    "        emb = self.emb_enc_drop(self.emb_enc(inp))\n",
    "        enc_out, h = self.gru_enc(emb , h)\n",
    "        \n",
    "        T1 = enc_out[0 :: x_max_alpha_in_word ,:, nh:]\n",
    "        T2 = enc_out[x_max_alpha_in_word-1 :: x_max_alpha_in_word ,:, :nh]\n",
    "        \n",
    "        concated_enc_out = []\n",
    "        for k in range(T1.size()[0]):\n",
    "            concated_enc_out.append(torch.cat((T1[k] , T2[k]) , 1))\n",
    "        \n",
    "        concated_enc_out = torch.stack(concated_enc_out)                  \n",
    "        h_concated_enc_out = self.out_enc(concated_enc_out)\n",
    "        \n",
    "        dec_inp = V(torch.zeros(bs).long())\n",
    "        final_res = []        \n",
    "        for j in range(h_concated_enc_out.size()[0]):\n",
    "            h = (h_concated_enc_out[j]).unsqueeze(dim=0)\n",
    "            res = []\n",
    "            for i in range(self.out_sl):\n",
    "                emb = self.emb_dec(dec_inp).unsqueeze(0)\n",
    "                outp, h = self.gru_dec(emb,h)\n",
    "                outp = self.out(self.out_drop(outp[0]))\n",
    "                res.append(outp)\n",
    "                dec_inp = V(outp.data.max(1)[1])\n",
    "                #if (dec_inp==1).all(): break\n",
    "            final_res.append(torch.stack(res))\n",
    "                        \n",
    "        return torch.cat(final_res)\n",
    "    \n",
    "    def initHidden(self, bs): return V(torch.zeros(self.nl*2, bs, self.nh))"
   ]
  },
  {
   "cell_type": "code",
   "execution_count": 73,
   "metadata": {},
   "outputs": [],
   "source": [
    "opt_fn = partial(optim.Adam,betas=(0.8,0.99))\n",
    "\n",
    "rnn = G2P_entire_sntence_Bidir(x_itos,em_sz_enc,y_itos,em_sz_dec,nh, y_max_alpha_in_word ,nl)"
   ]
  },
  {
   "cell_type": "code",
   "execution_count": 74,
   "metadata": {},
   "outputs": [],
   "source": [
    "def seq2seq_loss(input, target):\n",
    "    sl,bs = target.size()\n",
    "    #print(\"\\n y_sl:   \" , sl)\n",
    "    #print(\"\\n y_bs:   \" , bs)\n",
    "    \n",
    "    sl_in,bs_in,nc = input.size()\n",
    "    \n",
    "    #print(\"\\n x_sl:   \" , sl_in)\n",
    "    #print(\"\\n x_bs:   \" , bs_in)\n",
    "    #if sl>sl_in: input = F.pad(input, (0,0,0,0,0,sl-sl_in))\n",
    "    #input = input[:sl]\n",
    "    return F.cross_entropy(input.view(-1,nc), target.view(-1))#, ignore_index=1)"
   ]
  },
  {
   "cell_type": "code",
   "execution_count": 75,
   "metadata": {},
   "outputs": [],
   "source": [
    "learn = RNN_Learner(md,SingleModel(rnn) , opt_fn=opt_fn)\n",
    "#SingleModel treat the whole thing as a group , groups of lr\n",
    "\n",
    "learn.crit = seq2seq_loss"
   ]
  },
  {
   "cell_type": "code",
   "execution_count": 76,
   "metadata": {
    "collapsed": true
   },
   "outputs": [
    {
     "data": {
      "application/vnd.jupyter.widget-view+json": {
       "model_id": "bad066350b23418c9a50a876900f639a",
       "version_major": 2,
       "version_minor": 0
      },
      "text/plain": [
       "HBox(children=(IntProgress(value=0, description='Epoch', max=1, style=ProgressStyle(description_width='initial…"
      ]
     },
     "metadata": {},
     "output_type": "display_data"
    },
    {
     "name": "stdout",
     "output_type": "stream",
     "text": [
      "epoch      trn_loss   val_loss                                                                                         \n",
      "    0      5.288864   4.752321  \n",
      "\n"
     ]
    },
    {
     "data": {
      "image/png": "[encoded data removed]",
      "text/plain": [
       "<Figure size 432x288 with 1 Axes>"
      ]
     },
     "metadata": {
      "needs_background": "light"
     },
     "output_type": "display_data"
    }
   ],
   "source": [
    "learn.lr_find()\n",
    "learn.sched.plot()"
   ]
  },
  {
   "cell_type": "code",
   "execution_count": 79,
   "metadata": {},
   "outputs": [],
   "source": [
    "lr = 1e-3"
   ]
  },
  {
   "cell_type": "code",
   "execution_count": 203,
   "metadata": {},
   "outputs": [
    {
     "data": {
      "application/vnd.jupyter.widget-view+json": {
       "model_id": "6cb6a693503e41ebb998994ec857e50a",
       "version_major": 2,
       "version_minor": 0
      },
      "text/plain": [
       "HBox(children=(IntProgress(value=0, description='Epoch', max=1, style=ProgressStyle(description_width='initial…"
      ]
     },
     "metadata": {},
     "output_type": "display_data"
    },
    {
     "name": "stdout",
     "output_type": "stream",
     "text": [
      "epoch      trn_loss   val_loss                                                                                         \n",
      "    0      5.12139    5.356619  \n",
      "\n"
     ]
    },
    {
     "data": {
      "text/plain": [
       "[array([5.35662])]"
      ]
     },
     "execution_count": 203,
     "metadata": {},
     "output_type": "execute_result"
    }
   ],
   "source": [
    "learn.fit(lr, 1, cycle_len=1)#, use_clr=(20,10))"
   ]
  },
  {
   "cell_type": "markdown",
   "metadata": {},
   "source": [
    "# Testing (val_set)"
   ]
  },
  {
   "cell_type": "code",
   "execution_count": 210,
   "metadata": {},
   "outputs": [],
   "source": [
    "x,y = next(iter(val_dl))\n",
    "probs = learn.model(V(x))"
   ]
  },
  {
   "cell_type": "code",
   "execution_count": 212,
   "metadata": {},
   "outputs": [
    {
     "data": {
      "text/plain": [
       "torch.Size([378, 13])"
      ]
     },
     "execution_count": 212,
     "metadata": {},
     "output_type": "execute_result"
    }
   ],
   "source": [
    "x.size()"
   ]
  },
  {
   "cell_type": "code",
   "execution_count": 211,
   "metadata": {},
   "outputs": [
    {
     "data": {
      "text/plain": [
       "torch.Size([378, 13, 79])"
      ]
     },
     "execution_count": 211,
     "metadata": {},
     "output_type": "execute_result"
    }
   ],
   "source": [
    "probs.size()"
   ]
  },
  {
   "cell_type": "code",
   "execution_count": 214,
   "metadata": {},
   "outputs": [
    {
     "data": {
      "text/plain": [
       "79"
      ]
     },
     "execution_count": 214,
     "metadata": {},
     "output_type": "execute_result"
    }
   ],
   "source": [
    "len(y_itos)"
   ]
  },
  {
   "cell_type": "code",
   "execution_count": 229,
   "metadata": {},
   "outputs": [
    {
     "data": {
      "text/plain": [
       "(378, 13)"
      ]
     },
     "execution_count": 229,
     "metadata": {},
     "output_type": "execute_result"
    }
   ],
   "source": [
    "preds = to_np(probs.max(2)[1])\n",
    "preds.shape"
   ]
  },
  {
   "cell_type": "code",
   "execution_count": 236,
   "metadata": {},
   "outputs": [
    {
     "name": "stdout",
     "output_type": "stream",
     "text": [
      " What  ADR  services  does  the  Commission  provide?                             \n",
      " Quels  services  de  RAD  la  Commission  offre-t-elle?                             \n",
      "tOOOOO0ccâcânccâncOOOO0ccâcânccânccân_eos__eos_OOOOOOO0ccâcânc âân_eos__eos_OOOOOO0ccâcân_eos__eos_OOOOOOO0ccâcânc âân_eos__eos_OOOOOO0ccâcân_eos__eos_OOOOOOO0ccâcânc âân_eos__eos_OOOOOO0ccâcân_eos__eos_OOOOOOO0ccâcânc âân_eos__eos_OOOOOO0ccâcân_eos__eos_OOOOOOO0ccâcânc âân_eos__eos_OOOOOO0ccâcân_eos__eos_OOOOOOO0ccâcânc âân_eos__eos_OOOOOO0ccâcân_eos__eos_OOOOOOO0ccâcânc âân_eos__eos_OOOOOO0ccâcân_eos__eos_OOOOOOO0ccâcânc âân_eos__eos_OOOOOO0ccâcân_eos__eos_OOOOOOO0ccâcânc âân_eos__eos_OOOOOO0ccâcân_eos__eos_OOOOOOO0ccâcânc\n",
      " \n",
      "\n",
      "\n",
      "\n",
      " What  Alberta  legislation  covers  these  types  of  facilities?                           \n",
      " Quelles  lois  de  l’Alberta  visent  ces  types  d’établissement?                           \n",
      "tOOOOO0ccâcânccâncOOOOO0ccâcânccânccOOOO0ccâcânccânccân_eos__eos_OOOOOOO0ccâcânc âân_eos__eos_OOOOOO0ccâcân_eos__eos_OOOOOOO0ccâcânc âân_eos__eos_OOOOOO0ccâcân_eos__eos_OOOOOOO0ccâcânc âân_eos__eos_OOOOOO0ccâcân_eos__eos_OOOOOOO0ccâcânc âân_eos__eos_OOOOOO0ccâcân_eos__eos_OOOOOOO0ccâcânc âân_eos__eos_OOOOOO0ccâcân_eos__eos_OOOOOOO0ccâcânc âân_eos__eos_OOOOOO0ccâcân_eos__eos_OOOOOOO0ccâcânc âân_eos__eos_OOOOOO0ccâcân_eos__eos_OOOOOOO0ccâcânc âân_eos__eos_OOOOOO0ccâcân_eos__eos_OOOOOOO0ccâcânc âân_eos__eos_OOOOOO0ccâcâ\n",
      " \n",
      "\n",
      "\n",
      "\n",
      " What  Are  We  Doing  To  Achieve  Results?                             \n",
      " Que  faisons-nous  pour  obtenir  les  résultats  visés?                             \n",
      "tOOOOO0ccâcânccânc âân_eos__eos_OOOOOO0ccâcân_eos__eos_OOOOOOO0ccâcânc âân_eos__eos_OOOOOO0ccâcân_eos__eos_OOOOOOO0ccâcâncOOOO0ccâcânccânccân_eos__eos_OOOOOOO0ccâcânc âân_eos__eos_OOOOOO0ccâcân_eos__eos_OOOOOOO0ccâcânc âân_eos__eos_OOOOOO0ccâcân_eos__eos_OOOOOOO0ccâcânc âân_eos__eos_OOOOOO0ccâcân_eos__eos_OOOOOOO0ccâcânc âân_eos__eos_OOOOOO0ccâcân_eos__eos_OOOOOOO0ccâcânc âân_eos__eos_OOOOOO0ccâcân_eos__eos_OOOOOOO0ccâcânc âân_eos__eos_OOOOOO0ccâcân_eos__eos_OOOOOOO0ccâcânc âân_eos__eos_OOOOOO0ccâcân_eos__eos_OOOOOOO0ccâcânc\n",
      " \n",
      "\n",
      "\n",
      "\n",
      " What  Are  the  Benefits  to  Our  Clients?                             \n",
      " Quels  sont  les  avantages  pour  nos  clients?                             \n",
      "tOOOOO0ccâcânccânc âân_eos__eos_OOOOOO0ccâcân_eos__eos_OOOOOOO0ccâcânc âân_eos__eos_OOOOOO0ccâcân_eos__eos_OOOOOOO0ccâcânc âân_eos__eos_OOOOOO0ccâcân_eos__eos_OOOOOOO0ccâcânc âân_eos__eos_OOOOOO0ccâcân_eos__eos_OOOOOOO0ccâcânc âân_eos__eos_OOOOOO0ccâcân_eos__eos_OOOOOOO0ccâcânc âân_eos__eos_OOOOOO0ccâcân_eos__eos_OOOOOOO0ccâcânc âân_eos__eos_OOOOOO0ccâcân_eos__eos_OOOOOOO0ccâcânc âân_eos__eos_OOOOOO0ccâcân_eos__eos_OOOOOOO0ccâcânc âân_eos__eos_OOOOOO0ccâcân_eos__eos_OOOOOOO0ccâcânc âân_eos__eos_OOOOOO0ccâcân_eos__eos_OOOOOOO0ccâcânc\n",
      " \n",
      "\n",
      "\n",
      "\n",
      " What  Are  the  Implications  of  This  Knowledge?                             \n",
      " À  quoi  ces  connaissances  peuvent-elles  nous  servir?                             \n",
      "tOOOOO0ccâcânccânc âân_eos__eos_OOOOOO0ccâcân_eos__eos_OOOOOOO0ccâcâncOOOO0ccâcânccânccân_eos__eos_OOOOOOO0ccâcânc âân_eos__eos_OOOOOO0ccâcân_eos__eos_OOOOOOO0ccâcânc âân_eos__eos_OOOOOO0ccâcân_eos__eos_OOOOOOO0ccâcânc âân_eos__eos_OOOOOO0ccâcân_eos__eos_OOOOOOO0ccâcânc âân_eos__eos_OOOOOO0ccâcân_eos__eos_OOOOOOO0ccâcânc âân_eos__eos_OOOOOO0ccâcân_eos__eos_OOOOOOO0ccâcânc âân_eos__eos_OOOOOO0ccâcân_eos__eos_OOOOOOO0ccâcânc âân_eos__eos_OOOOOO0ccâcân_eos__eos_OOOOOOO0ccâcânc âân_eos__eos_OOOOOO0ccâcân_eos__eos_OOOOOOO0ccâcânc\n",
      " \n",
      "\n",
      "\n",
      "\n",
      " What  Are  the  Strategic  Objectives  for  the  Indian  and  Inuit  Affairs  Program?                   \n",
      " Quels  sont  les  objectifs  stratégiques  du  Programme  des  affaires  indiennes  et  inuites?                   \n",
      "tOOOOO0ccâcânccânc âân_eos__eos_OOOOOO0ccâcân_eos__eos_OOOOOOO0ccâcânc âân_eos__eos_OOOOOO0ccâcân_eos__eos_OOOOOOO0ccâcânc âân_eos__eos_OOOOOO0ccâcân_eos__eos_OOOOOOO0ccâcânc âân_eos__eos_OOOOOO0ccâcân_eos__eos_OOOOOOO0ccâcânc âân_eos__eos_OOOOOO0ccâcân_eos__eos_OOOOOOO0ccâcânc âân_eos__eos_OOOOOO0ccâcân_eos__eos_OOOOOOO0ccâcânc âân_eos__eos_OOOOOO0ccâcân_eos__eos_OOOOOOO0ccâcânc âân_eos__eos_OOOOOO0ccâcân_eos__eos_OOOOOOO0ccâcânc âân_eos__eos_OOOOOO0ccâcân_eos__eos_OOOOOOO0ccâcânc âân_eos__eos_OOOOOO0ccâcân_eos__eos_OOOOOOO0ccâcânc\n",
      " \n",
      "\n",
      "\n",
      "\n",
      " What  Do  We  Mean  by  \"Jobless  Recovery\"?                             \n",
      " Que  voulons-nous  dire  par  \"reprise  sans  emploi\"?                             \n",
      "tOOOOO0ccâcânccânc âân_eos__eos_OOOOOO0ccâcân_eos__eos_OOOOOOO0ccâcânc âân_eos__eos_OOOOOO0ccâcân_eos__eos_OOOOOOO0ccâcânc âân_eos__eos_OOOOOO0ccâcân_eos__eos_OOOOOOO0ccâcânc âân_eos__eos_OOOOOO0ccâcân_eos__eos_OOOOOOO0ccâcânc âân_eos__eos_OOOOOO0ccâcân_eos__eos_OOOOOOO0ccâcânc âân_eos__eos_OOOOOO0ccâcân_eos__eos_OOOOOOO0ccâcânc âân_eos__eos_OOOOOO0ccâcân_eos__eos_OOOOOOO0ccâcânc âân_eos__eos_OOOOOO0ccâcân_eos__eos_OOOOOOO0ccâcânc âân_eos__eos_OOOOOO0ccâcân_eos__eos_OOOOOOO0ccâcânc âân_eos__eos_OOOOOO0ccâcân_eos__eos_OOOOOOO0ccâcânc\n",
      " \n",
      "\n",
      "\n",
      "\n",
      " What  Do  We  Want,  What  Do  We  Have,  Can  We  Ever  Get  It?                 \n",
      " What  Do  We  Want,  What  Do  We  Have,  Can  We  Ever  Get  It?                 \n",
      "tOOOOO0ccâcânccânc âân_eos__eos_OOOOOO0ccâcân_eos__eos_OOOOOOO0ccâcânc âân_eos__eos_OOOOOO0ccâcân_eos__eos_OOOOOOO0ccâcânc âân_eos__eos_OOOOOO0ccâcân_eos__eos_OOOOOOO0ccâcânc âân_eos__eos_OOOOOO0ccâcân_eos__eos_OOOOOOO0ccâcânc âân_eos__eos_OOOOOO0ccâcân_eos__eos_OOOOOOO0ccâcânc âân_eos__eos_OOOOOO0ccâcân_eos__eos_OOOOOOO0ccâcânc âân_eos__eos_OOOOOO0ccâcân_eos__eos_OOOOOOO0ccâcânc âân_eos__eos_OOOOOO0ccâcân_eos__eos_OOOOOOO0ccâcânc âân_eos__eos_OOOOOO0ccâcân_eos__eos_OOOOOOO0ccâcânc âân_eos__eos_OOOOOO0ccâcân_eos__eos_OOOOOOO0ccâcânc\n",
      " \n",
      "\n",
      "\n",
      "\n",
      " What  Does  It  Signify?                                   \n",
      " What  Does  It  Signify?                                   \n",
      "tOOOOO0ccâcânccânc âân_eos__eos_OOOOOO0ccâcân_eos__eos_OOOOOOO0ccâcânc âân_eos__eos_OOOOOO0ccâcân_eos__eos_OOOOOOO0ccâcânc âân_eos__eos_OOOOOO0ccâcân_eos__eos_OOOOOOO0ccâcânc âân_eos__eos_OOOOOO0ccâcân_eos__eos_OOOOOOO0ccâcânc âân_eos__eos_OOOOOO0ccâcân_eos__eos_OOOOOOO0ccâcânc âân_eos__eos_OOOOOO0ccâcân_eos__eos_OOOOOOO0ccâcânc âân_eos__eos_OOOOOO0ccâcân_eos__eos_OOOOOOO0ccâcânc âân_eos__eos_OOOOOO0ccâcân_eos__eos_OOOOOOO0ccâcânc âân_eos__eos_OOOOOO0ccâcân_eos__eos_OOOOOOO0ccâcânc âân_eos__eos_OOOOOO0ccâcân_eos__eos_OOOOOOO0ccâcânc\n",
      " \n",
      "\n",
      "\n",
      "\n",
      " What  Does  a  Floating  Exchange  Rate  Really  Look  Like?                         \n",
      " À  quoi  ressemble  un  véritable  régime  de  changes  ﬂottants?                         \n",
      "tOOOOO0ccâcânccânc âân_eos__eos_OOOOOO0ccâcân_eos__eos_OOOOOOO0ccâcânc âân_eos__eos_OOOOOO0ccâcân_eos__eos_OOOOOOO0ccâcânc âân_eos__eos_OOOOOO0ccâcân_eos__eos_OOOOOOO0ccâcânc âân_eos__eos_OOOOOO0ccâcân_eos__eos_OOOOOOO0ccâcânc âân_eos__eos_OOOOOO0ccâcân_eos__eos_OOOOOOO0ccâcânc âân_eos__eos_OOOOOO0ccâcân_eos__eos_OOOOOOO0ccâcânc âân_eos__eos_OOOOOO0ccâcân_eos__eos_OOOOOOO0ccâcânc âân_eos__eos_OOOOOO0ccâcân_eos__eos_OOOOOOO0ccâcânc âân_eos__eos_OOOOOO0ccâcân_eos__eos_OOOOOOO0ccâcânc âân_eos__eos_OOOOOO0ccâcân_eos__eos_OOOOOOO0ccâcânc\n",
      " \n",
      "\n",
      "\n",
      "\n",
      " What  Does  the  Future  Hold  for  Native  Women  Aboriginal  Entitlement?                       \n",
      " What  Does  the  Future  Hold  for  Native  Women-Aboriginal  Entitlement  ?                       \n",
      "tOOOOO0ccâcânccânc âân_eos__eos_OOOOOO0ccâcân_eos__eos_OOOOOOO0ccâcânc âân_eos__eos_OOOOOO0ccâcân_eos__eos_OOOOOOO0ccâcânc âân_eos__eos_OOOOOO0ccâcân_eos__eos_OOOOOOO0ccâcânc âân_eos__eos_OOOOOO0ccâcân_eos__eos_OOOOOOO0ccâcânc âân_eos__eos_OOOOOO0ccâcân_eos__eos_OOOOOOO0ccâcânc âân_eos__eos_OOOOOO0ccâcân_eos__eos_OOOOOOO0ccâcânc âân_eos__eos_OOOOOO0ccâcân_eos__eos_OOOOOOO0ccâcânc âân_eos__eos_OOOOOO0ccâcân_eos__eos_OOOOOOO0ccâcânc âân_eos__eos_OOOOOO0ccâcân_eos__eos_OOOOOOO0ccâcânc âân_eos__eos_OOOOOO0ccâcân_eos__eos_OOOOOOO0ccâcânc\n",
      " \n",
      "\n",
      "\n",
      "\n",
      " What  EU  policies  do  you  need  information  about?                           \n",
      " Sur  quelles  politiques  de  l’Union  cherchez-vous  de  l’information?                           \n",
      "tOOOOO0ccâcânccânc âân_eos__eos_OOOOOO0ccâcân_eos__eos_OOOOOOO0ccâcânc âân_eos__eos_OOOOOO0ccâcân_eos__eos_OOOOOOO0ccâcânc âân_eos__eos_OOOOOO0ccâcân_eos__eos_OOOOOOO0ccâcânc âân_eos__eos_OOOOOO0ccâcân_eos__eos_OOOOOOO0ccâcânc âân_eos__eos_OOOOOO0ccâcân_eos__eos_OOOOOOO0ccâcânc âân_eos__eos_OOOOOO0ccâcân_eos__eos_OOOOOOO0ccâcânc âân_eos__eos_OOOOOO0ccâcân_eos__eos_OOOOOOO0ccâcânc âân_eos__eos_OOOOOO0ccâcân_eos__eos_OOOOOOO0ccâcânc âân_eos__eos_OOOOOO0ccâcân_eos__eos_OOOOOOO0ccâcânc âân_eos__eos_OOOOOO0ccâcân_eos__eos_OOOOOOO0ccâcânc\n"
     ]
    },
    {
     "name": "stdout",
     "output_type": "stream",
     "text": [
      " \n",
      "\n",
      "\n",
      "\n",
      " What  Has  Changed  Since  the  Early  1980s?                             \n",
      " What  Has  Changed  Since  the  Early  1980s?                             \n",
      "tOOOOO0ccâcânccânc âân_eos__eos_OOOOOO0ccâcân_eos__eos_OOOOOOO0ccâcânc âân_eos__eos_OOOOOO0ccâcân_eos__eos_OOOOOOO0ccâcânc âân_eos__eos_OOOOOO0ccâcân_eos__eos_OOOOOOO0ccâcânc âân_eos__eos_OOOOOO0ccâcân_eos__eos_OOOOOOO0ccâcânc âân_eos__eos_OOOOOO0ccâcân_eos__eos_OOOOOOO0ccâcânc âân_eos__eos_OOOOOO0ccâcân_eos__eos_OOOOOOO0ccâcânc âân_eos__eos_OOOOOO0ccâcân_eos__eos_OOOOOOO0ccâcânc âân_eos__eos_OOOOOO0ccâcân_eos__eos_OOOOOOO0ccâcânc âân_eos__eos_OOOOOO0ccâcân_eos__eos_OOOOOOO0ccâcânc âân_eos__eos_OOOOOO0ccâcân_eos__eos_OOOOOOO0ccâcânc\n",
      " \n",
      "\n",
      "\n",
      "\n"
     ]
    }
   ],
   "source": [
    "for i in range(0,13):\n",
    "    s = \"\"\n",
    "    for j in range(x.size()[0]):\n",
    "        temp_ch = x_itos[x[j,i]]\n",
    "        if(x[j,i] == 1): continue\n",
    "        elif((temp_ch == '$') or (temp_ch == '#')): s = s+\" \"\n",
    "        else : s = s+temp_ch\n",
    "    s += \"\\n\"\n",
    "    \n",
    "    for j in range(y.size()[0]):\n",
    "        temp_ch = y_itos[y[j,i]]\n",
    "        if(y[j,i] == 1): continue\n",
    "        elif((temp_ch == '$') or (temp_ch == '#')): s = s+\" \"\n",
    "        else : s = s+temp_ch\n",
    "    s += \"\\n\"\n",
    "    \n",
    "    for j in range(preds.shape[0]):\n",
    "        temp_ch = y_itos[preds[j,i]]\n",
    "        if(preds[j,i] == 1): continue\n",
    "        elif((temp_ch == '$') or (temp_ch == '#')): s = s+\" \"\n",
    "        else : s = s+temp_ch\n",
    "    s += \"\\n\"\n",
    "    \n",
    "    print(s,\"\\n\\n\\n\")"
   ]
  },
  {
   "cell_type": "code",
   "execution_count": null,
   "metadata": {},
   "outputs": [],
   "source": []
  },
  {
   "cell_type": "markdown",
   "metadata": {},
   "source": [
    "# testing one item "
   ]
  },
  {
   "cell_type": "markdown",
   "metadata": {},
   "source": [
    "##  Prepairing Data of it "
   ]
  },
  {
   "cell_type": "code",
   "execution_count": 159,
   "metadata": {},
   "outputs": [],
   "source": [
    "test_inp = \"what is that\""
   ]
  },
  {
   "cell_type": "code",
   "execution_count": 165,
   "metadata": {},
   "outputs": [
    {
     "data": {
      "text/html": [
       "<div>\n",
       "<style scoped>\n",
       "    .dataframe tbody tr th:only-of-type {\n",
       "        vertical-align: middle;\n",
       "    }\n",
       "\n",
       "    .dataframe tbody tr th {\n",
       "        vertical-align: top;\n",
       "    }\n",
       "\n",
       "    .dataframe thead th {\n",
       "        text-align: right;\n",
       "    }\n",
       "</style>\n",
       "<table border=\"1\" class=\"dataframe\">\n",
       "  <thead>\n",
       "    <tr style=\"text-align: right;\">\n",
       "      <th></th>\n",
       "      <th>0</th>\n",
       "      <th>1</th>\n",
       "      <th>2</th>\n",
       "    </tr>\n",
       "  </thead>\n",
       "  <tbody>\n",
       "    <tr>\n",
       "      <th>0</th>\n",
       "      <td>what</td>\n",
       "      <td>is</td>\n",
       "      <td>that</td>\n",
       "    </tr>\n",
       "  </tbody>\n",
       "</table>\n",
       "</div>"
      ],
      "text/plain": [
       "      0   1     2\n",
       "0  what  is  that"
      ]
     },
     "execution_count": 165,
     "metadata": {},
     "output_type": "execute_result"
    }
   ],
   "source": [
    "test_inp_df = pd.DataFrame(list(test_inp.split(\" \"))).transpose()\n",
    "test_inp_df"
   ]
  },
  {
   "cell_type": "code",
   "execution_count": 167,
   "metadata": {},
   "outputs": [
    {
     "data": {
      "text/html": [
       "<div>\n",
       "<style scoped>\n",
       "    .dataframe tbody tr th:only-of-type {\n",
       "        vertical-align: middle;\n",
       "    }\n",
       "\n",
       "    .dataframe tbody tr th {\n",
       "        vertical-align: top;\n",
       "    }\n",
       "\n",
       "    .dataframe thead th {\n",
       "        text-align: right;\n",
       "    }\n",
       "</style>\n",
       "<table border=\"1\" class=\"dataframe\">\n",
       "  <thead>\n",
       "    <tr style=\"text-align: right;\">\n",
       "      <th></th>\n",
       "      <th>0</th>\n",
       "      <th>1</th>\n",
       "      <th>2</th>\n",
       "      <th>3</th>\n",
       "      <th>4</th>\n",
       "      <th>5</th>\n",
       "      <th>6</th>\n",
       "      <th>7</th>\n",
       "      <th>8</th>\n",
       "      <th>9</th>\n",
       "      <th>...</th>\n",
       "      <th>11</th>\n",
       "      <th>12</th>\n",
       "      <th>13</th>\n",
       "      <th>14</th>\n",
       "      <th>15</th>\n",
       "      <th>16</th>\n",
       "      <th>17</th>\n",
       "      <th>18</th>\n",
       "      <th>19</th>\n",
       "      <th>20</th>\n",
       "    </tr>\n",
       "  </thead>\n",
       "  <tbody>\n",
       "    <tr>\n",
       "      <th>0</th>\n",
       "      <td>What</td>\n",
       "      <td>\"personality\"</td>\n",
       "      <td>does</td>\n",
       "      <td>it</td>\n",
       "      <td>have?</td>\n",
       "      <td>@@@@@@@@@@@@@@@@</td>\n",
       "      <td>@@@@@@@@@@@@@@@@</td>\n",
       "      <td>@@@@@@@@@@@@@@@@</td>\n",
       "      <td>@@@@@@@@@@@@@@@@</td>\n",
       "      <td>@@@@@@@@@@@@@@@@</td>\n",
       "      <td>...</td>\n",
       "      <td>@@@@@@@@@@@@@@@@</td>\n",
       "      <td>@@@@@@@@@@@@@@@@</td>\n",
       "      <td>@@@@@@@@@@@@@@@@</td>\n",
       "      <td>@@@@@@@@@@@@@@@@</td>\n",
       "      <td>@@@@@@@@@@@@@@@@</td>\n",
       "      <td>@@@@@@@@@@@@@@@@</td>\n",
       "      <td>@@@@@@@@@@@@@@@@</td>\n",
       "      <td>@@@@@@@@@@@@@@@@</td>\n",
       "      <td>@@@@@@@@@@@@@@@@</td>\n",
       "      <td>@@@@@@@@@@@@@@@@</td>\n",
       "    </tr>\n",
       "  </tbody>\n",
       "</table>\n",
       "<p>1 rows × 21 columns</p>\n",
       "</div>"
      ],
      "text/plain": [
       "     0              1     2   3      4                 5                 6   \\\n",
       "0  What  \"personality\"  does  it  have?  @@@@@@@@@@@@@@@@  @@@@@@@@@@@@@@@@   \n",
       "\n",
       "                 7                 8                 9         ...         \\\n",
       "0  @@@@@@@@@@@@@@@@  @@@@@@@@@@@@@@@@  @@@@@@@@@@@@@@@@        ...          \n",
       "\n",
       "                 11                12                13                14  \\\n",
       "0  @@@@@@@@@@@@@@@@  @@@@@@@@@@@@@@@@  @@@@@@@@@@@@@@@@  @@@@@@@@@@@@@@@@   \n",
       "\n",
       "                 15                16                17                18  \\\n",
       "0  @@@@@@@@@@@@@@@@  @@@@@@@@@@@@@@@@  @@@@@@@@@@@@@@@@  @@@@@@@@@@@@@@@@   \n",
       "\n",
       "                 19                20  \n",
       "0  @@@@@@@@@@@@@@@@  @@@@@@@@@@@@@@@@  \n",
       "\n",
       "[1 rows x 21 columns]"
      ]
     },
     "execution_count": 167,
     "metadata": {},
     "output_type": "execute_result"
    }
   ],
   "source": [
    "x_test_df = pd.DataFrame(x.iloc[0]).transpose()\n",
    "x_test_df"
   ]
  },
  {
   "cell_type": "code",
   "execution_count": 170,
   "metadata": {},
   "outputs": [
    {
     "data": {
      "text/html": [
       "<div>\n",
       "<style scoped>\n",
       "    .dataframe tbody tr th:only-of-type {\n",
       "        vertical-align: middle;\n",
       "    }\n",
       "\n",
       "    .dataframe tbody tr th {\n",
       "        vertical-align: top;\n",
       "    }\n",
       "\n",
       "    .dataframe thead th {\n",
       "        text-align: right;\n",
       "    }\n",
       "</style>\n",
       "<table border=\"1\" class=\"dataframe\">\n",
       "  <thead>\n",
       "    <tr style=\"text-align: right;\">\n",
       "      <th></th>\n",
       "      <th>0</th>\n",
       "      <th>1</th>\n",
       "      <th>2</th>\n",
       "      <th>3</th>\n",
       "      <th>4</th>\n",
       "      <th>5</th>\n",
       "      <th>6</th>\n",
       "      <th>7</th>\n",
       "      <th>8</th>\n",
       "      <th>9</th>\n",
       "      <th>...</th>\n",
       "      <th>11</th>\n",
       "      <th>12</th>\n",
       "      <th>13</th>\n",
       "      <th>14</th>\n",
       "      <th>15</th>\n",
       "      <th>16</th>\n",
       "      <th>17</th>\n",
       "      <th>18</th>\n",
       "      <th>19</th>\n",
       "      <th>20</th>\n",
       "    </tr>\n",
       "  </thead>\n",
       "  <tbody>\n",
       "    <tr>\n",
       "      <th>0</th>\n",
       "      <td>what</td>\n",
       "      <td>is</td>\n",
       "      <td>that</td>\n",
       "      <td>NaN</td>\n",
       "      <td>NaN</td>\n",
       "      <td>NaN</td>\n",
       "      <td>NaN</td>\n",
       "      <td>NaN</td>\n",
       "      <td>NaN</td>\n",
       "      <td>NaN</td>\n",
       "      <td>...</td>\n",
       "      <td>NaN</td>\n",
       "      <td>NaN</td>\n",
       "      <td>NaN</td>\n",
       "      <td>NaN</td>\n",
       "      <td>NaN</td>\n",
       "      <td>NaN</td>\n",
       "      <td>NaN</td>\n",
       "      <td>NaN</td>\n",
       "      <td>NaN</td>\n",
       "      <td>NaN</td>\n",
       "    </tr>\n",
       "    <tr>\n",
       "      <th>0</th>\n",
       "      <td>What</td>\n",
       "      <td>\"personality\"</td>\n",
       "      <td>does</td>\n",
       "      <td>it</td>\n",
       "      <td>have?</td>\n",
       "      <td>@@@@@@@@@@@@@@@@</td>\n",
       "      <td>@@@@@@@@@@@@@@@@</td>\n",
       "      <td>@@@@@@@@@@@@@@@@</td>\n",
       "      <td>@@@@@@@@@@@@@@@@</td>\n",
       "      <td>@@@@@@@@@@@@@@@@</td>\n",
       "      <td>...</td>\n",
       "      <td>@@@@@@@@@@@@@@@@</td>\n",
       "      <td>@@@@@@@@@@@@@@@@</td>\n",
       "      <td>@@@@@@@@@@@@@@@@</td>\n",
       "      <td>@@@@@@@@@@@@@@@@</td>\n",
       "      <td>@@@@@@@@@@@@@@@@</td>\n",
       "      <td>@@@@@@@@@@@@@@@@</td>\n",
       "      <td>@@@@@@@@@@@@@@@@</td>\n",
       "      <td>@@@@@@@@@@@@@@@@</td>\n",
       "      <td>@@@@@@@@@@@@@@@@</td>\n",
       "      <td>@@@@@@@@@@@@@@@@</td>\n",
       "    </tr>\n",
       "  </tbody>\n",
       "</table>\n",
       "<p>2 rows × 21 columns</p>\n",
       "</div>"
      ],
      "text/plain": [
       "     0              1     2    3      4                 5                 6   \\\n",
       "0  what             is  that  NaN    NaN               NaN               NaN   \n",
       "0  What  \"personality\"  does   it  have?  @@@@@@@@@@@@@@@@  @@@@@@@@@@@@@@@@   \n",
       "\n",
       "                 7                 8                 9         ...         \\\n",
       "0               NaN               NaN               NaN        ...          \n",
       "0  @@@@@@@@@@@@@@@@  @@@@@@@@@@@@@@@@  @@@@@@@@@@@@@@@@        ...          \n",
       "\n",
       "                 11                12                13                14  \\\n",
       "0               NaN               NaN               NaN               NaN   \n",
       "0  @@@@@@@@@@@@@@@@  @@@@@@@@@@@@@@@@  @@@@@@@@@@@@@@@@  @@@@@@@@@@@@@@@@   \n",
       "\n",
       "                 15                16                17                18  \\\n",
       "0               NaN               NaN               NaN               NaN   \n",
       "0  @@@@@@@@@@@@@@@@  @@@@@@@@@@@@@@@@  @@@@@@@@@@@@@@@@  @@@@@@@@@@@@@@@@   \n",
       "\n",
       "                 19                20  \n",
       "0               NaN               NaN  \n",
       "0  @@@@@@@@@@@@@@@@  @@@@@@@@@@@@@@@@  \n",
       "\n",
       "[2 rows x 21 columns]"
      ]
     },
     "execution_count": 170,
     "metadata": {},
     "output_type": "execute_result"
    }
   ],
   "source": [
    "df_x = pd.concat([test_inp_df,x_test_df] , axis = 0) \n",
    "df_x"
   ]
  },
  {
   "cell_type": "code",
   "execution_count": 172,
   "metadata": {},
   "outputs": [
    {
     "data": {
      "text/html": [
       "<div>\n",
       "<style scoped>\n",
       "    .dataframe tbody tr th:only-of-type {\n",
       "        vertical-align: middle;\n",
       "    }\n",
       "\n",
       "    .dataframe tbody tr th {\n",
       "        vertical-align: top;\n",
       "    }\n",
       "\n",
       "    .dataframe thead th {\n",
       "        text-align: right;\n",
       "    }\n",
       "</style>\n",
       "<table border=\"1\" class=\"dataframe\">\n",
       "  <thead>\n",
       "    <tr style=\"text-align: right;\">\n",
       "      <th></th>\n",
       "      <th>0</th>\n",
       "      <th>1</th>\n",
       "      <th>2</th>\n",
       "      <th>3</th>\n",
       "      <th>4</th>\n",
       "      <th>5</th>\n",
       "      <th>6</th>\n",
       "      <th>7</th>\n",
       "      <th>8</th>\n",
       "      <th>9</th>\n",
       "      <th>...</th>\n",
       "      <th>11</th>\n",
       "      <th>12</th>\n",
       "      <th>13</th>\n",
       "      <th>14</th>\n",
       "      <th>15</th>\n",
       "      <th>16</th>\n",
       "      <th>17</th>\n",
       "      <th>18</th>\n",
       "      <th>19</th>\n",
       "      <th>20</th>\n",
       "    </tr>\n",
       "  </thead>\n",
       "  <tbody>\n",
       "    <tr>\n",
       "      <th>0</th>\n",
       "      <td>what</td>\n",
       "      <td>is</td>\n",
       "      <td>that</td>\n",
       "      <td>@@@@@@@@@@@@@@@@</td>\n",
       "      <td>@@@@@@@@@@@@@@@@</td>\n",
       "      <td>@@@@@@@@@@@@@@@@</td>\n",
       "      <td>@@@@@@@@@@@@@@@@</td>\n",
       "      <td>@@@@@@@@@@@@@@@@</td>\n",
       "      <td>@@@@@@@@@@@@@@@@</td>\n",
       "      <td>@@@@@@@@@@@@@@@@</td>\n",
       "      <td>...</td>\n",
       "      <td>@@@@@@@@@@@@@@@@</td>\n",
       "      <td>@@@@@@@@@@@@@@@@</td>\n",
       "      <td>@@@@@@@@@@@@@@@@</td>\n",
       "      <td>@@@@@@@@@@@@@@@@</td>\n",
       "      <td>@@@@@@@@@@@@@@@@</td>\n",
       "      <td>@@@@@@@@@@@@@@@@</td>\n",
       "      <td>@@@@@@@@@@@@@@@@</td>\n",
       "      <td>@@@@@@@@@@@@@@@@</td>\n",
       "      <td>@@@@@@@@@@@@@@@@</td>\n",
       "      <td>@@@@@@@@@@@@@@@@</td>\n",
       "    </tr>\n",
       "    <tr>\n",
       "      <th>0</th>\n",
       "      <td>What</td>\n",
       "      <td>\"personality\"</td>\n",
       "      <td>does</td>\n",
       "      <td>it</td>\n",
       "      <td>have?</td>\n",
       "      <td>@@@@@@@@@@@@@@@@</td>\n",
       "      <td>@@@@@@@@@@@@@@@@</td>\n",
       "      <td>@@@@@@@@@@@@@@@@</td>\n",
       "      <td>@@@@@@@@@@@@@@@@</td>\n",
       "      <td>@@@@@@@@@@@@@@@@</td>\n",
       "      <td>...</td>\n",
       "      <td>@@@@@@@@@@@@@@@@</td>\n",
       "      <td>@@@@@@@@@@@@@@@@</td>\n",
       "      <td>@@@@@@@@@@@@@@@@</td>\n",
       "      <td>@@@@@@@@@@@@@@@@</td>\n",
       "      <td>@@@@@@@@@@@@@@@@</td>\n",
       "      <td>@@@@@@@@@@@@@@@@</td>\n",
       "      <td>@@@@@@@@@@@@@@@@</td>\n",
       "      <td>@@@@@@@@@@@@@@@@</td>\n",
       "      <td>@@@@@@@@@@@@@@@@</td>\n",
       "      <td>@@@@@@@@@@@@@@@@</td>\n",
       "    </tr>\n",
       "  </tbody>\n",
       "</table>\n",
       "<p>2 rows × 21 columns</p>\n",
       "</div>"
      ],
      "text/plain": [
       "     0              1     2                 3                 4   \\\n",
       "0  what             is  that  @@@@@@@@@@@@@@@@  @@@@@@@@@@@@@@@@   \n",
       "0  What  \"personality\"  does                it             have?   \n",
       "\n",
       "                 5                 6                 7                 8   \\\n",
       "0  @@@@@@@@@@@@@@@@  @@@@@@@@@@@@@@@@  @@@@@@@@@@@@@@@@  @@@@@@@@@@@@@@@@   \n",
       "0  @@@@@@@@@@@@@@@@  @@@@@@@@@@@@@@@@  @@@@@@@@@@@@@@@@  @@@@@@@@@@@@@@@@   \n",
       "\n",
       "                 9         ...                       11                12  \\\n",
       "0  @@@@@@@@@@@@@@@@        ...         @@@@@@@@@@@@@@@@  @@@@@@@@@@@@@@@@   \n",
       "0  @@@@@@@@@@@@@@@@        ...         @@@@@@@@@@@@@@@@  @@@@@@@@@@@@@@@@   \n",
       "\n",
       "                 13                14                15                16  \\\n",
       "0  @@@@@@@@@@@@@@@@  @@@@@@@@@@@@@@@@  @@@@@@@@@@@@@@@@  @@@@@@@@@@@@@@@@   \n",
       "0  @@@@@@@@@@@@@@@@  @@@@@@@@@@@@@@@@  @@@@@@@@@@@@@@@@  @@@@@@@@@@@@@@@@   \n",
       "\n",
       "                 17                18                19                20  \n",
       "0  @@@@@@@@@@@@@@@@  @@@@@@@@@@@@@@@@  @@@@@@@@@@@@@@@@  @@@@@@@@@@@@@@@@  \n",
       "0  @@@@@@@@@@@@@@@@  @@@@@@@@@@@@@@@@  @@@@@@@@@@@@@@@@  @@@@@@@@@@@@@@@@  \n",
       "\n",
       "[2 rows x 21 columns]"
      ]
     },
     "execution_count": 172,
     "metadata": {},
     "output_type": "execute_result"
    }
   ],
   "source": [
    "df_x.fillna(value=x_padding, inplace=True)\n",
    "df_x"
   ]
  },
  {
   "cell_type": "code",
   "execution_count": 175,
   "metadata": {},
   "outputs": [],
   "source": [
    "np_x_test = df_x.values"
   ]
  },
  {
   "cell_type": "code",
   "execution_count": 179,
   "metadata": {},
   "outputs": [
    {
     "data": {
      "text/html": [
       "<div>\n",
       "<style scoped>\n",
       "    .dataframe tbody tr th:only-of-type {\n",
       "        vertical-align: middle;\n",
       "    }\n",
       "\n",
       "    .dataframe tbody tr th {\n",
       "        vertical-align: top;\n",
       "    }\n",
       "\n",
       "    .dataframe thead th {\n",
       "        text-align: right;\n",
       "    }\n",
       "</style>\n",
       "<table border=\"1\" class=\"dataframe\">\n",
       "  <thead>\n",
       "    <tr style=\"text-align: right;\">\n",
       "      <th></th>\n",
       "      <th>0</th>\n",
       "    </tr>\n",
       "  </thead>\n",
       "  <tbody>\n",
       "    <tr>\n",
       "      <th>0</th>\n",
       "      <td>what</td>\n",
       "    </tr>\n",
       "    <tr>\n",
       "      <th>1</th>\n",
       "      <td>is</td>\n",
       "    </tr>\n",
       "    <tr>\n",
       "      <th>2</th>\n",
       "      <td>that</td>\n",
       "    </tr>\n",
       "    <tr>\n",
       "      <th>3</th>\n",
       "      <td>@@@@@@@@@@@@@@@@</td>\n",
       "    </tr>\n",
       "  </tbody>\n",
       "</table>\n",
       "</div>"
      ],
      "text/plain": [
       "                  0\n",
       "0              what\n",
       "1                is\n",
       "2              that\n",
       "3  @@@@@@@@@@@@@@@@"
      ]
     },
     "execution_count": 179,
     "metadata": {},
     "output_type": "execute_result"
    }
   ],
   "source": [
    "new_x_test = pd.DataFrame(np_x_test.reshape(-1,1))\n",
    "new_x_test.head(4)"
   ]
  },
  {
   "cell_type": "code",
   "execution_count": 180,
   "metadata": {},
   "outputs": [],
   "source": [
    "edited_x_test = pd.DataFrame(list(new_x_test[0].apply(lambda x: \"$\" + x + \"#\" )))"
   ]
  },
  {
   "cell_type": "code",
   "execution_count": 181,
   "metadata": {},
   "outputs": [
    {
     "data": {
      "text/html": [
       "<div>\n",
       "<style scoped>\n",
       "    .dataframe tbody tr th:only-of-type {\n",
       "        vertical-align: middle;\n",
       "    }\n",
       "\n",
       "    .dataframe tbody tr th {\n",
       "        vertical-align: top;\n",
       "    }\n",
       "\n",
       "    .dataframe thead th {\n",
       "        text-align: right;\n",
       "    }\n",
       "</style>\n",
       "<table border=\"1\" class=\"dataframe\">\n",
       "  <thead>\n",
       "    <tr style=\"text-align: right;\">\n",
       "      <th></th>\n",
       "      <th>0</th>\n",
       "    </tr>\n",
       "  </thead>\n",
       "  <tbody>\n",
       "    <tr>\n",
       "      <th>0</th>\n",
       "      <td>$what#</td>\n",
       "    </tr>\n",
       "    <tr>\n",
       "      <th>1</th>\n",
       "      <td>$is#</td>\n",
       "    </tr>\n",
       "    <tr>\n",
       "      <th>2</th>\n",
       "      <td>$that#</td>\n",
       "    </tr>\n",
       "    <tr>\n",
       "      <th>3</th>\n",
       "      <td>$@@@@@@@@@@@@@@@@#</td>\n",
       "    </tr>\n",
       "  </tbody>\n",
       "</table>\n",
       "</div>"
      ],
      "text/plain": [
       "                    0\n",
       "0              $what#\n",
       "1                $is#\n",
       "2              $that#\n",
       "3  $@@@@@@@@@@@@@@@@#"
      ]
     },
     "execution_count": 181,
     "metadata": {},
     "output_type": "execute_result"
    }
   ],
   "source": [
    "edited_x_test.head(4)"
   ]
  },
  {
   "cell_type": "code",
   "execution_count": 183,
   "metadata": {},
   "outputs": [
    {
     "data": {
      "text/html": [
       "<div>\n",
       "<style scoped>\n",
       "    .dataframe tbody tr th:only-of-type {\n",
       "        vertical-align: middle;\n",
       "    }\n",
       "\n",
       "    .dataframe tbody tr th {\n",
       "        vertical-align: top;\n",
       "    }\n",
       "\n",
       "    .dataframe thead th {\n",
       "        text-align: right;\n",
       "    }\n",
       "</style>\n",
       "<table border=\"1\" class=\"dataframe\">\n",
       "  <thead>\n",
       "    <tr style=\"text-align: right;\">\n",
       "      <th></th>\n",
       "      <th>0</th>\n",
       "      <th>1</th>\n",
       "      <th>2</th>\n",
       "      <th>3</th>\n",
       "      <th>4</th>\n",
       "      <th>5</th>\n",
       "      <th>6</th>\n",
       "      <th>7</th>\n",
       "      <th>8</th>\n",
       "      <th>9</th>\n",
       "      <th>10</th>\n",
       "      <th>11</th>\n",
       "      <th>12</th>\n",
       "      <th>13</th>\n",
       "      <th>14</th>\n",
       "      <th>15</th>\n",
       "      <th>16</th>\n",
       "      <th>17</th>\n",
       "    </tr>\n",
       "  </thead>\n",
       "  <tbody>\n",
       "    <tr>\n",
       "      <th>0</th>\n",
       "      <td>$</td>\n",
       "      <td>w</td>\n",
       "      <td>h</td>\n",
       "      <td>a</td>\n",
       "      <td>t</td>\n",
       "      <td>#</td>\n",
       "      <td>None</td>\n",
       "      <td>None</td>\n",
       "      <td>None</td>\n",
       "      <td>None</td>\n",
       "      <td>None</td>\n",
       "      <td>None</td>\n",
       "      <td>None</td>\n",
       "      <td>None</td>\n",
       "      <td>None</td>\n",
       "      <td>None</td>\n",
       "      <td>None</td>\n",
       "      <td>None</td>\n",
       "    </tr>\n",
       "    <tr>\n",
       "      <th>1</th>\n",
       "      <td>$</td>\n",
       "      <td>i</td>\n",
       "      <td>s</td>\n",
       "      <td>#</td>\n",
       "      <td>None</td>\n",
       "      <td>None</td>\n",
       "      <td>None</td>\n",
       "      <td>None</td>\n",
       "      <td>None</td>\n",
       "      <td>None</td>\n",
       "      <td>None</td>\n",
       "      <td>None</td>\n",
       "      <td>None</td>\n",
       "      <td>None</td>\n",
       "      <td>None</td>\n",
       "      <td>None</td>\n",
       "      <td>None</td>\n",
       "      <td>None</td>\n",
       "    </tr>\n",
       "  </tbody>\n",
       "</table>\n",
       "</div>"
      ],
      "text/plain": [
       "  0  1  2  3     4     5     6     7     8     9     10    11    12    13  \\\n",
       "0  $  w  h  a     t     #  None  None  None  None  None  None  None  None   \n",
       "1  $  i  s  #  None  None  None  None  None  None  None  None  None  None   \n",
       "\n",
       "     14    15    16    17  \n",
       "0  None  None  None  None  \n",
       "1  None  None  None  None  "
      ]
     },
     "execution_count": 183,
     "metadata": {},
     "output_type": "execute_result"
    }
   ],
   "source": [
    "char_x_test = pd.DataFrame(list(edited_x_test[0].apply(lambda x: list(x))))\n",
    "char_x_test.head(2)"
   ]
  },
  {
   "cell_type": "code",
   "execution_count": 184,
   "metadata": {},
   "outputs": [],
   "source": [
    "char_x_test.fillna(value=\"@\", inplace=True)"
   ]
  },
  {
   "cell_type": "code",
   "execution_count": 185,
   "metadata": {},
   "outputs": [
    {
     "data": {
      "text/html": [
       "<div>\n",
       "<style scoped>\n",
       "    .dataframe tbody tr th:only-of-type {\n",
       "        vertical-align: middle;\n",
       "    }\n",
       "\n",
       "    .dataframe tbody tr th {\n",
       "        vertical-align: top;\n",
       "    }\n",
       "\n",
       "    .dataframe thead th {\n",
       "        text-align: right;\n",
       "    }\n",
       "</style>\n",
       "<table border=\"1\" class=\"dataframe\">\n",
       "  <thead>\n",
       "    <tr style=\"text-align: right;\">\n",
       "      <th></th>\n",
       "      <th>0</th>\n",
       "      <th>1</th>\n",
       "      <th>2</th>\n",
       "      <th>3</th>\n",
       "      <th>4</th>\n",
       "      <th>5</th>\n",
       "      <th>6</th>\n",
       "      <th>7</th>\n",
       "      <th>8</th>\n",
       "      <th>9</th>\n",
       "      <th>10</th>\n",
       "      <th>11</th>\n",
       "      <th>12</th>\n",
       "      <th>13</th>\n",
       "      <th>14</th>\n",
       "      <th>15</th>\n",
       "      <th>16</th>\n",
       "      <th>17</th>\n",
       "    </tr>\n",
       "  </thead>\n",
       "  <tbody>\n",
       "    <tr>\n",
       "      <th>0</th>\n",
       "      <td>$</td>\n",
       "      <td>w</td>\n",
       "      <td>h</td>\n",
       "      <td>a</td>\n",
       "      <td>t</td>\n",
       "      <td>#</td>\n",
       "      <td>@</td>\n",
       "      <td>@</td>\n",
       "      <td>@</td>\n",
       "      <td>@</td>\n",
       "      <td>@</td>\n",
       "      <td>@</td>\n",
       "      <td>@</td>\n",
       "      <td>@</td>\n",
       "      <td>@</td>\n",
       "      <td>@</td>\n",
       "      <td>@</td>\n",
       "      <td>@</td>\n",
       "    </tr>\n",
       "    <tr>\n",
       "      <th>1</th>\n",
       "      <td>$</td>\n",
       "      <td>i</td>\n",
       "      <td>s</td>\n",
       "      <td>#</td>\n",
       "      <td>@</td>\n",
       "      <td>@</td>\n",
       "      <td>@</td>\n",
       "      <td>@</td>\n",
       "      <td>@</td>\n",
       "      <td>@</td>\n",
       "      <td>@</td>\n",
       "      <td>@</td>\n",
       "      <td>@</td>\n",
       "      <td>@</td>\n",
       "      <td>@</td>\n",
       "      <td>@</td>\n",
       "      <td>@</td>\n",
       "      <td>@</td>\n",
       "    </tr>\n",
       "  </tbody>\n",
       "</table>\n",
       "</div>"
      ],
      "text/plain": [
       "  0  1  2  3  4  5  6  7  8  9  10 11 12 13 14 15 16 17\n",
       "0  $  w  h  a  t  #  @  @  @  @  @  @  @  @  @  @  @  @\n",
       "1  $  i  s  #  @  @  @  @  @  @  @  @  @  @  @  @  @  @"
      ]
     },
     "execution_count": 185,
     "metadata": {},
     "output_type": "execute_result"
    }
   ],
   "source": [
    "char_x_test.head(2)"
   ]
  },
  {
   "cell_type": "code",
   "execution_count": 186,
   "metadata": {},
   "outputs": [
    {
     "data": {
      "text/html": [
       "<div>\n",
       "<style scoped>\n",
       "    .dataframe tbody tr th:only-of-type {\n",
       "        vertical-align: middle;\n",
       "    }\n",
       "\n",
       "    .dataframe tbody tr th {\n",
       "        vertical-align: top;\n",
       "    }\n",
       "\n",
       "    .dataframe thead th {\n",
       "        text-align: right;\n",
       "    }\n",
       "</style>\n",
       "<table border=\"1\" class=\"dataframe\">\n",
       "  <thead>\n",
       "    <tr style=\"text-align: right;\">\n",
       "      <th></th>\n",
       "      <th>0</th>\n",
       "      <th>1</th>\n",
       "      <th>2</th>\n",
       "      <th>3</th>\n",
       "      <th>4</th>\n",
       "      <th>5</th>\n",
       "      <th>6</th>\n",
       "      <th>7</th>\n",
       "      <th>8</th>\n",
       "      <th>9</th>\n",
       "      <th>...</th>\n",
       "      <th>368</th>\n",
       "      <th>369</th>\n",
       "      <th>370</th>\n",
       "      <th>371</th>\n",
       "      <th>372</th>\n",
       "      <th>373</th>\n",
       "      <th>374</th>\n",
       "      <th>375</th>\n",
       "      <th>376</th>\n",
       "      <th>377</th>\n",
       "    </tr>\n",
       "  </thead>\n",
       "  <tbody>\n",
       "    <tr>\n",
       "      <th>0</th>\n",
       "      <td>$</td>\n",
       "      <td>w</td>\n",
       "      <td>h</td>\n",
       "      <td>a</td>\n",
       "      <td>t</td>\n",
       "      <td>#</td>\n",
       "      <td>@</td>\n",
       "      <td>@</td>\n",
       "      <td>@</td>\n",
       "      <td>@</td>\n",
       "      <td>...</td>\n",
       "      <td>@</td>\n",
       "      <td>@</td>\n",
       "      <td>@</td>\n",
       "      <td>@</td>\n",
       "      <td>@</td>\n",
       "      <td>@</td>\n",
       "      <td>@</td>\n",
       "      <td>@</td>\n",
       "      <td>@</td>\n",
       "      <td>#</td>\n",
       "    </tr>\n",
       "    <tr>\n",
       "      <th>1</th>\n",
       "      <td>$</td>\n",
       "      <td>W</td>\n",
       "      <td>h</td>\n",
       "      <td>a</td>\n",
       "      <td>t</td>\n",
       "      <td>#</td>\n",
       "      <td>@</td>\n",
       "      <td>@</td>\n",
       "      <td>@</td>\n",
       "      <td>@</td>\n",
       "      <td>...</td>\n",
       "      <td>@</td>\n",
       "      <td>@</td>\n",
       "      <td>@</td>\n",
       "      <td>@</td>\n",
       "      <td>@</td>\n",
       "      <td>@</td>\n",
       "      <td>@</td>\n",
       "      <td>@</td>\n",
       "      <td>@</td>\n",
       "      <td>#</td>\n",
       "    </tr>\n",
       "  </tbody>\n",
       "</table>\n",
       "<p>2 rows × 378 columns</p>\n",
       "</div>"
      ],
      "text/plain": [
       "  0   1   2   3   4   5   6   7   8   9   ... 368 369 370 371 372 373 374 375  \\\n",
       "0   $   w   h   a   t   #   @   @   @   @ ...   @   @   @   @   @   @   @   @   \n",
       "1   $   W   h   a   t   #   @   @   @   @ ...   @   @   @   @   @   @   @   @   \n",
       "\n",
       "  376 377  \n",
       "0   @   #  \n",
       "1   @   #  \n",
       "\n",
       "[2 rows x 378 columns]"
      ]
     },
     "execution_count": 186,
     "metadata": {},
     "output_type": "execute_result"
    }
   ],
   "source": [
    "last_x_test = pd.DataFrame(char_x_test.values.reshape(2 , -1))\n",
    "last_x_test"
   ]
  },
  {
   "cell_type": "code",
   "execution_count": 189,
   "metadata": {},
   "outputs": [],
   "source": [
    "np_x_test_item = last_x_test.loc[0].values"
   ]
  },
  {
   "cell_type": "code",
   "execution_count": 190,
   "metadata": {},
   "outputs": [],
   "source": [
    "itos = pickle.load(open(TMP_PATH/f'x_itos.pkl', 'rb'))\n",
    "stoi = collections.defaultdict(lambda: 3, {v:k for k,v in enumerate(itos)})"
   ]
  },
  {
   "cell_type": "code",
   "execution_count": 206,
   "metadata": {},
   "outputs": [],
   "source": [
    "test_x_ids = np.array([[stoi[o] for o in p] for p in np_x_test_item])\n",
    "test_x_ids = test_x_ids.reshape(-1,1)"
   ]
  },
  {
   "cell_type": "code",
   "execution_count": 207,
   "metadata": {},
   "outputs": [
    {
     "data": {
      "text/plain": [
       "torch.Size([378, 1])"
      ]
     },
     "execution_count": 207,
     "metadata": {},
     "output_type": "execute_result"
    }
   ],
   "source": [
    "t_test_x_ids = T(test_x_ids)\n",
    "t_test_x_ids.size()"
   ]
  },
  {
   "cell_type": "code",
   "execution_count": 239,
   "metadata": {},
   "outputs": [],
   "source": [
    "probs = learn.model(V(t_test_x_ids))"
   ]
  },
  {
   "cell_type": "code",
   "execution_count": 240,
   "metadata": {},
   "outputs": [
    {
     "data": {
      "text/plain": [
       "torch.Size([378, 1, 79])"
      ]
     },
     "execution_count": 240,
     "metadata": {},
     "output_type": "execute_result"
    }
   ],
   "source": [
    "probs.size()"
   ]
  },
  {
   "cell_type": "code",
   "execution_count": 241,
   "metadata": {},
   "outputs": [
    {
     "data": {
      "text/plain": [
       "(378, 1)"
      ]
     },
     "execution_count": 241,
     "metadata": {},
     "output_type": "execute_result"
    }
   ],
   "source": [
    "preds = to_np(probs.max(2)[1])\n",
    "preds.shape"
   ]
  },
  {
   "cell_type": "code",
   "execution_count": 246,
   "metadata": {},
   "outputs": [
    {
     "name": "stdout",
     "output_type": "stream",
     "text": [
      " what  is  that                                     \n",
      "tOOOOO0ccâcânccânc âân_eos__eos_OOOOOO0ccâcân_eos__eos_OOOOOOO0ccâcâncânccânccânccânccâncccâânccânccânccâncccâânccânccânccâncccâânccânccânccâncccâânccânccânccâncccâânccânccânccâncccâânccânccânccâncccâânccânccânccâncccâânccânccânccâncccâânccânccânccâncccâânccânccânccâncccâânccânccânccâncccâânccânccânccâncccâânccânccânccâncccâânccânccânccâncccâânccânccânccâncccâânccânccânccâncccâânccânccânccân\n",
      " \n",
      "\n",
      "\n",
      "\n"
     ]
    }
   ],
   "source": [
    "for i in range(0,t_test_x_ids.size()[1]):\n",
    "    s = \"\"\n",
    "    for j in range(t_test_x_ids.size()[0]):\n",
    "        temp_ch = x_itos[t_test_x_ids[j,i]]\n",
    "        if(t_test_x_ids[j,i] == 1): continue\n",
    "        elif((temp_ch == '$') or (temp_ch == '#')): s = s+\" \"\n",
    "        else : s = s+temp_ch\n",
    "    s += \"\\n\"\n",
    "    \n",
    "    for j in range(preds.shape[0]):\n",
    "        temp_ch = y_itos[preds[j,i]]\n",
    "        if(preds[j,i] == 1): continue\n",
    "        elif((temp_ch == '$') or (temp_ch == '#')): s = s+\" \"\n",
    "        else : s = s+temp_ch\n",
    "    s += \"\\n\"\n",
    "    \n",
    "    print(s,\"\\n\\n\\n\")"
   ]
  },
  {
   "cell_type": "code",
   "execution_count": null,
   "metadata": {},
   "outputs": [],
   "source": []
  },
  {
   "cell_type": "code",
   "execution_count": null,
   "metadata": {},
   "outputs": [],
   "source": []
  },
  {
   "cell_type": "code",
   "execution_count": null,
   "metadata": {},
   "outputs": [],
   "source": []
  },
  {
   "cell_type": "code",
   "execution_count": null,
   "metadata": {},
   "outputs": [],
   "source": []
  },
  {
   "cell_type": "code",
   "execution_count": null,
   "metadata": {},
   "outputs": [],
   "source": []
  },
  {
   "cell_type": "code",
   "execution_count": null,
   "metadata": {},
   "outputs": [],
   "source": []
  },
  {
   "cell_type": "code",
   "execution_count": null,
   "metadata": {},
   "outputs": [],
   "source": []
  },
  {
   "cell_type": "code",
   "execution_count": null,
   "metadata": {},
   "outputs": [],
   "source": []
  },
  {
   "cell_type": "code",
   "execution_count": null,
   "metadata": {},
   "outputs": [],
   "source": []
  },
  {
   "cell_type": "code",
   "execution_count": null,
   "metadata": {},
   "outputs": [],
   "source": []
  },
  {
   "cell_type": "code",
   "execution_count": null,
   "metadata": {},
   "outputs": [],
   "source": []
  }
 ],
 "metadata": {
  "kernelspec": {
   "display_name": "Python 3",
   "language": "python",
   "name": "python3"
  },
  "language_info": {
   "codemirror_mode": {
    "name": "ipython",
    "version": 3
   },
   "file_extension": ".py",
   "mimetype": "text/x-python",
   "name": "python",
   "nbconvert_exporter": "python",
   "pygments_lexer": "ipython3",
   "version": "3.6.7"
  }
 },
 "nbformat": 4,
 "nbformat_minor": 2
}
